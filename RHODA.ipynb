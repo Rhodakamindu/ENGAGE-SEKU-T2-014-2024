{
 "cells": [
  {
   "cell_type": "code",
   "execution_count": 1,
   "id": "42950e9a-98df-46ad-bbf9-300d84e0b246",
   "metadata": {},
   "outputs": [
    {
     "name": "stdout",
     "output_type": "stream",
     "text": [
      "age\n"
     ]
    }
   ],
   "source": [
    "age=22\n",
    "print('age')"
   ]
  },
  {
   "cell_type": "code",
   "execution_count": 1,
   "id": "ac3941cb-e775-4b0c-b205-9e98a79d898d",
   "metadata": {},
   "outputs": [
    {
     "name": "stdout",
     "output_type": "stream",
     "text": [
      "name\n"
     ]
    }
   ],
   "source": [
    "name='rhoda'\n",
    "print('name')"
   ]
  },
  {
   "cell_type": "code",
   "execution_count": 1,
   "id": "9bdab06b-defa-4e66-8d9e-4ddb43471a39",
   "metadata": {
    "scrolled": true
   },
   "outputs": [
    {
     "name": "stdin",
     "output_type": "stream",
     "text": [
      "Enter the lenth 22\n",
      "Enter the width 16\n"
     ]
    },
    {
     "name": "stdout",
     "output_type": "stream",
     "text": [
      "area is: 352\n",
      "perimeter is: 76\n"
     ]
    }
   ],
   "source": [
    "length= int(input(\"Enter the lenth\"))\n",
    "width =int(input(\"Enter the width\"))\n",
    "area=(length*width)\n",
    "perimeter= 2*(length+width)\n",
    "print('area is:', area)\n",
    "print('perimeter is:', perimeter)"
   ]
  },
  {
   "cell_type": "code",
   "execution_count": null,
   "id": "4329b858-21c9-446b-b719-d08e9c3461a7",
   "metadata": {},
   "outputs": [
    {
     "name": "stdin",
     "output_type": "stream",
     "text": [
      "Enter your year of birth 2006\n"
     ]
    }
   ],
   "source": [
    "YOB= int(input(\"Enter your year of birth\"))\n",
    "Current=2024\n",
    "age=Current-YOB\n",
    "print(\"your age is:\", age)\n",
    "if age>18:\n",
    " print(\"age is adult\")\n",
    "else:\n",
    " print(\"age is a child\")"
   ]
  },
  {
   "cell_type": "code",
   "execution_count": 2,
   "id": "c4bb3293-72db-446a-b44b-cd44c10eecb7",
   "metadata": {},
   "outputs": [
    {
     "name": "stdout",
     "output_type": "stream",
     "text": [
      "X is not positive\n"
     ]
    }
   ],
   "source": [
    "X=-5\n",
    "if X>0:\n",
    " print(\"X is positive\")\n",
    "else:\n",
    " print(\"X is not positive\")"
   ]
  },
  {
   "cell_type": "code",
   "execution_count": 3,
   "id": "3cfe8106-01aa-40e2-9ac6-0ff151b2a4bd",
   "metadata": {},
   "outputs": [
    {
     "name": "stdout",
     "output_type": "stream",
     "text": [
      "0\n",
      "1\n",
      "2\n",
      "3\n",
      "4\n"
     ]
    }
   ],
   "source": [
    "i=0\n",
    "while i<5:\n",
    "    print(i)\n",
    "    i+=1"
   ]
  },
  {
   "cell_type": "code",
   "execution_count": 4,
   "id": "6f10d0f9-0cbc-40fe-b090-dfc7dc767559",
   "metadata": {},
   "outputs": [
    {
     "name": "stdout",
     "output_type": "stream",
     "text": [
      "1\n",
      "2\n",
      "3\n",
      "4\n",
      "5\n",
      "6\n",
      "7\n",
      "8\n",
      "9\n",
      "10\n"
     ]
    }
   ],
   "source": [
    " i=1\n",
    "while i<=10:\n",
    "    print(i)\n",
    "    i+=1"
   ]
  },
  {
   "cell_type": "code",
   "execution_count": null,
   "id": "90395567-f514-4496-8c4b-8bef6a0c54ce",
   "metadata": {},
   "outputs": [
    {
     "name": "stdin",
     "output_type": "stream",
     "text": [
      "Enter the num 1\n"
     ]
    },
    {
     "name": "stdout",
     "output_type": "stream",
     "text": [
      "1\n"
     ]
    },
    {
     "name": "stdin",
     "output_type": "stream",
     "text": [
      "Enter the num 2\n"
     ]
    },
    {
     "name": "stdout",
     "output_type": "stream",
     "text": [
      "3\n"
     ]
    },
    {
     "name": "stdin",
     "output_type": "stream",
     "text": [
      "Enter the num 3\n"
     ]
    },
    {
     "name": "stdout",
     "output_type": "stream",
     "text": [
      "6\n"
     ]
    },
    {
     "name": "stdin",
     "output_type": "stream",
     "text": [
      "Enter the num 4\n"
     ]
    },
    {
     "name": "stdout",
     "output_type": "stream",
     "text": [
      "10\n"
     ]
    }
   ],
   "source": [
    "sum=0\n",
    "i=1\n",
    "while i<10:\n",
    "    num=int(input(\"Enter the num\"))\n",
    "    sum+=num\n",
    "    i+=1\n",
    "    print(sum)"
   ]
  },
  {
   "cell_type": "code",
   "execution_count": 8,
   "id": "a087deee-55f2-4029-9fb7-28026fd5e637",
   "metadata": {},
   "outputs": [
    {
     "data": {
      "text/html": [
       "<div>\n",
       "<style scoped>\n",
       "    .dataframe tbody tr th:only-of-type {\n",
       "        vertical-align: middle;\n",
       "    }\n",
       "\n",
       "    .dataframe tbody tr th {\n",
       "        vertical-align: top;\n",
       "    }\n",
       "\n",
       "    .dataframe thead th {\n",
       "        text-align: right;\n",
       "    }\n",
       "</style>\n",
       "<table border=\"1\" class=\"dataframe\">\n",
       "  <thead>\n",
       "    <tr style=\"text-align: right;\">\n",
       "      <th></th>\n",
       "      <th>Child participated in POLIO campaign August 2013</th>\n",
       "      <th>diarrhea_status</th>\n",
       "      <th>weight</th>\n",
       "      <th>height</th>\n",
       "      <th>residence</th>\n",
       "      <th>Sex</th>\n",
       "      <th>age</th>\n",
       "      <th>age_category</th>\n",
       "      <th>education</th>\n",
       "      <th>wealth_index</th>\n",
       "    </tr>\n",
       "  </thead>\n",
       "  <tbody>\n",
       "    <tr>\n",
       "      <th>0</th>\n",
       "      <td>1</td>\n",
       "      <td>No</td>\n",
       "      <td>16.2</td>\n",
       "      <td>102.4</td>\n",
       "      <td>Rural</td>\n",
       "      <td>Female</td>\n",
       "      <td>45</td>\n",
       "      <td>36-47</td>\n",
       "      <td>Secondary+</td>\n",
       "      <td>Richest</td>\n",
       "    </tr>\n",
       "    <tr>\n",
       "      <th>1</th>\n",
       "      <td>1</td>\n",
       "      <td>No</td>\n",
       "      <td>13.5</td>\n",
       "      <td>92.5</td>\n",
       "      <td>Rural</td>\n",
       "      <td>Male</td>\n",
       "      <td>45</td>\n",
       "      <td>36-47</td>\n",
       "      <td>Primary</td>\n",
       "      <td>Second</td>\n",
       "    </tr>\n",
       "    <tr>\n",
       "      <th>2</th>\n",
       "      <td>1</td>\n",
       "      <td>No</td>\n",
       "      <td>13.4</td>\n",
       "      <td>88.5</td>\n",
       "      <td>Rural</td>\n",
       "      <td>Male</td>\n",
       "      <td>36</td>\n",
       "      <td>36-47</td>\n",
       "      <td>Primary</td>\n",
       "      <td>Fourth</td>\n",
       "    </tr>\n",
       "    <tr>\n",
       "      <th>3</th>\n",
       "      <td>1</td>\n",
       "      <td>No</td>\n",
       "      <td>15.0</td>\n",
       "      <td>101.3</td>\n",
       "      <td>Rural</td>\n",
       "      <td>Female</td>\n",
       "      <td>51</td>\n",
       "      <td>48-59</td>\n",
       "      <td>Primary</td>\n",
       "      <td>Fourth</td>\n",
       "    </tr>\n",
       "    <tr>\n",
       "      <th>4</th>\n",
       "      <td>1</td>\n",
       "      <td>No</td>\n",
       "      <td>15.2</td>\n",
       "      <td>105.0</td>\n",
       "      <td>Rural</td>\n",
       "      <td>Female</td>\n",
       "      <td>56</td>\n",
       "      <td>48-59</td>\n",
       "      <td>Primary</td>\n",
       "      <td>Fourth</td>\n",
       "    </tr>\n",
       "  </tbody>\n",
       "</table>\n",
       "</div>"
      ],
      "text/plain": [
       "   Child participated in POLIO campaign August 2013  diarrhea_status  weight  \\\n",
       "0                                                 1               No    16.2   \n",
       "1                                                 1               No    13.5   \n",
       "2                                                 1               No    13.4   \n",
       "3                                                 1               No    15.0   \n",
       "4                                                 1               No    15.2   \n",
       "\n",
       "   height residence     Sex  age age_category   education wealth_index  \n",
       "0   102.4     Rural  Female   45        36-47  Secondary+      Richest  \n",
       "1    92.5     Rural    Male   45        36-47     Primary       Second  \n",
       "2    88.5     Rural    Male   36        36-47     Primary       Fourth  \n",
       "3   101.3     Rural  Female   51        48-59     Primary       Fourth  \n",
       "4   105.0     Rural  Female   56        48-59     Primary       Fourth  "
      ]
     },
     "execution_count": 8,
     "metadata": {},
     "output_type": "execute_result"
    }
   ],
   "source": [
    "import pandas as pd\n",
    "df=pd.read_csv(\"childhealthdata.csv\")\n",
    "df.head()"
   ]
  },
  {
   "cell_type": "code",
   "execution_count": 9,
   "id": "7c48ca3b-4482-4338-a019-1c67a7bf556e",
   "metadata": {},
   "outputs": [
    {
     "data": {
      "text/html": [
       "<div>\n",
       "<style scoped>\n",
       "    .dataframe tbody tr th:only-of-type {\n",
       "        vertical-align: middle;\n",
       "    }\n",
       "\n",
       "    .dataframe tbody tr th {\n",
       "        vertical-align: top;\n",
       "    }\n",
       "\n",
       "    .dataframe thead th {\n",
       "        text-align: right;\n",
       "    }\n",
       "</style>\n",
       "<table border=\"1\" class=\"dataframe\">\n",
       "  <thead>\n",
       "    <tr style=\"text-align: right;\">\n",
       "      <th></th>\n",
       "      <th>Child participated in POLIO campaign August 2013</th>\n",
       "      <th>weight</th>\n",
       "      <th>height</th>\n",
       "      <th>age</th>\n",
       "    </tr>\n",
       "  </thead>\n",
       "  <tbody>\n",
       "    <tr>\n",
       "      <th>count</th>\n",
       "      <td>799.000000</td>\n",
       "      <td>799.000000</td>\n",
       "      <td>799.000000</td>\n",
       "      <td>799.000000</td>\n",
       "    </tr>\n",
       "    <tr>\n",
       "      <th>mean</th>\n",
       "      <td>1.234043</td>\n",
       "      <td>11.591114</td>\n",
       "      <td>83.858573</td>\n",
       "      <td>29.314143</td>\n",
       "    </tr>\n",
       "    <tr>\n",
       "      <th>std</th>\n",
       "      <td>0.850500</td>\n",
       "      <td>3.408729</td>\n",
       "      <td>13.795704</td>\n",
       "      <td>16.839659</td>\n",
       "    </tr>\n",
       "    <tr>\n",
       "      <th>min</th>\n",
       "      <td>1.000000</td>\n",
       "      <td>3.100000</td>\n",
       "      <td>45.000000</td>\n",
       "      <td>0.000000</td>\n",
       "    </tr>\n",
       "    <tr>\n",
       "      <th>25%</th>\n",
       "      <td>1.000000</td>\n",
       "      <td>9.200000</td>\n",
       "      <td>74.000000</td>\n",
       "      <td>15.000000</td>\n",
       "    </tr>\n",
       "    <tr>\n",
       "      <th>50%</th>\n",
       "      <td>1.000000</td>\n",
       "      <td>11.700000</td>\n",
       "      <td>84.900000</td>\n",
       "      <td>31.000000</td>\n",
       "    </tr>\n",
       "    <tr>\n",
       "      <th>75%</th>\n",
       "      <td>1.000000</td>\n",
       "      <td>14.100000</td>\n",
       "      <td>93.850000</td>\n",
       "      <td>43.000000</td>\n",
       "    </tr>\n",
       "    <tr>\n",
       "      <th>max</th>\n",
       "      <td>9.000000</td>\n",
       "      <td>25.000000</td>\n",
       "      <td>124.800000</td>\n",
       "      <td>59.000000</td>\n",
       "    </tr>\n",
       "  </tbody>\n",
       "</table>\n",
       "</div>"
      ],
      "text/plain": [
       "       Child participated in POLIO campaign August 2013      weight  \\\n",
       "count                                        799.000000  799.000000   \n",
       "mean                                           1.234043   11.591114   \n",
       "std                                            0.850500    3.408729   \n",
       "min                                            1.000000    3.100000   \n",
       "25%                                            1.000000    9.200000   \n",
       "50%                                            1.000000   11.700000   \n",
       "75%                                            1.000000   14.100000   \n",
       "max                                            9.000000   25.000000   \n",
       "\n",
       "           height         age  \n",
       "count  799.000000  799.000000  \n",
       "mean    83.858573   29.314143  \n",
       "std     13.795704   16.839659  \n",
       "min     45.000000    0.000000  \n",
       "25%     74.000000   15.000000  \n",
       "50%     84.900000   31.000000  \n",
       "75%     93.850000   43.000000  \n",
       "max    124.800000   59.000000  "
      ]
     },
     "execution_count": 9,
     "metadata": {},
     "output_type": "execute_result"
    }
   ],
   "source": [
    "df.describe()"
   ]
  },
  {
   "cell_type": "code",
   "execution_count": 10,
   "id": "b91bcd07-9b59-426e-9305-17ffb2abd9ee",
   "metadata": {},
   "outputs": [
    {
     "name": "stdout",
     "output_type": "stream",
     "text": [
      "<class 'pandas.core.frame.DataFrame'>\n",
      "RangeIndex: 799 entries, 0 to 798\n",
      "Data columns (total 10 columns):\n",
      " #   Column                                            Non-Null Count  Dtype  \n",
      "---  ------                                            --------------  -----  \n",
      " 0   Child participated in POLIO campaign August 2013  799 non-null    int64  \n",
      " 1    diarrhea_status                                  799 non-null    object \n",
      " 2   weight                                            799 non-null    float64\n",
      " 3   height                                            799 non-null    float64\n",
      " 4   residence                                         799 non-null    object \n",
      " 5   Sex                                               799 non-null    object \n",
      " 6   age                                               799 non-null    int64  \n",
      " 7   age_category                                      799 non-null    object \n",
      " 8   education                                         768 non-null    object \n",
      " 9   wealth_index                                      799 non-null    object \n",
      "dtypes: float64(2), int64(2), object(6)\n",
      "memory usage: 62.6+ KB\n"
     ]
    }
   ],
   "source": [
    "df.info()"
   ]
  },
  {
   "cell_type": "code",
   "execution_count": 11,
   "id": "be516407-aaed-4672-905a-7d648a6b00f5",
   "metadata": {},
   "outputs": [
    {
     "name": "stdout",
     "output_type": "stream",
     "text": [
      "['Secondary+' 'Primary' nan]\n"
     ]
    }
   ],
   "source": [
    "print(df['education'].unique())"
   ]
  },
  {
   "cell_type": "code",
   "execution_count": 12,
   "id": "55b3177b-e0b1-4f8d-ba2b-41985f5d6b79",
   "metadata": {},
   "outputs": [
    {
     "name": "stdout",
     "output_type": "stream",
     "text": [
      "['Rural' 'Urban']\n"
     ]
    }
   ],
   "source": [
    "print(df['residence'].unique())"
   ]
  },
  {
   "cell_type": "code",
   "execution_count": 13,
   "id": "6aaa042d-d3af-4ea7-bca5-b170faedcc46",
   "metadata": {},
   "outputs": [
    {
     "name": "stdout",
     "output_type": "stream",
     "text": [
      "wealth_index\n",
      "Poorest    197\n",
      "Fourth     156\n",
      "Second     154\n",
      "Richest    152\n",
      "Middle     140\n",
      "Name: count, dtype: int64\n"
     ]
    }
   ],
   "source": [
    "print(df['wealth_index'].value_counts())"
   ]
  },
  {
   "cell_type": "code",
   "execution_count": 14,
   "id": "887eaba1-dcf5-4d2c-a0a9-a7ba9af2b982",
   "metadata": {},
   "outputs": [
    {
     "data": {
      "text/html": [
       "<div>\n",
       "<style scoped>\n",
       "    .dataframe tbody tr th:only-of-type {\n",
       "        vertical-align: middle;\n",
       "    }\n",
       "\n",
       "    .dataframe tbody tr th {\n",
       "        vertical-align: top;\n",
       "    }\n",
       "\n",
       "    .dataframe thead th {\n",
       "        text-align: right;\n",
       "    }\n",
       "</style>\n",
       "<table border=\"1\" class=\"dataframe\">\n",
       "  <thead>\n",
       "    <tr style=\"text-align: right;\">\n",
       "      <th></th>\n",
       "      <th>Child participated in POLIO campaign August 2013</th>\n",
       "      <th>diarrhea_status</th>\n",
       "      <th>weight</th>\n",
       "      <th>height</th>\n",
       "      <th>residence</th>\n",
       "      <th>Sex</th>\n",
       "      <th>age</th>\n",
       "      <th>age_category</th>\n",
       "      <th>education</th>\n",
       "      <th>wealth_index</th>\n",
       "    </tr>\n",
       "  </thead>\n",
       "  <tbody>\n",
       "    <tr>\n",
       "      <th>0</th>\n",
       "      <td>1</td>\n",
       "      <td>No</td>\n",
       "      <td>16.2</td>\n",
       "      <td>102.4</td>\n",
       "      <td>Rural</td>\n",
       "      <td>Female</td>\n",
       "      <td>45</td>\n",
       "      <td>36-47</td>\n",
       "      <td>Secondary+</td>\n",
       "      <td>Richest</td>\n",
       "    </tr>\n",
       "    <tr>\n",
       "      <th>1</th>\n",
       "      <td>1</td>\n",
       "      <td>No</td>\n",
       "      <td>13.5</td>\n",
       "      <td>92.5</td>\n",
       "      <td>Rural</td>\n",
       "      <td>Male</td>\n",
       "      <td>45</td>\n",
       "      <td>36-47</td>\n",
       "      <td>Primary</td>\n",
       "      <td>Second</td>\n",
       "    </tr>\n",
       "    <tr>\n",
       "      <th>2</th>\n",
       "      <td>1</td>\n",
       "      <td>No</td>\n",
       "      <td>13.4</td>\n",
       "      <td>88.5</td>\n",
       "      <td>Rural</td>\n",
       "      <td>Male</td>\n",
       "      <td>36</td>\n",
       "      <td>36-47</td>\n",
       "      <td>Primary</td>\n",
       "      <td>Fourth</td>\n",
       "    </tr>\n",
       "    <tr>\n",
       "      <th>3</th>\n",
       "      <td>1</td>\n",
       "      <td>No</td>\n",
       "      <td>15.0</td>\n",
       "      <td>101.3</td>\n",
       "      <td>Rural</td>\n",
       "      <td>Female</td>\n",
       "      <td>51</td>\n",
       "      <td>48-59</td>\n",
       "      <td>Primary</td>\n",
       "      <td>Fourth</td>\n",
       "    </tr>\n",
       "    <tr>\n",
       "      <th>4</th>\n",
       "      <td>1</td>\n",
       "      <td>No</td>\n",
       "      <td>15.2</td>\n",
       "      <td>105.0</td>\n",
       "      <td>Rural</td>\n",
       "      <td>Female</td>\n",
       "      <td>56</td>\n",
       "      <td>48-59</td>\n",
       "      <td>Primary</td>\n",
       "      <td>Fourth</td>\n",
       "    </tr>\n",
       "  </tbody>\n",
       "</table>\n",
       "</div>"
      ],
      "text/plain": [
       "   Child participated in POLIO campaign August 2013  diarrhea_status  weight  \\\n",
       "0                                                 1               No    16.2   \n",
       "1                                                 1               No    13.5   \n",
       "2                                                 1               No    13.4   \n",
       "3                                                 1               No    15.0   \n",
       "4                                                 1               No    15.2   \n",
       "\n",
       "   height residence     Sex  age age_category   education wealth_index  \n",
       "0   102.4     Rural  Female   45        36-47  Secondary+      Richest  \n",
       "1    92.5     Rural    Male   45        36-47     Primary       Second  \n",
       "2    88.5     Rural    Male   36        36-47     Primary       Fourth  \n",
       "3   101.3     Rural  Female   51        48-59     Primary       Fourth  \n",
       "4   105.0     Rural  Female   56        48-59     Primary       Fourth  "
      ]
     },
     "execution_count": 14,
     "metadata": {},
     "output_type": "execute_result"
    }
   ],
   "source": [
    "import pandas as pd\n",
    "df=pd.read_csv(\"childhealthdata.csv\")\n",
    "df.head()               "
   ]
  },
  {
   "cell_type": "code",
   "execution_count": 15,
   "id": "64a6dec1-3212-4365-bb0e-22e220de5a9a",
   "metadata": {},
   "outputs": [
    {
     "data": {
      "text/html": [
       "<div>\n",
       "<style scoped>\n",
       "    .dataframe tbody tr th:only-of-type {\n",
       "        vertical-align: middle;\n",
       "    }\n",
       "\n",
       "    .dataframe tbody tr th {\n",
       "        vertical-align: top;\n",
       "    }\n",
       "\n",
       "    .dataframe thead th {\n",
       "        text-align: right;\n",
       "    }\n",
       "</style>\n",
       "<table border=\"1\" class=\"dataframe\">\n",
       "  <thead>\n",
       "    <tr style=\"text-align: right;\">\n",
       "      <th></th>\n",
       "      <th>Child participated in POLIO campaign August 2013</th>\n",
       "      <th>diarrhea_status</th>\n",
       "      <th>weight</th>\n",
       "      <th>height</th>\n",
       "      <th>residence</th>\n",
       "      <th>Sex</th>\n",
       "      <th>age</th>\n",
       "      <th>age_category</th>\n",
       "      <th>education</th>\n",
       "      <th>wealth_index</th>\n",
       "    </tr>\n",
       "  </thead>\n",
       "  <tbody>\n",
       "    <tr>\n",
       "      <th>794</th>\n",
       "      <td>1</td>\n",
       "      <td>No</td>\n",
       "      <td>8.3</td>\n",
       "      <td>67.0</td>\n",
       "      <td>Urban</td>\n",
       "      <td>Female</td>\n",
       "      <td>7</td>\n",
       "      <td>6-11</td>\n",
       "      <td>Primary</td>\n",
       "      <td>Fourth</td>\n",
       "    </tr>\n",
       "    <tr>\n",
       "      <th>795</th>\n",
       "      <td>2</td>\n",
       "      <td>No</td>\n",
       "      <td>3.5</td>\n",
       "      <td>45.0</td>\n",
       "      <td>Urban</td>\n",
       "      <td>Male</td>\n",
       "      <td>0</td>\n",
       "      <td>0-5</td>\n",
       "      <td>Secondary+</td>\n",
       "      <td>Fourth</td>\n",
       "    </tr>\n",
       "    <tr>\n",
       "      <th>796</th>\n",
       "      <td>1</td>\n",
       "      <td>No</td>\n",
       "      <td>15.1</td>\n",
       "      <td>86.0</td>\n",
       "      <td>Urban</td>\n",
       "      <td>Female</td>\n",
       "      <td>56</td>\n",
       "      <td>48-59</td>\n",
       "      <td>Primary</td>\n",
       "      <td>Fourth</td>\n",
       "    </tr>\n",
       "    <tr>\n",
       "      <th>797</th>\n",
       "      <td>1</td>\n",
       "      <td>No</td>\n",
       "      <td>10.7</td>\n",
       "      <td>71.2</td>\n",
       "      <td>Urban</td>\n",
       "      <td>Female</td>\n",
       "      <td>18</td>\n",
       "      <td>12-23</td>\n",
       "      <td>Primary</td>\n",
       "      <td>Fourth</td>\n",
       "    </tr>\n",
       "    <tr>\n",
       "      <th>798</th>\n",
       "      <td>1</td>\n",
       "      <td>No</td>\n",
       "      <td>10.3</td>\n",
       "      <td>73.0</td>\n",
       "      <td>Urban</td>\n",
       "      <td>Female</td>\n",
       "      <td>7</td>\n",
       "      <td>6-11</td>\n",
       "      <td>Primary</td>\n",
       "      <td>Middle</td>\n",
       "    </tr>\n",
       "  </tbody>\n",
       "</table>\n",
       "</div>"
      ],
      "text/plain": [
       "     Child participated in POLIO campaign August 2013  diarrhea_status  \\\n",
       "794                                                 1               No   \n",
       "795                                                 2               No   \n",
       "796                                                 1               No   \n",
       "797                                                 1               No   \n",
       "798                                                 1               No   \n",
       "\n",
       "     weight  height residence     Sex  age age_category   education  \\\n",
       "794     8.3    67.0     Urban  Female    7         6-11     Primary   \n",
       "795     3.5    45.0     Urban    Male    0          0-5  Secondary+   \n",
       "796    15.1    86.0     Urban  Female   56        48-59     Primary   \n",
       "797    10.7    71.2     Urban  Female   18        12-23     Primary   \n",
       "798    10.3    73.0     Urban  Female    7         6-11     Primary   \n",
       "\n",
       "    wealth_index  \n",
       "794       Fourth  \n",
       "795       Fourth  \n",
       "796       Fourth  \n",
       "797       Fourth  \n",
       "798       Middle  "
      ]
     },
     "execution_count": 15,
     "metadata": {},
     "output_type": "execute_result"
    }
   ],
   "source": [
    "df.tail(5)"
   ]
  },
  {
   "cell_type": "code",
   "execution_count": 16,
   "id": "1b8ea495-893e-4aeb-9ffa-ee0e5039e8b9",
   "metadata": {},
   "outputs": [
    {
     "data": {
      "text/html": [
       "<div>\n",
       "<style scoped>\n",
       "    .dataframe tbody tr th:only-of-type {\n",
       "        vertical-align: middle;\n",
       "    }\n",
       "\n",
       "    .dataframe tbody tr th {\n",
       "        vertical-align: top;\n",
       "    }\n",
       "\n",
       "    .dataframe thead th {\n",
       "        text-align: right;\n",
       "    }\n",
       "</style>\n",
       "<table border=\"1\" class=\"dataframe\">\n",
       "  <thead>\n",
       "    <tr style=\"text-align: right;\">\n",
       "      <th></th>\n",
       "      <th>Child participated in POLIO campaign August 2013</th>\n",
       "      <th>diarrhea_status</th>\n",
       "      <th>weight</th>\n",
       "      <th>height</th>\n",
       "      <th>residence</th>\n",
       "      <th>Sex</th>\n",
       "      <th>age</th>\n",
       "      <th>age_category</th>\n",
       "      <th>education</th>\n",
       "      <th>wealth_index</th>\n",
       "    </tr>\n",
       "  </thead>\n",
       "  <tbody>\n",
       "    <tr>\n",
       "      <th>0</th>\n",
       "      <td>1</td>\n",
       "      <td>No</td>\n",
       "      <td>16.2</td>\n",
       "      <td>102.4</td>\n",
       "      <td>Rural</td>\n",
       "      <td>Female</td>\n",
       "      <td>45</td>\n",
       "      <td>36-47</td>\n",
       "      <td>Secondary+</td>\n",
       "      <td>Richest</td>\n",
       "    </tr>\n",
       "    <tr>\n",
       "      <th>1</th>\n",
       "      <td>1</td>\n",
       "      <td>No</td>\n",
       "      <td>13.5</td>\n",
       "      <td>92.5</td>\n",
       "      <td>Rural</td>\n",
       "      <td>Male</td>\n",
       "      <td>45</td>\n",
       "      <td>36-47</td>\n",
       "      <td>Primary</td>\n",
       "      <td>Second</td>\n",
       "    </tr>\n",
       "    <tr>\n",
       "      <th>2</th>\n",
       "      <td>1</td>\n",
       "      <td>No</td>\n",
       "      <td>13.4</td>\n",
       "      <td>88.5</td>\n",
       "      <td>Rural</td>\n",
       "      <td>Male</td>\n",
       "      <td>36</td>\n",
       "      <td>36-47</td>\n",
       "      <td>Primary</td>\n",
       "      <td>Fourth</td>\n",
       "    </tr>\n",
       "    <tr>\n",
       "      <th>3</th>\n",
       "      <td>1</td>\n",
       "      <td>No</td>\n",
       "      <td>15.0</td>\n",
       "      <td>101.3</td>\n",
       "      <td>Rural</td>\n",
       "      <td>Female</td>\n",
       "      <td>51</td>\n",
       "      <td>48-59</td>\n",
       "      <td>Primary</td>\n",
       "      <td>Fourth</td>\n",
       "    </tr>\n",
       "    <tr>\n",
       "      <th>4</th>\n",
       "      <td>1</td>\n",
       "      <td>No</td>\n",
       "      <td>15.2</td>\n",
       "      <td>105.0</td>\n",
       "      <td>Rural</td>\n",
       "      <td>Female</td>\n",
       "      <td>56</td>\n",
       "      <td>48-59</td>\n",
       "      <td>Primary</td>\n",
       "      <td>Fourth</td>\n",
       "    </tr>\n",
       "  </tbody>\n",
       "</table>\n",
       "</div>"
      ],
      "text/plain": [
       "   Child participated in POLIO campaign August 2013  diarrhea_status  weight  \\\n",
       "0                                                 1               No    16.2   \n",
       "1                                                 1               No    13.5   \n",
       "2                                                 1               No    13.4   \n",
       "3                                                 1               No    15.0   \n",
       "4                                                 1               No    15.2   \n",
       "\n",
       "   height residence     Sex  age age_category   education wealth_index  \n",
       "0   102.4     Rural  Female   45        36-47  Secondary+      Richest  \n",
       "1    92.5     Rural    Male   45        36-47     Primary       Second  \n",
       "2    88.5     Rural    Male   36        36-47     Primary       Fourth  \n",
       "3   101.3     Rural  Female   51        48-59     Primary       Fourth  \n",
       "4   105.0     Rural  Female   56        48-59     Primary       Fourth  "
      ]
     },
     "execution_count": 16,
     "metadata": {},
     "output_type": "execute_result"
    }
   ],
   "source": [
    "df.head(5)"
   ]
  },
  {
   "cell_type": "code",
   "execution_count": 17,
   "id": "549b05c6-fbd2-45a7-b409-c934e3071e03",
   "metadata": {},
   "outputs": [
    {
     "data": {
      "text/html": [
       "<div>\n",
       "<style scoped>\n",
       "    .dataframe tbody tr th:only-of-type {\n",
       "        vertical-align: middle;\n",
       "    }\n",
       "\n",
       "    .dataframe tbody tr th {\n",
       "        vertical-align: top;\n",
       "    }\n",
       "\n",
       "    .dataframe thead th {\n",
       "        text-align: right;\n",
       "    }\n",
       "</style>\n",
       "<table border=\"1\" class=\"dataframe\">\n",
       "  <thead>\n",
       "    <tr style=\"text-align: right;\">\n",
       "      <th></th>\n",
       "      <th>Child participated in POLIO campaign August 2013</th>\n",
       "      <th>diarrhea_status</th>\n",
       "      <th>weight</th>\n",
       "      <th>height</th>\n",
       "      <th>residence</th>\n",
       "      <th>Sex</th>\n",
       "      <th>age</th>\n",
       "      <th>age_category</th>\n",
       "      <th>education</th>\n",
       "      <th>wealth_index</th>\n",
       "    </tr>\n",
       "  </thead>\n",
       "  <tbody>\n",
       "    <tr>\n",
       "      <th>0</th>\n",
       "      <td>1</td>\n",
       "      <td>No</td>\n",
       "      <td>16.2</td>\n",
       "      <td>102.4</td>\n",
       "      <td>Rural</td>\n",
       "      <td>Female</td>\n",
       "      <td>45</td>\n",
       "      <td>36-47</td>\n",
       "      <td>Secondary+</td>\n",
       "      <td>Richest</td>\n",
       "    </tr>\n",
       "    <tr>\n",
       "      <th>1</th>\n",
       "      <td>1</td>\n",
       "      <td>No</td>\n",
       "      <td>13.5</td>\n",
       "      <td>92.5</td>\n",
       "      <td>Rural</td>\n",
       "      <td>Male</td>\n",
       "      <td>45</td>\n",
       "      <td>36-47</td>\n",
       "      <td>Primary</td>\n",
       "      <td>Second</td>\n",
       "    </tr>\n",
       "    <tr>\n",
       "      <th>2</th>\n",
       "      <td>1</td>\n",
       "      <td>No</td>\n",
       "      <td>13.4</td>\n",
       "      <td>88.5</td>\n",
       "      <td>Rural</td>\n",
       "      <td>Male</td>\n",
       "      <td>36</td>\n",
       "      <td>36-47</td>\n",
       "      <td>Primary</td>\n",
       "      <td>Fourth</td>\n",
       "    </tr>\n",
       "    <tr>\n",
       "      <th>3</th>\n",
       "      <td>1</td>\n",
       "      <td>No</td>\n",
       "      <td>15.0</td>\n",
       "      <td>101.3</td>\n",
       "      <td>Rural</td>\n",
       "      <td>Female</td>\n",
       "      <td>51</td>\n",
       "      <td>48-59</td>\n",
       "      <td>Primary</td>\n",
       "      <td>Fourth</td>\n",
       "    </tr>\n",
       "    <tr>\n",
       "      <th>4</th>\n",
       "      <td>1</td>\n",
       "      <td>No</td>\n",
       "      <td>15.2</td>\n",
       "      <td>105.0</td>\n",
       "      <td>Rural</td>\n",
       "      <td>Female</td>\n",
       "      <td>56</td>\n",
       "      <td>48-59</td>\n",
       "      <td>Primary</td>\n",
       "      <td>Fourth</td>\n",
       "    </tr>\n",
       "  </tbody>\n",
       "</table>\n",
       "</div>"
      ],
      "text/plain": [
       "   Child participated in POLIO campaign August 2013  diarrhea_status  weight  \\\n",
       "0                                                 1               No    16.2   \n",
       "1                                                 1               No    13.5   \n",
       "2                                                 1               No    13.4   \n",
       "3                                                 1               No    15.0   \n",
       "4                                                 1               No    15.2   \n",
       "\n",
       "   height residence     Sex  age age_category   education wealth_index  \n",
       "0   102.4     Rural  Female   45        36-47  Secondary+      Richest  \n",
       "1    92.5     Rural    Male   45        36-47     Primary       Second  \n",
       "2    88.5     Rural    Male   36        36-47     Primary       Fourth  \n",
       "3   101.3     Rural  Female   51        48-59     Primary       Fourth  \n",
       "4   105.0     Rural  Female   56        48-59     Primary       Fourth  "
      ]
     },
     "execution_count": 17,
     "metadata": {},
     "output_type": "execute_result"
    }
   ],
   "source": [
    "import pandas as pd\n",
    "df=pd.read_csv('childhealthdata.csv')\n",
    "pd_above_30=df[df['age']>30]\n",
    "pd_above_30.head()"
   ]
  },
  {
   "cell_type": "code",
   "execution_count": 18,
   "id": "e99a620c-015c-4864-b1d6-447dd77b27f5",
   "metadata": {},
   "outputs": [
    {
     "data": {
      "text/html": [
       "<div>\n",
       "<style scoped>\n",
       "    .dataframe tbody tr th:only-of-type {\n",
       "        vertical-align: middle;\n",
       "    }\n",
       "\n",
       "    .dataframe tbody tr th {\n",
       "        vertical-align: top;\n",
       "    }\n",
       "\n",
       "    .dataframe thead th {\n",
       "        text-align: right;\n",
       "    }\n",
       "</style>\n",
       "<table border=\"1\" class=\"dataframe\">\n",
       "  <thead>\n",
       "    <tr style=\"text-align: right;\">\n",
       "      <th></th>\n",
       "      <th>Child participated in POLIO campaign August 2013</th>\n",
       "      <th>diarrhea_status</th>\n",
       "      <th>weight</th>\n",
       "      <th>height</th>\n",
       "      <th>residence</th>\n",
       "      <th>Sex</th>\n",
       "      <th>age</th>\n",
       "      <th>age_category</th>\n",
       "      <th>education</th>\n",
       "      <th>wealth_index</th>\n",
       "    </tr>\n",
       "  </thead>\n",
       "  <tbody>\n",
       "    <tr>\n",
       "      <th>5</th>\n",
       "      <td>1</td>\n",
       "      <td>Yes</td>\n",
       "      <td>9.9</td>\n",
       "      <td>84.5</td>\n",
       "      <td>Rural</td>\n",
       "      <td>Female</td>\n",
       "      <td>20</td>\n",
       "      <td>12-23</td>\n",
       "      <td>Primary</td>\n",
       "      <td>Fourth</td>\n",
       "    </tr>\n",
       "    <tr>\n",
       "      <th>6</th>\n",
       "      <td>2</td>\n",
       "      <td>No</td>\n",
       "      <td>7.1</td>\n",
       "      <td>70.4</td>\n",
       "      <td>Rural</td>\n",
       "      <td>Female</td>\n",
       "      <td>4</td>\n",
       "      <td>0-5</td>\n",
       "      <td>Primary</td>\n",
       "      <td>Fourth</td>\n",
       "    </tr>\n",
       "    <tr>\n",
       "      <th>7</th>\n",
       "      <td>1</td>\n",
       "      <td>No</td>\n",
       "      <td>13.8</td>\n",
       "      <td>89.5</td>\n",
       "      <td>Rural</td>\n",
       "      <td>Male</td>\n",
       "      <td>27</td>\n",
       "      <td>24-35</td>\n",
       "      <td>Primary</td>\n",
       "      <td>Richest</td>\n",
       "    </tr>\n",
       "    <tr>\n",
       "      <th>9</th>\n",
       "      <td>1</td>\n",
       "      <td>Yes</td>\n",
       "      <td>8.2</td>\n",
       "      <td>73.9</td>\n",
       "      <td>Rural</td>\n",
       "      <td>Female</td>\n",
       "      <td>18</td>\n",
       "      <td>12-23</td>\n",
       "      <td>Primary</td>\n",
       "      <td>Poorest</td>\n",
       "    </tr>\n",
       "    <tr>\n",
       "      <th>12</th>\n",
       "      <td>1</td>\n",
       "      <td>Yes</td>\n",
       "      <td>8.0</td>\n",
       "      <td>77.7</td>\n",
       "      <td>Rural</td>\n",
       "      <td>Female</td>\n",
       "      <td>26</td>\n",
       "      <td>24-35</td>\n",
       "      <td>Primary</td>\n",
       "      <td>Poorest</td>\n",
       "    </tr>\n",
       "  </tbody>\n",
       "</table>\n",
       "</div>"
      ],
      "text/plain": [
       "    Child participated in POLIO campaign August 2013  diarrhea_status  weight  \\\n",
       "5                                                  1              Yes     9.9   \n",
       "6                                                  2               No     7.1   \n",
       "7                                                  1               No    13.8   \n",
       "9                                                  1              Yes     8.2   \n",
       "12                                                 1              Yes     8.0   \n",
       "\n",
       "    height residence     Sex  age age_category education wealth_index  \n",
       "5     84.5     Rural  Female   20        12-23   Primary       Fourth  \n",
       "6     70.4     Rural  Female    4          0-5   Primary       Fourth  \n",
       "7     89.5     Rural    Male   27        24-35   Primary      Richest  \n",
       "9     73.9     Rural  Female   18        12-23   Primary      Poorest  \n",
       "12    77.7     Rural  Female   26        24-35   Primary      Poorest  "
      ]
     },
     "execution_count": 18,
     "metadata": {},
     "output_type": "execute_result"
    }
   ],
   "source": [
    "df_30_and_less=df[df['age']<=30]\n",
    "df_30_and_less.head()"
   ]
  },
  {
   "cell_type": "code",
   "execution_count": 19,
   "id": "e84dfd28-0629-45bf-a6b2-d1348804870c",
   "metadata": {},
   "outputs": [
    {
     "data": {
      "text/html": [
       "<div>\n",
       "<style scoped>\n",
       "    .dataframe tbody tr th:only-of-type {\n",
       "        vertical-align: middle;\n",
       "    }\n",
       "\n",
       "    .dataframe tbody tr th {\n",
       "        vertical-align: top;\n",
       "    }\n",
       "\n",
       "    .dataframe thead th {\n",
       "        text-align: right;\n",
       "    }\n",
       "</style>\n",
       "<table border=\"1\" class=\"dataframe\">\n",
       "  <thead>\n",
       "    <tr style=\"text-align: right;\">\n",
       "      <th></th>\n",
       "      <th>Child participated in POLIO campaign August 2013</th>\n",
       "      <th>diarrhea_status</th>\n",
       "      <th>weight</th>\n",
       "      <th>height</th>\n",
       "      <th>residence</th>\n",
       "      <th>Sex</th>\n",
       "      <th>age</th>\n",
       "      <th>age_category</th>\n",
       "      <th>education</th>\n",
       "      <th>wealth_index</th>\n",
       "    </tr>\n",
       "  </thead>\n",
       "  <tbody>\n",
       "    <tr>\n",
       "      <th>9</th>\n",
       "      <td>1</td>\n",
       "      <td>Yes</td>\n",
       "      <td>8.2</td>\n",
       "      <td>73.9</td>\n",
       "      <td>Rural</td>\n",
       "      <td>Female</td>\n",
       "      <td>18</td>\n",
       "      <td>12-23</td>\n",
       "      <td>Primary</td>\n",
       "      <td>Poorest</td>\n",
       "    </tr>\n",
       "    <tr>\n",
       "      <th>207</th>\n",
       "      <td>1</td>\n",
       "      <td>Yes</td>\n",
       "      <td>9.7</td>\n",
       "      <td>75.4</td>\n",
       "      <td>Rural</td>\n",
       "      <td>Female</td>\n",
       "      <td>18</td>\n",
       "      <td>12-23</td>\n",
       "      <td>Secondary+</td>\n",
       "      <td>Poorest</td>\n",
       "    </tr>\n",
       "    <tr>\n",
       "      <th>273</th>\n",
       "      <td>1</td>\n",
       "      <td>No</td>\n",
       "      <td>10.4</td>\n",
       "      <td>81.5</td>\n",
       "      <td>Urban</td>\n",
       "      <td>Female</td>\n",
       "      <td>18</td>\n",
       "      <td>12-23</td>\n",
       "      <td>Secondary+</td>\n",
       "      <td>Middle</td>\n",
       "    </tr>\n",
       "    <tr>\n",
       "      <th>652</th>\n",
       "      <td>1</td>\n",
       "      <td>No</td>\n",
       "      <td>10.0</td>\n",
       "      <td>80.5</td>\n",
       "      <td>Urban</td>\n",
       "      <td>Female</td>\n",
       "      <td>18</td>\n",
       "      <td>12-23</td>\n",
       "      <td>Secondary+</td>\n",
       "      <td>Richest</td>\n",
       "    </tr>\n",
       "    <tr>\n",
       "      <th>671</th>\n",
       "      <td>2</td>\n",
       "      <td>No</td>\n",
       "      <td>10.1</td>\n",
       "      <td>78.3</td>\n",
       "      <td>Urban</td>\n",
       "      <td>Female</td>\n",
       "      <td>18</td>\n",
       "      <td>12-23</td>\n",
       "      <td>Primary</td>\n",
       "      <td>Fourth</td>\n",
       "    </tr>\n",
       "  </tbody>\n",
       "</table>\n",
       "</div>"
      ],
      "text/plain": [
       "     Child participated in POLIO campaign August 2013  diarrhea_status  \\\n",
       "9                                                   1              Yes   \n",
       "207                                                 1              Yes   \n",
       "273                                                 1               No   \n",
       "652                                                 1               No   \n",
       "671                                                 2               No   \n",
       "\n",
       "     weight  height residence     Sex  age age_category   education  \\\n",
       "9       8.2    73.9     Rural  Female   18        12-23     Primary   \n",
       "207     9.7    75.4     Rural  Female   18        12-23  Secondary+   \n",
       "273    10.4    81.5     Urban  Female   18        12-23  Secondary+   \n",
       "652    10.0    80.5     Urban  Female   18        12-23  Secondary+   \n",
       "671    10.1    78.3     Urban  Female   18        12-23     Primary   \n",
       "\n",
       "    wealth_index  \n",
       "9        Poorest  \n",
       "207      Poorest  \n",
       "273       Middle  \n",
       "652      Richest  \n",
       "671       Fourth  "
      ]
     },
     "execution_count": 19,
     "metadata": {},
     "output_type": "execute_result"
    }
   ],
   "source": [
    "df_18=df[(df['age']==18)&(df['Sex']=='Female')]\n",
    "df_18.head()"
   ]
  },
  {
   "cell_type": "code",
   "execution_count": 20,
   "id": "c4801f8d-9bbe-4a7b-ad5d-f90b60457016",
   "metadata": {},
   "outputs": [
    {
     "data": {
      "text/html": [
       "<div>\n",
       "<style scoped>\n",
       "    .dataframe tbody tr th:only-of-type {\n",
       "        vertical-align: middle;\n",
       "    }\n",
       "\n",
       "    .dataframe tbody tr th {\n",
       "        vertical-align: top;\n",
       "    }\n",
       "\n",
       "    .dataframe thead th {\n",
       "        text-align: right;\n",
       "    }\n",
       "</style>\n",
       "<table border=\"1\" class=\"dataframe\">\n",
       "  <thead>\n",
       "    <tr style=\"text-align: right;\">\n",
       "      <th></th>\n",
       "      <th>Child participated in POLIO campaign August 2013</th>\n",
       "      <th>diarrhea_status</th>\n",
       "      <th>weight</th>\n",
       "      <th>height</th>\n",
       "      <th>residence</th>\n",
       "      <th>Sex</th>\n",
       "      <th>age</th>\n",
       "      <th>age_category</th>\n",
       "      <th>education</th>\n",
       "      <th>wealth_index</th>\n",
       "    </tr>\n",
       "  </thead>\n",
       "  <tbody>\n",
       "    <tr>\n",
       "      <th>512</th>\n",
       "      <td>1</td>\n",
       "      <td>No</td>\n",
       "      <td>16.8</td>\n",
       "      <td>104.8</td>\n",
       "      <td>Rural</td>\n",
       "      <td>Female</td>\n",
       "      <td>59</td>\n",
       "      <td>48-59</td>\n",
       "      <td>Secondary+</td>\n",
       "      <td>Second</td>\n",
       "    </tr>\n",
       "    <tr>\n",
       "      <th>75</th>\n",
       "      <td>2</td>\n",
       "      <td>No</td>\n",
       "      <td>15.8</td>\n",
       "      <td>104.4</td>\n",
       "      <td>Rural</td>\n",
       "      <td>Male</td>\n",
       "      <td>59</td>\n",
       "      <td>48-59</td>\n",
       "      <td>Primary</td>\n",
       "      <td>Second</td>\n",
       "    </tr>\n",
       "    <tr>\n",
       "      <th>310</th>\n",
       "      <td>1</td>\n",
       "      <td>No</td>\n",
       "      <td>17.0</td>\n",
       "      <td>105.3</td>\n",
       "      <td>Urban</td>\n",
       "      <td>Male</td>\n",
       "      <td>59</td>\n",
       "      <td>48-59</td>\n",
       "      <td>Secondary+</td>\n",
       "      <td>Richest</td>\n",
       "    </tr>\n",
       "    <tr>\n",
       "      <th>196</th>\n",
       "      <td>1</td>\n",
       "      <td>No</td>\n",
       "      <td>16.0</td>\n",
       "      <td>102.4</td>\n",
       "      <td>Rural</td>\n",
       "      <td>Male</td>\n",
       "      <td>59</td>\n",
       "      <td>48-59</td>\n",
       "      <td>Primary</td>\n",
       "      <td>Poorest</td>\n",
       "    </tr>\n",
       "    <tr>\n",
       "      <th>723</th>\n",
       "      <td>1</td>\n",
       "      <td>No</td>\n",
       "      <td>15.6</td>\n",
       "      <td>88.5</td>\n",
       "      <td>Urban</td>\n",
       "      <td>Female</td>\n",
       "      <td>59</td>\n",
       "      <td>48-59</td>\n",
       "      <td>Primary</td>\n",
       "      <td>Second</td>\n",
       "    </tr>\n",
       "  </tbody>\n",
       "</table>\n",
       "</div>"
      ],
      "text/plain": [
       "     Child participated in POLIO campaign August 2013  diarrhea_status  \\\n",
       "512                                                 1               No   \n",
       "75                                                  2               No   \n",
       "310                                                 1               No   \n",
       "196                                                 1               No   \n",
       "723                                                 1               No   \n",
       "\n",
       "     weight  height residence     Sex  age age_category   education  \\\n",
       "512    16.8   104.8     Rural  Female   59        48-59  Secondary+   \n",
       "75     15.8   104.4     Rural    Male   59        48-59     Primary   \n",
       "310    17.0   105.3     Urban    Male   59        48-59  Secondary+   \n",
       "196    16.0   102.4     Rural    Male   59        48-59     Primary   \n",
       "723    15.6    88.5     Urban  Female   59        48-59     Primary   \n",
       "\n",
       "    wealth_index  \n",
       "512       Second  \n",
       "75        Second  \n",
       "310      Richest  \n",
       "196      Poorest  \n",
       "723       Second  "
      ]
     },
     "execution_count": 20,
     "metadata": {},
     "output_type": "execute_result"
    }
   ],
   "source": [
    "sorted_df=df.sort_values(by='age',ascending=False)\n",
    "sorted_df.head()"
   ]
  },
  {
   "cell_type": "code",
   "execution_count": 21,
   "id": "09688d1b-2f93-4079-9826-efc38c328632",
   "metadata": {},
   "outputs": [
    {
     "data": {
      "text/html": [
       "<div>\n",
       "<style scoped>\n",
       "    .dataframe tbody tr th:only-of-type {\n",
       "        vertical-align: middle;\n",
       "    }\n",
       "\n",
       "    .dataframe tbody tr th {\n",
       "        vertical-align: top;\n",
       "    }\n",
       "\n",
       "    .dataframe thead th {\n",
       "        text-align: right;\n",
       "    }\n",
       "</style>\n",
       "<table border=\"1\" class=\"dataframe\">\n",
       "  <thead>\n",
       "    <tr style=\"text-align: right;\">\n",
       "      <th></th>\n",
       "      <th>Child participated in POLIO campaign August 2013</th>\n",
       "      <th>diarrhea_status</th>\n",
       "      <th>weight</th>\n",
       "      <th>height</th>\n",
       "      <th>residence</th>\n",
       "      <th>Sex</th>\n",
       "      <th>age</th>\n",
       "      <th>age_category</th>\n",
       "      <th>education</th>\n",
       "      <th>wealth_index</th>\n",
       "    </tr>\n",
       "  </thead>\n",
       "  <tbody>\n",
       "    <tr>\n",
       "      <th>496</th>\n",
       "      <td>2</td>\n",
       "      <td>No</td>\n",
       "      <td>4.0</td>\n",
       "      <td>51.2</td>\n",
       "      <td>Rural</td>\n",
       "      <td>Male</td>\n",
       "      <td>0</td>\n",
       "      <td>0-5</td>\n",
       "      <td>Secondary+</td>\n",
       "      <td>Poorest</td>\n",
       "    </tr>\n",
       "    <tr>\n",
       "      <th>36</th>\n",
       "      <td>2</td>\n",
       "      <td>No</td>\n",
       "      <td>5.2</td>\n",
       "      <td>51.0</td>\n",
       "      <td>Rural</td>\n",
       "      <td>Male</td>\n",
       "      <td>0</td>\n",
       "      <td>0-5</td>\n",
       "      <td>Primary</td>\n",
       "      <td>Second</td>\n",
       "    </tr>\n",
       "    <tr>\n",
       "      <th>456</th>\n",
       "      <td>2</td>\n",
       "      <td>No</td>\n",
       "      <td>3.2</td>\n",
       "      <td>48.2</td>\n",
       "      <td>Rural</td>\n",
       "      <td>Female</td>\n",
       "      <td>0</td>\n",
       "      <td>0-5</td>\n",
       "      <td>Primary</td>\n",
       "      <td>Poorest</td>\n",
       "    </tr>\n",
       "    <tr>\n",
       "      <th>548</th>\n",
       "      <td>2</td>\n",
       "      <td>Yes</td>\n",
       "      <td>3.5</td>\n",
       "      <td>58.0</td>\n",
       "      <td>Rural</td>\n",
       "      <td>Male</td>\n",
       "      <td>0</td>\n",
       "      <td>0-5</td>\n",
       "      <td>Secondary+</td>\n",
       "      <td>Fourth</td>\n",
       "    </tr>\n",
       "    <tr>\n",
       "      <th>153</th>\n",
       "      <td>2</td>\n",
       "      <td>No</td>\n",
       "      <td>4.1</td>\n",
       "      <td>51.6</td>\n",
       "      <td>Rural</td>\n",
       "      <td>Female</td>\n",
       "      <td>0</td>\n",
       "      <td>0-5</td>\n",
       "      <td>Secondary+</td>\n",
       "      <td>Fourth</td>\n",
       "    </tr>\n",
       "  </tbody>\n",
       "</table>\n",
       "</div>"
      ],
      "text/plain": [
       "     Child participated in POLIO campaign August 2013  diarrhea_status  \\\n",
       "496                                                 2               No   \n",
       "36                                                  2               No   \n",
       "456                                                 2               No   \n",
       "548                                                 2              Yes   \n",
       "153                                                 2               No   \n",
       "\n",
       "     weight  height residence     Sex  age age_category   education  \\\n",
       "496     4.0    51.2     Rural    Male    0          0-5  Secondary+   \n",
       "36      5.2    51.0     Rural    Male    0          0-5     Primary   \n",
       "456     3.2    48.2     Rural  Female    0          0-5     Primary   \n",
       "548     3.5    58.0     Rural    Male    0          0-5  Secondary+   \n",
       "153     4.1    51.6     Rural  Female    0          0-5  Secondary+   \n",
       "\n",
       "    wealth_index  \n",
       "496      Poorest  \n",
       "36        Second  \n",
       "456      Poorest  \n",
       "548       Fourth  \n",
       "153       Fourth  "
      ]
     },
     "execution_count": 21,
     "metadata": {},
     "output_type": "execute_result"
    }
   ],
   "source": [
    "sorted_df=df.sort_values(by='age',ascending=True)\n",
    "sorted_df.head()"
   ]
  },
  {
   "cell_type": "code",
   "execution_count": 22,
   "id": "03c6d6fb-ad87-4da9-b27d-2f6d6a6702e9",
   "metadata": {},
   "outputs": [
    {
     "data": {
      "text/plain": [
       "Sex\n",
       "Female    398\n",
       "Male      401\n",
       "dtype: int64"
      ]
     },
     "execution_count": 22,
     "metadata": {},
     "output_type": "execute_result"
    }
   ],
   "source": [
    "df.groupby('Sex').size()"
   ]
  },
  {
   "cell_type": "code",
   "execution_count": 23,
   "id": "99a9d023-e7ac-448b-b56b-635834e2976e",
   "metadata": {},
   "outputs": [
    {
     "data": {
      "text/html": [
       "<div>\n",
       "<style scoped>\n",
       "    .dataframe tbody tr th:only-of-type {\n",
       "        vertical-align: middle;\n",
       "    }\n",
       "\n",
       "    .dataframe tbody tr th {\n",
       "        vertical-align: top;\n",
       "    }\n",
       "\n",
       "    .dataframe thead th {\n",
       "        text-align: right;\n",
       "    }\n",
       "</style>\n",
       "<table border=\"1\" class=\"dataframe\">\n",
       "  <thead>\n",
       "    <tr style=\"text-align: right;\">\n",
       "      <th></th>\n",
       "      <th>Child participated in POLIO campaign August 2013</th>\n",
       "      <th>diarrhea_status</th>\n",
       "      <th>weight</th>\n",
       "      <th>height</th>\n",
       "      <th>residence</th>\n",
       "      <th>Sex</th>\n",
       "      <th>age</th>\n",
       "      <th>age_category</th>\n",
       "      <th>education</th>\n",
       "      <th>wealth_index</th>\n",
       "      <th>is_adult</th>\n",
       "    </tr>\n",
       "  </thead>\n",
       "  <tbody>\n",
       "    <tr>\n",
       "      <th>0</th>\n",
       "      <td>1</td>\n",
       "      <td>No</td>\n",
       "      <td>16.2</td>\n",
       "      <td>102.4</td>\n",
       "      <td>Rural</td>\n",
       "      <td>Female</td>\n",
       "      <td>45</td>\n",
       "      <td>36-47</td>\n",
       "      <td>Secondary+</td>\n",
       "      <td>Richest</td>\n",
       "      <td>Yes</td>\n",
       "    </tr>\n",
       "    <tr>\n",
       "      <th>1</th>\n",
       "      <td>1</td>\n",
       "      <td>No</td>\n",
       "      <td>13.5</td>\n",
       "      <td>92.5</td>\n",
       "      <td>Rural</td>\n",
       "      <td>Male</td>\n",
       "      <td>45</td>\n",
       "      <td>36-47</td>\n",
       "      <td>Primary</td>\n",
       "      <td>Second</td>\n",
       "      <td>Yes</td>\n",
       "    </tr>\n",
       "    <tr>\n",
       "      <th>2</th>\n",
       "      <td>1</td>\n",
       "      <td>No</td>\n",
       "      <td>13.4</td>\n",
       "      <td>88.5</td>\n",
       "      <td>Rural</td>\n",
       "      <td>Male</td>\n",
       "      <td>36</td>\n",
       "      <td>36-47</td>\n",
       "      <td>Primary</td>\n",
       "      <td>Fourth</td>\n",
       "      <td>Yes</td>\n",
       "    </tr>\n",
       "    <tr>\n",
       "      <th>3</th>\n",
       "      <td>1</td>\n",
       "      <td>No</td>\n",
       "      <td>15.0</td>\n",
       "      <td>101.3</td>\n",
       "      <td>Rural</td>\n",
       "      <td>Female</td>\n",
       "      <td>51</td>\n",
       "      <td>48-59</td>\n",
       "      <td>Primary</td>\n",
       "      <td>Fourth</td>\n",
       "      <td>Yes</td>\n",
       "    </tr>\n",
       "    <tr>\n",
       "      <th>4</th>\n",
       "      <td>1</td>\n",
       "      <td>No</td>\n",
       "      <td>15.2</td>\n",
       "      <td>105.0</td>\n",
       "      <td>Rural</td>\n",
       "      <td>Female</td>\n",
       "      <td>56</td>\n",
       "      <td>48-59</td>\n",
       "      <td>Primary</td>\n",
       "      <td>Fourth</td>\n",
       "      <td>Yes</td>\n",
       "    </tr>\n",
       "  </tbody>\n",
       "</table>\n",
       "</div>"
      ],
      "text/plain": [
       "   Child participated in POLIO campaign August 2013  diarrhea_status  weight  \\\n",
       "0                                                 1               No    16.2   \n",
       "1                                                 1               No    13.5   \n",
       "2                                                 1               No    13.4   \n",
       "3                                                 1               No    15.0   \n",
       "4                                                 1               No    15.2   \n",
       "\n",
       "   height residence     Sex  age age_category   education wealth_index  \\\n",
       "0   102.4     Rural  Female   45        36-47  Secondary+      Richest   \n",
       "1    92.5     Rural    Male   45        36-47     Primary       Second   \n",
       "2    88.5     Rural    Male   36        36-47     Primary       Fourth   \n",
       "3   101.3     Rural  Female   51        48-59     Primary       Fourth   \n",
       "4   105.0     Rural  Female   56        48-59     Primary       Fourth   \n",
       "\n",
       "  is_adult  \n",
       "0      Yes  \n",
       "1      Yes  \n",
       "2      Yes  \n",
       "3      Yes  \n",
       "4      Yes  "
      ]
     },
     "execution_count": 23,
     "metadata": {},
     "output_type": "execute_result"
    }
   ],
   "source": [
    "df.loc[df['age']>=18,'is_adult']='Yes'\n",
    "df.loc[df['age']<18,'is_adult']='No'\n",
    "df.head()"
   ]
  },
  {
   "cell_type": "code",
   "execution_count": 29,
   "id": "6312c99a-2217-4086-aef7-33eab567a703",
   "metadata": {},
   "outputs": [],
   "source": [
    "df.drop_duplicates(inplace=True)"
   ]
  },
  {
   "cell_type": "code",
   "execution_count": 28,
   "id": "501413f5-e362-487f-b297-ee76f35be019",
   "metadata": {},
   "outputs": [
    {
     "data": {
      "text/html": [
       "<div>\n",
       "<style scoped>\n",
       "    .dataframe tbody tr th:only-of-type {\n",
       "        vertical-align: middle;\n",
       "    }\n",
       "\n",
       "    .dataframe tbody tr th {\n",
       "        vertical-align: top;\n",
       "    }\n",
       "\n",
       "    .dataframe thead th {\n",
       "        text-align: right;\n",
       "    }\n",
       "</style>\n",
       "<table border=\"1\" class=\"dataframe\">\n",
       "  <thead>\n",
       "    <tr style=\"text-align: right;\">\n",
       "      <th></th>\n",
       "      <th>Child participated in POLIO campaign August 2013</th>\n",
       "      <th>diarrhea_status</th>\n",
       "      <th>weight</th>\n",
       "      <th>height</th>\n",
       "      <th>residence</th>\n",
       "      <th>Sex</th>\n",
       "      <th>age</th>\n",
       "      <th>age_category</th>\n",
       "      <th>education</th>\n",
       "      <th>wealth_index</th>\n",
       "      <th>is_adult</th>\n",
       "    </tr>\n",
       "  </thead>\n",
       "  <tbody>\n",
       "    <tr>\n",
       "      <th>0</th>\n",
       "      <td>1</td>\n",
       "      <td>No</td>\n",
       "      <td>16.2</td>\n",
       "      <td>102.4</td>\n",
       "      <td>Rural</td>\n",
       "      <td>FEMALE</td>\n",
       "      <td>45</td>\n",
       "      <td>36-47</td>\n",
       "      <td>Secondary+</td>\n",
       "      <td>Richest</td>\n",
       "      <td>Yes</td>\n",
       "    </tr>\n",
       "    <tr>\n",
       "      <th>1</th>\n",
       "      <td>1</td>\n",
       "      <td>No</td>\n",
       "      <td>13.5</td>\n",
       "      <td>92.5</td>\n",
       "      <td>Rural</td>\n",
       "      <td>MALE</td>\n",
       "      <td>45</td>\n",
       "      <td>36-47</td>\n",
       "      <td>Primary</td>\n",
       "      <td>Second</td>\n",
       "      <td>Yes</td>\n",
       "    </tr>\n",
       "    <tr>\n",
       "      <th>2</th>\n",
       "      <td>1</td>\n",
       "      <td>No</td>\n",
       "      <td>13.4</td>\n",
       "      <td>88.5</td>\n",
       "      <td>Rural</td>\n",
       "      <td>MALE</td>\n",
       "      <td>36</td>\n",
       "      <td>36-47</td>\n",
       "      <td>Primary</td>\n",
       "      <td>Fourth</td>\n",
       "      <td>Yes</td>\n",
       "    </tr>\n",
       "    <tr>\n",
       "      <th>3</th>\n",
       "      <td>1</td>\n",
       "      <td>No</td>\n",
       "      <td>15.0</td>\n",
       "      <td>101.3</td>\n",
       "      <td>Rural</td>\n",
       "      <td>FEMALE</td>\n",
       "      <td>51</td>\n",
       "      <td>48-59</td>\n",
       "      <td>Primary</td>\n",
       "      <td>Fourth</td>\n",
       "      <td>Yes</td>\n",
       "    </tr>\n",
       "    <tr>\n",
       "      <th>4</th>\n",
       "      <td>1</td>\n",
       "      <td>No</td>\n",
       "      <td>15.2</td>\n",
       "      <td>105.0</td>\n",
       "      <td>Rural</td>\n",
       "      <td>FEMALE</td>\n",
       "      <td>56</td>\n",
       "      <td>48-59</td>\n",
       "      <td>Primary</td>\n",
       "      <td>Fourth</td>\n",
       "      <td>Yes</td>\n",
       "    </tr>\n",
       "  </tbody>\n",
       "</table>\n",
       "</div>"
      ],
      "text/plain": [
       "   Child participated in POLIO campaign August 2013  diarrhea_status  weight  \\\n",
       "0                                                 1               No    16.2   \n",
       "1                                                 1               No    13.5   \n",
       "2                                                 1               No    13.4   \n",
       "3                                                 1               No    15.0   \n",
       "4                                                 1               No    15.2   \n",
       "\n",
       "   height residence     Sex  age age_category   education wealth_index  \\\n",
       "0   102.4     Rural  FEMALE   45        36-47  Secondary+      Richest   \n",
       "1    92.5     Rural    MALE   45        36-47     Primary       Second   \n",
       "2    88.5     Rural    MALE   36        36-47     Primary       Fourth   \n",
       "3   101.3     Rural  FEMALE   51        48-59     Primary       Fourth   \n",
       "4   105.0     Rural  FEMALE   56        48-59     Primary       Fourth   \n",
       "\n",
       "  is_adult  \n",
       "0      Yes  \n",
       "1      Yes  \n",
       "2      Yes  \n",
       "3      Yes  \n",
       "4      Yes  "
      ]
     },
     "execution_count": 28,
     "metadata": {},
     "output_type": "execute_result"
    }
   ],
   "source": [
    "df['Sex']=df['Sex'].str.upper()#lower\n",
    "df.head()"
   ]
  },
  {
   "cell_type": "code",
   "execution_count": 30,
   "id": "5db4ad21-59fc-4106-bacf-154435c35e73",
   "metadata": {},
   "outputs": [
    {
     "data": {
      "text/plain": [
       "wealth_index\n",
       "Fourth     156\n",
       "Middle     140\n",
       "Poorest    197\n",
       "Richest    152\n",
       "Second     154\n",
       "dtype: int64"
      ]
     },
     "execution_count": 30,
     "metadata": {},
     "output_type": "execute_result"
    }
   ],
   "source": [
    "df.groupby('wealth_index').size()"
   ]
  },
  {
   "cell_type": "code",
   "execution_count": 31,
   "id": "7cba6c13-0634-4656-9f8a-60e60f722df0",
   "metadata": {},
   "outputs": [
    {
     "data": {
      "text/html": [
       "<div>\n",
       "<style scoped>\n",
       "    .dataframe tbody tr th:only-of-type {\n",
       "        vertical-align: middle;\n",
       "    }\n",
       "\n",
       "    .dataframe tbody tr th {\n",
       "        vertical-align: top;\n",
       "    }\n",
       "\n",
       "    .dataframe thead th {\n",
       "        text-align: right;\n",
       "    }\n",
       "</style>\n",
       "<table border=\"1\" class=\"dataframe\">\n",
       "  <thead>\n",
       "    <tr style=\"text-align: right;\">\n",
       "      <th></th>\n",
       "      <th>Child participated in POLIO campaign August 2013</th>\n",
       "      <th>diarrhea_status</th>\n",
       "      <th>weight</th>\n",
       "      <th>height</th>\n",
       "      <th>residence</th>\n",
       "      <th>Sex</th>\n",
       "      <th>age</th>\n",
       "      <th>age_category</th>\n",
       "      <th>education</th>\n",
       "      <th>wealth_index</th>\n",
       "    </tr>\n",
       "  </thead>\n",
       "  <tbody>\n",
       "    <tr>\n",
       "      <th>496</th>\n",
       "      <td>2</td>\n",
       "      <td>No</td>\n",
       "      <td>4.0</td>\n",
       "      <td>51.2</td>\n",
       "      <td>Rural</td>\n",
       "      <td>Male</td>\n",
       "      <td>0</td>\n",
       "      <td>0-5</td>\n",
       "      <td>Secondary+</td>\n",
       "      <td>Poorest</td>\n",
       "    </tr>\n",
       "    <tr>\n",
       "      <th>36</th>\n",
       "      <td>2</td>\n",
       "      <td>No</td>\n",
       "      <td>5.2</td>\n",
       "      <td>51.0</td>\n",
       "      <td>Rural</td>\n",
       "      <td>Male</td>\n",
       "      <td>0</td>\n",
       "      <td>0-5</td>\n",
       "      <td>Primary</td>\n",
       "      <td>Second</td>\n",
       "    </tr>\n",
       "    <tr>\n",
       "      <th>456</th>\n",
       "      <td>2</td>\n",
       "      <td>No</td>\n",
       "      <td>3.2</td>\n",
       "      <td>48.2</td>\n",
       "      <td>Rural</td>\n",
       "      <td>Female</td>\n",
       "      <td>0</td>\n",
       "      <td>0-5</td>\n",
       "      <td>Primary</td>\n",
       "      <td>Poorest</td>\n",
       "    </tr>\n",
       "    <tr>\n",
       "      <th>548</th>\n",
       "      <td>2</td>\n",
       "      <td>Yes</td>\n",
       "      <td>3.5</td>\n",
       "      <td>58.0</td>\n",
       "      <td>Rural</td>\n",
       "      <td>Male</td>\n",
       "      <td>0</td>\n",
       "      <td>0-5</td>\n",
       "      <td>Secondary+</td>\n",
       "      <td>Fourth</td>\n",
       "    </tr>\n",
       "    <tr>\n",
       "      <th>153</th>\n",
       "      <td>2</td>\n",
       "      <td>No</td>\n",
       "      <td>4.1</td>\n",
       "      <td>51.6</td>\n",
       "      <td>Rural</td>\n",
       "      <td>Female</td>\n",
       "      <td>0</td>\n",
       "      <td>0-5</td>\n",
       "      <td>Secondary+</td>\n",
       "      <td>Fourth</td>\n",
       "    </tr>\n",
       "  </tbody>\n",
       "</table>\n",
       "</div>"
      ],
      "text/plain": [
       "     Child participated in POLIO campaign August 2013  diarrhea_status  \\\n",
       "496                                                 2               No   \n",
       "36                                                  2               No   \n",
       "456                                                 2               No   \n",
       "548                                                 2              Yes   \n",
       "153                                                 2               No   \n",
       "\n",
       "     weight  height residence     Sex  age age_category   education  \\\n",
       "496     4.0    51.2     Rural    Male    0          0-5  Secondary+   \n",
       "36      5.2    51.0     Rural    Male    0          0-5     Primary   \n",
       "456     3.2    48.2     Rural  Female    0          0-5     Primary   \n",
       "548     3.5    58.0     Rural    Male    0          0-5  Secondary+   \n",
       "153     4.1    51.6     Rural  Female    0          0-5  Secondary+   \n",
       "\n",
       "    wealth_index  \n",
       "496      Poorest  \n",
       "36        Second  \n",
       "456      Poorest  \n",
       "548       Fourth  \n",
       "153       Fourth  "
      ]
     },
     "execution_count": 31,
     "metadata": {},
     "output_type": "execute_result"
    }
   ],
   "source": [
    "sort_df=df.sort_values(by='education',ascending=True)\n",
    "sorted_df.head()"
   ]
  },
  {
   "cell_type": "code",
   "execution_count": 33,
   "id": "1850ea19-9070-4c52-b226-49a00fb7ea49",
   "metadata": {},
   "outputs": [],
   "source": [
    "df=pd.read_csv('childhealthdata.csv')"
   ]
  },
  {
   "cell_type": "code",
   "execution_count": 34,
   "id": "b5f886f3-0f53-4a92-9237-7910ee4fe6a5",
   "metadata": {},
   "outputs": [],
   "source": [
    "Data=pd.read_csv('childhealthdata.csv')"
   ]
  },
  {
   "cell_type": "code",
   "execution_count": 35,
   "id": "9b0f90a6-0d27-4666-ad71-3e374c5048d2",
   "metadata": {},
   "outputs": [
    {
     "data": {
      "text/plain": [
       "(799, 10)"
      ]
     },
     "execution_count": 35,
     "metadata": {},
     "output_type": "execute_result"
    }
   ],
   "source": [
    "Data.shape"
   ]
  },
  {
   "cell_type": "code",
   "execution_count": 36,
   "id": "551268c4-70af-4082-bce7-06b88f72d815",
   "metadata": {},
   "outputs": [
    {
     "data": {
      "text/plain": [
       "<bound method NDFrame.tail of      Child participated in POLIO campaign August 2013  diarrhea_status  \\\n",
       "0                                                   1               No   \n",
       "1                                                   1               No   \n",
       "2                                                   1               No   \n",
       "3                                                   1               No   \n",
       "4                                                   1               No   \n",
       "..                                                ...              ...   \n",
       "794                                                 1               No   \n",
       "795                                                 2               No   \n",
       "796                                                 1               No   \n",
       "797                                                 1               No   \n",
       "798                                                 1               No   \n",
       "\n",
       "     weight  height residence     Sex  age age_category   education  \\\n",
       "0      16.2   102.4     Rural  Female   45        36-47  Secondary+   \n",
       "1      13.5    92.5     Rural    Male   45        36-47     Primary   \n",
       "2      13.4    88.5     Rural    Male   36        36-47     Primary   \n",
       "3      15.0   101.3     Rural  Female   51        48-59     Primary   \n",
       "4      15.2   105.0     Rural  Female   56        48-59     Primary   \n",
       "..      ...     ...       ...     ...  ...          ...         ...   \n",
       "794     8.3    67.0     Urban  Female    7         6-11     Primary   \n",
       "795     3.5    45.0     Urban    Male    0          0-5  Secondary+   \n",
       "796    15.1    86.0     Urban  Female   56        48-59     Primary   \n",
       "797    10.7    71.2     Urban  Female   18        12-23     Primary   \n",
       "798    10.3    73.0     Urban  Female    7         6-11     Primary   \n",
       "\n",
       "    wealth_index  \n",
       "0        Richest  \n",
       "1         Second  \n",
       "2         Fourth  \n",
       "3         Fourth  \n",
       "4         Fourth  \n",
       "..           ...  \n",
       "794       Fourth  \n",
       "795       Fourth  \n",
       "796       Fourth  \n",
       "797       Fourth  \n",
       "798       Middle  \n",
       "\n",
       "[799 rows x 10 columns]>"
      ]
     },
     "execution_count": 36,
     "metadata": {},
     "output_type": "execute_result"
    }
   ],
   "source": [
    "Data.tail"
   ]
  },
  {
   "cell_type": "code",
   "execution_count": 37,
   "id": "d1baaf45-0554-4dbd-8463-1aff3b8c0319",
   "metadata": {},
   "outputs": [
    {
     "data": {
      "text/plain": [
       "Index(['Child participated in POLIO campaign August 2013', ' diarrhea_status',\n",
       "       'weight', 'height', 'residence', 'Sex', 'age', 'age_category',\n",
       "       'education', 'wealth_index'],\n",
       "      dtype='object')"
      ]
     },
     "execution_count": 37,
     "metadata": {},
     "output_type": "execute_result"
    }
   ],
   "source": [
    "Data.columns"
   ]
  },
  {
   "cell_type": "code",
   "execution_count": 38,
   "id": "e9b67cf5-1f06-44a5-a1e8-c2a79ef34101",
   "metadata": {},
   "outputs": [
    {
     "data": {
      "image/png": "[encoded data removed]",
      "text/plain": [
       "<Figure size 800x600 with 1 Axes>"
      ]
     },
     "metadata": {},
     "output_type": "display_data"
    }
   ],
   "source": [
    "import matplotlib.pyplot as plt\n",
    "gender_counts=Data['Sex'].value_counts()\n",
    "plt.figure(figsize=(8,6))\n",
    "plt.pie(gender_counts,labels=gender_counts.index,autopct='%1.1f%%',startangle=140)\n",
    "plt.title('Distribution by Gender')\n",
    "plt.axis('equal')\n",
    "plt.show()\n",
    "        "
   ]
  },
  {
   "cell_type": "code",
   "execution_count": 39,
   "id": "ab0114b8-45ee-47c1-b5dc-aa3881003fa1",
   "metadata": {},
   "outputs": [
    {
     "data": {
      "image/png": "[encoded data removed]",
      "text/plain": [
       "<Figure size 1000x600 with 1 Axes>"
      ]
     },
     "metadata": {},
     "output_type": "display_data"
    }
   ],
   "source": [
    "education_counts=Data['education'].value_counts()\n",
    "plt.figure(figsize=(10,6))\n",
    "plt.bar(education_counts.index,education_counts.values,color='skyblue')\n",
    "plt.xlabel('count')\n",
    "plt.ylabel('count')\n",
    "plt.title('Distribution by education')\n",
    "plt.xticks(rotation=45)#Rotate labels if needed for better readability\n",
    "plt.show()"
   ]
  },
  {
   "cell_type": "code",
   "execution_count": 40,
   "id": "cbba5ac9-123f-469a-8cc3-4d27d7fff039",
   "metadata": {},
   "outputs": [
    {
     "data": {
      "image/png": "[encoded data removed]",
      "text/plain": [
       "<Figure size 800x600 with 1 Axes>"
      ]
     },
     "metadata": {},
     "output_type": "display_data"
    }
   ],
   "source": [
    "plt.figure(figsize=(8,6))\n",
    "plt.hist(Data['age'],bins=10,color='skyblue',edgecolor='black')\n",
    "plt.title('Distribution of age')\n",
    "plt.xlabel('age')\n",
    "plt.ylabel('frequency')\n",
    "plt.show()\n"
   ]
  },
  {
   "cell_type": "code",
   "execution_count": 41,
   "id": "189ca050-f1fe-40dc-a5c8-4a75088d860d",
   "metadata": {},
   "outputs": [
    {
     "data": {
      "image/png": "[encoded data removed]",
      "text/plain": [
       "<Figure size 1000x600 with 1 Axes>"
      ]
     },
     "metadata": {},
     "output_type": "display_data"
    }
   ],
   "source": [
    "data={\n",
    "'month':['January','February','March','April','May','June','July','August','Septeber','October','November','December'],\n",
    "'reported_cases':[90,80,70,75,90,85,80,100,90,85,100,140]}\n",
    "df=pd.DataFrame(data)\n",
    "plt.figure(figsize=(10,6))\n",
    "plt.plot(df['month'],df['reported_cases'],marker='o')\n",
    "plt.xlabel('month')\n",
    "plt.ylabel('Reprted cases')\n",
    "plt.title('Reported Cases Over Time')         \n",
    "plt.grid(True)\n",
    "plt.xticks(rotation=45)\n",
    "plt.show()"
   ]
  },
  {
   "cell_type": "code",
   "execution_count": 42,
   "id": "e7fd1dc7-f01e-41e4-82df-94d86217cdc0",
   "metadata": {},
   "outputs": [
    {
     "name": "stdout",
     "output_type": "stream",
     "text": [
      "201.41666666666666\n"
     ]
    }
   ],
   "source": [
    "m=(182,199,160,227,173,210,227,205,275,208,169,182)\n",
    "averange_cholestral_level=sum(m)/12\n",
    "print(averange_cholestral_level)"
   ]
  },
  {
   "cell_type": "code",
   "execution_count": 43,
   "id": "32a84506-08d8-43da-9aad-112e9f7368b6",
   "metadata": {},
   "outputs": [
    {
     "name": "stdout",
     "output_type": "stream",
     "text": [
      "201.41666666666666\n"
     ]
    }
   ],
   "source": [
    "import numpy as np\n",
    "m=(182,199,160,227,173,210,227,205,275,208,169,182)\n",
    "mean_cholestral=np.mean(m)\n",
    "print(mean_cholestral)"
   ]
  },
  {
   "cell_type": "code",
   "execution_count": 44,
   "id": "c7a0228a-86ba-485c-9a94-29087cf88c5d",
   "metadata": {},
   "outputs": [
    {
     "data": {
      "text/html": [
       "<div>\n",
       "<style scoped>\n",
       "    .dataframe tbody tr th:only-of-type {\n",
       "        vertical-align: middle;\n",
       "    }\n",
       "\n",
       "    .dataframe tbody tr th {\n",
       "        vertical-align: top;\n",
       "    }\n",
       "\n",
       "    .dataframe thead th {\n",
       "        text-align: right;\n",
       "    }\n",
       "</style>\n",
       "<table border=\"1\" class=\"dataframe\">\n",
       "  <thead>\n",
       "    <tr style=\"text-align: right;\">\n",
       "      <th></th>\n",
       "      <th>Child participated in POLIO campaign August 2013</th>\n",
       "      <th>diarrhea_status</th>\n",
       "      <th>weight</th>\n",
       "      <th>height</th>\n",
       "      <th>residence</th>\n",
       "      <th>Sex</th>\n",
       "      <th>age</th>\n",
       "      <th>age_category</th>\n",
       "      <th>education</th>\n",
       "      <th>wealth_index</th>\n",
       "    </tr>\n",
       "  </thead>\n",
       "  <tbody>\n",
       "    <tr>\n",
       "      <th>0</th>\n",
       "      <td>1</td>\n",
       "      <td>No</td>\n",
       "      <td>16.2</td>\n",
       "      <td>102.4</td>\n",
       "      <td>Rural</td>\n",
       "      <td>Female</td>\n",
       "      <td>45</td>\n",
       "      <td>36-47</td>\n",
       "      <td>Secondary+</td>\n",
       "      <td>Richest</td>\n",
       "    </tr>\n",
       "    <tr>\n",
       "      <th>1</th>\n",
       "      <td>1</td>\n",
       "      <td>No</td>\n",
       "      <td>13.5</td>\n",
       "      <td>92.5</td>\n",
       "      <td>Rural</td>\n",
       "      <td>Male</td>\n",
       "      <td>45</td>\n",
       "      <td>36-47</td>\n",
       "      <td>Primary</td>\n",
       "      <td>Second</td>\n",
       "    </tr>\n",
       "    <tr>\n",
       "      <th>2</th>\n",
       "      <td>1</td>\n",
       "      <td>No</td>\n",
       "      <td>13.4</td>\n",
       "      <td>88.5</td>\n",
       "      <td>Rural</td>\n",
       "      <td>Male</td>\n",
       "      <td>36</td>\n",
       "      <td>36-47</td>\n",
       "      <td>Primary</td>\n",
       "      <td>Fourth</td>\n",
       "    </tr>\n",
       "    <tr>\n",
       "      <th>3</th>\n",
       "      <td>1</td>\n",
       "      <td>No</td>\n",
       "      <td>15.0</td>\n",
       "      <td>101.3</td>\n",
       "      <td>Rural</td>\n",
       "      <td>Female</td>\n",
       "      <td>51</td>\n",
       "      <td>48-59</td>\n",
       "      <td>Primary</td>\n",
       "      <td>Fourth</td>\n",
       "    </tr>\n",
       "    <tr>\n",
       "      <th>4</th>\n",
       "      <td>1</td>\n",
       "      <td>No</td>\n",
       "      <td>15.2</td>\n",
       "      <td>105.0</td>\n",
       "      <td>Rural</td>\n",
       "      <td>Female</td>\n",
       "      <td>56</td>\n",
       "      <td>48-59</td>\n",
       "      <td>Primary</td>\n",
       "      <td>Fourth</td>\n",
       "    </tr>\n",
       "  </tbody>\n",
       "</table>\n",
       "</div>"
      ],
      "text/plain": [
       "   Child participated in POLIO campaign August 2013  diarrhea_status  weight  \\\n",
       "0                                                 1               No    16.2   \n",
       "1                                                 1               No    13.5   \n",
       "2                                                 1               No    13.4   \n",
       "3                                                 1               No    15.0   \n",
       "4                                                 1               No    15.2   \n",
       "\n",
       "   height residence     Sex  age age_category   education wealth_index  \n",
       "0   102.4     Rural  Female   45        36-47  Secondary+      Richest  \n",
       "1    92.5     Rural    Male   45        36-47     Primary       Second  \n",
       "2    88.5     Rural    Male   36        36-47     Primary       Fourth  \n",
       "3   101.3     Rural  Female   51        48-59     Primary       Fourth  \n",
       "4   105.0     Rural  Female   56        48-59     Primary       Fourth  "
      ]
     },
     "execution_count": 44,
     "metadata": {},
     "output_type": "execute_result"
    }
   ],
   "source": [
    "import pandas as pd\n",
    "df=pd.read_csv('childhealthdata.csv')\n",
    "df.head()"
   ]
  },
  {
   "cell_type": "code",
   "execution_count": 45,
   "id": "1d7a0331-7374-46a3-a544-59a0b07d356d",
   "metadata": {},
   "outputs": [
    {
     "name": "stdout",
     "output_type": "stream",
     "text": [
      "11.591113892365458\n"
     ]
    }
   ],
   "source": [
    "mean_weight=df['weight'].mean()\n",
    "print(mean_weight)"
   ]
  },
  {
   "cell_type": "code",
   "execution_count": 46,
   "id": "b7302a93-9a23-4e2c-988b-8bfdaa085f73",
   "metadata": {},
   "outputs": [
    {
     "name": "stdout",
     "output_type": "stream",
     "text": [
      "12\n"
     ]
    }
   ],
   "source": [
    "mean_weight=round(df['weight'].mean())\n",
    "print(mean_weight)"
   ]
  },
  {
   "cell_type": "code",
   "execution_count": 47,
   "id": "b90be04d-1231-429f-9565-c5f5fa5705a0",
   "metadata": {},
   "outputs": [
    {
     "name": "stdout",
     "output_type": "stream",
     "text": [
      "84.9\n"
     ]
    }
   ],
   "source": [
    "median_height=df['height'].median()\n",
    "print(median_height)"
   ]
  },
  {
   "cell_type": "code",
   "execution_count": 48,
   "id": "39fc0033-cfb9-4f21-ada4-fa4728828102",
   "metadata": {},
   "outputs": [
    {
     "name": "stdout",
     "output_type": "stream",
     "text": [
      "85\n"
     ]
    }
   ],
   "source": [
    "median_height=round(df['height'].median())\n",
    "print(median_height)"
   ]
  },
  {
   "cell_type": "code",
   "execution_count": 49,
   "id": "05cbf8b2-5254-4652-a722-696b35f3896e",
   "metadata": {},
   "outputs": [
    {
     "name": "stdout",
     "output_type": "stream",
     "text": [
      "11.7\n"
     ]
    }
   ],
   "source": [
    "median_weight=df['weight'].median()\n",
    "print(median_weight)"
   ]
  },
  {
   "cell_type": "code",
   "execution_count": 50,
   "id": "250da5bc-8fcc-4ee7-9d0a-a5a91475ff31",
   "metadata": {},
   "outputs": [
    {
     "name": "stdout",
     "output_type": "stream",
     "text": [
      "17.5\n"
     ]
    }
   ],
   "source": [
    "\n",
    "N=[54,28,13,16,19,19,15,12,16,20]\n",
    "median_mass=np.median(N)\n",
    "print(median_mass)"
   ]
  },
  {
   "cell_type": "code",
   "execution_count": 51,
   "id": "28daf2ae-1ad4-4fbc-a14b-73b04f1205b3",
   "metadata": {},
   "outputs": [
    {
     "name": "stdout",
     "output_type": "stream",
     "text": [
      "16\n"
     ]
    }
   ],
   "source": [
    "from scipy import stats\n",
    "mode_N=stats.mode(N,keepdims=False).mode\n",
    "print(mode_N)"
   ]
  },
  {
   "cell_type": "code",
   "execution_count": 52,
   "id": "a1181d82-5b47-4cdd-a3aa-2914698f3cb3",
   "metadata": {},
   "outputs": [
    {
     "name": "stdout",
     "output_type": "stream",
     "text": [
      "0.25     9.2\n",
      "0.75    14.1\n",
      "Name: weight, dtype: float64\n"
     ]
    }
   ],
   "source": [
    "df=pd.read_csv('childhealthdata.csv')\n",
    "quantiles_25_75=(df['weight'].quantile([0.25,0.75]))\n",
    "print(quantiles_25_75)\n"
   ]
  },
  {
   "cell_type": "code",
   "execution_count": 53,
   "id": "60fa0b09-0bd3-44b9-a5d2-3848125d1b49",
   "metadata": {},
   "outputs": [
    {
     "name": "stdout",
     "output_type": "stream",
     "text": [
      "0.3     9.8\n",
      "0.8    14.7\n",
      "Name: weight, dtype: float64\n"
     ]
    }
   ],
   "source": [
    "quantile_30_80=(df['weight'].quantile([0.3,0.8]))\n",
    "print(quantile_30_80)"
   ]
  },
  {
   "cell_type": "code",
   "execution_count": 54,
   "id": "23fd39e6-8afd-418f-9e7b-850c3f49daec",
   "metadata": {},
   "outputs": [
    {
     "name": "stdout",
     "output_type": "stream",
     "text": [
      "21.9\n"
     ]
    }
   ],
   "source": [
    "weight_range=(df['weight']).max()-(df['weight'].min())\n",
    "print(weight_range)"
   ]
  },
  {
   "cell_type": "code",
   "execution_count": 55,
   "id": "fd7ae659-5a13-4259-868a-adfa3a758601",
   "metadata": {},
   "outputs": [
    {
     "name": "stdout",
     "output_type": "stream",
     "text": [
      "upper bound: 14.1\n",
      "lower bound: 9.2\n",
      "4.9\n"
     ]
    }
   ],
   "source": [
    "iqr=(df['weight']).quantile(0.75)-(df['weight'].quantile(0.25))\n",
    "print(\"upper bound:\", df['weight'].quantile(0.75))\n",
    "print(\"lower bound:\", df['weight'].quantile(0.25))\n",
    "print(iqr)"
   ]
  },
  {
   "cell_type": "code",
   "execution_count": 56,
   "id": "2cc8c7e7-7666-46e8-9364-0958d10b8da1",
   "metadata": {},
   "outputs": [
    {
     "name": "stdout",
     "output_type": "stream",
     "text": [
      "3.4087288270461693\n"
     ]
    }
   ],
   "source": [
    "std_deviation_weight=(df['weight'].std())\n",
    "print(std_deviation_weight)"
   ]
  },
  {
   "cell_type": "code",
   "execution_count": 57,
   "id": "a2f2ca05-4d5a-4d3e-8a27-427dfb011723",
   "metadata": {},
   "outputs": [
    {
     "name": "stdout",
     "output_type": "stream",
     "text": [
      "13.79570411748078\n"
     ]
    }
   ],
   "source": [
    "std_deviation_height=(df['height'].std())\n",
    "print(std_deviation_height)"
   ]
  },
  {
   "cell_type": "code",
   "execution_count": 58,
   "id": "bc00a6ec-6826-42f1-a5d3-20f757f9c5b8",
   "metadata": {},
   "outputs": [
    {
     "name": "stdout",
     "output_type": "stream",
     "text": [
      "79.8\n"
     ]
    }
   ],
   "source": [
    "height_range=(df['height']).max()-(df['height'].min())\n",
    "print(height_range)"
   ]
  },
  {
   "cell_type": "code",
   "execution_count": 59,
   "id": "0c918a38-4752-46a5-b9fc-32f286311596",
   "metadata": {},
   "outputs": [
    {
     "name": "stdout",
     "output_type": "stream",
     "text": [
      "-0.09040012558770584\n"
     ]
    }
   ],
   "source": [
    "from scipy.stats import skew\n",
    "skewness_weight=skew(df['weight'])\n",
    "print(skewness_weight)"
   ]
  },
  {
   "cell_type": "code",
   "execution_count": 60,
   "id": "1c91eef1-5d8b-40fa-822e-1a020a0284f9",
   "metadata": {},
   "outputs": [
    {
     "name": "stdout",
     "output_type": "stream",
     "text": [
      "Mean\n"
     ]
    }
   ],
   "source": [
    "skew_wt=skew(df['weight'])\n",
    "wt_measure=\"Mean\" if abs(skew_wt)<=0.5 else \"Median\"\n",
    "print(wt_measure)"
   ]
  },
  {
   "cell_type": "code",
   "execution_count": 61,
   "id": "042962ed-32b8-4692-b7dc-8b3faeffb362",
   "metadata": {},
   "outputs": [
    {
     "name": "stdout",
     "output_type": "stream",
     "text": [
      "   integers                                   range\n",
      "0         3                               (0, 1, 2)\n",
      "1         5                         (0, 1, 2, 3, 4)\n",
      "2         7                   (0, 1, 2, 3, 4, 5, 6)\n",
      "3        10          (0, 1, 2, 3, 4, 5, 6, 7, 8, 9)\n",
      "4        12  (0, 1, 2, 3, 4, 5, 6, 7, 8, 9, 10, 11)\n"
     ]
    }
   ],
   "source": [
    "import pandas as pd\n",
    "data={\n",
    "   'integers':[3,5,7,10,12]\n",
    "}\n",
    "df=pd.DataFrame(data)\n",
    "df['range']= df['integers'].apply(lambda x:range(x))\n",
    "print(df)"
   ]
  },
  {
   "cell_type": "code",
   "execution_count": 62,
   "id": "4280bf38-1b4c-49ca-8e28-d0dc1a28373e",
   "metadata": {},
   "outputs": [
    {
     "name": "stdout",
     "output_type": "stream",
     "text": [
      "     Child participated in POLIO campaign August 2013  diarrhea_status  \\\n",
      "0                                                   1               No   \n",
      "1                                                   1               No   \n",
      "2                                                   1               No   \n",
      "3                                                   1               No   \n",
      "4                                                   1               No   \n",
      "..                                                ...              ...   \n",
      "794                                                 1               No   \n",
      "795                                                 2               No   \n",
      "796                                                 1               No   \n",
      "797                                                 1               No   \n",
      "798                                                 1               No   \n",
      "\n",
      "     weight  height residence  Sex  age age_category   education wealth_index  \n",
      "0      16.2   102.4     Rural    1   45        36-47  Secondary+      Richest  \n",
      "1      13.5    92.5     Rural    0   45        36-47     Primary       Second  \n",
      "2      13.4    88.5     Rural    0   36        36-47     Primary       Fourth  \n",
      "3      15.0   101.3     Rural    1   51        48-59     Primary       Fourth  \n",
      "4      15.2   105.0     Rural    1   56        48-59     Primary       Fourth  \n",
      "..      ...     ...       ...  ...  ...          ...         ...          ...  \n",
      "794     8.3    67.0     Urban    1    7         6-11     Primary       Fourth  \n",
      "795     3.5    45.0     Urban    0    0          0-5  Secondary+       Fourth  \n",
      "796    15.1    86.0     Urban    1   56        48-59     Primary       Fourth  \n",
      "797    10.7    71.2     Urban    1   18        12-23     Primary       Fourth  \n",
      "798    10.3    73.0     Urban    1    7         6-11     Primary       Middle  \n",
      "\n",
      "[799 rows x 10 columns]\n"
     ]
    }
   ],
   "source": [
    "import pandas as pd\n",
    "import numpy as np\n",
    "df=pd.read_csv(\"childhealthdata.csv\")\n",
    "mapping={\n",
    "    'True':1,\n",
    "    'False':0,\n",
    "    'Female':1,\n",
    "    'Male':0\n",
    "}\n",
    "df['Sex']=df['Sex'].map(mapping)\n",
    "print(df)"
   ]
  },
  {
   "cell_type": "code",
   "execution_count": 63,
   "id": "d592f060-12b6-4891-99a1-58aaeb498585",
   "metadata": {},
   "outputs": [
    {
     "name": "stdout",
     "output_type": "stream",
     "text": [
      "     Gender   Height Weight  Index  Unnamed: 4  Unnamed: 5 female  male\n",
      "0       NaN  15    8     89      4         NaN         NaN    158   158\n",
      "1       NaN  15    8     89      4         NaN         NaN    158   158\n",
      "2       1.0      178    127      4         NaN         NaN    178   178\n",
      "3       1.0     none    139      5         NaN         NaN   none  none\n",
      "4       1.0     none    104      5         NaN         NaN    181   181\n",
      "..      ...      ...    ...    ...         ...         ...    ...   ...\n",
      "399     0.0      190   none      5         NaN         NaN    NaN   NaN\n",
      "400     0.0      164    130      5         NaN         NaN    NaN   NaN\n",
      "401     0.0      185    138      5         NaN         NaN    NaN   NaN\n",
      "402     0.0      188    158      5         NaN         NaN    NaN   NaN\n",
      "403     0.0      161    155      5         NaN         NaN    NaN   NaN\n",
      "\n",
      "[404 rows x 8 columns]\n"
     ]
    }
   ],
   "source": [
    "import pandas as pd\n",
    "import numpy as np\n",
    "df=pd.read_csv(\"dirtybmi_30.csv\")\n",
    "mapping={\n",
    "    'True':1,\n",
    "    'False':0,\n",
    "    'Female':1,\n",
    "    'Male':0\n",
    "}\n",
    "df['Gender']=df['Gender'].map(mapping)\n",
    "print(df)"
   ]
  },
  {
   "cell_type": "code",
   "execution_count": 64,
   "id": "297a1946-8d85-4b3c-b49e-31d5ae0dc506",
   "metadata": {},
   "outputs": [
    {
     "name": "stdout",
     "output_type": "stream",
     "text": [
      "<class 'pandas.core.frame.DataFrame'>\n",
      "RangeIndex: 404 entries, 0 to 403\n",
      "Data columns (total 8 columns):\n",
      " #   Column      Non-Null Count  Dtype   \n",
      "---  ------      --------------  -----   \n",
      " 0   Gender      404 non-null    category\n",
      " 1   Height      404 non-null    string  \n",
      " 2   Weight      404 non-null    string  \n",
      " 3   Index       404 non-null    int32   \n",
      " 4   Unnamed: 4  0 non-null      float64 \n",
      " 5   Unnamed: 5  0 non-null      float64 \n",
      " 6   female      204 non-null    category\n",
      " 7   male        204 non-null    category\n",
      "dtypes: category(3), float64(2), int32(1), string(2)\n",
      "memory usage: 20.9 KB\n"
     ]
    }
   ],
   "source": [
    "import pandas as pd\n",
    "import numpy as np\n",
    "df1=pd.read_csv(\"dirtybmi_30.csv\")\n",
    "df1['Gender']=df1['Gender'].astype('category')\n",
    "df1['Height']=df1['Height'].astype('string')\n",
    "df1['Weight']=df1['Weight'].astype('string')\n",
    "df1['Index']=df1['Index'].astype('int')\n",
    "df1['female']=df1['female'].astype('category')\n",
    "df1['male']=df1['male'].astype('category')\n",
    "df1.info()"
   ]
  },
  {
   "cell_type": "code",
   "execution_count": 65,
   "id": "6f11c9d8-4d32-4ec4-87e3-96db085d937a",
   "metadata": {},
   "outputs": [
    {
     "name": "stdout",
     "output_type": "stream",
     "text": [
      "Original DataFrame:\n",
      "      Name      City\n",
      "0     Rose   Makueni\n",
      "1     Jame  Kwavonza\n",
      "2  Charlie     Kitui\n",
      "3    Faith  Muselele\n"
     ]
    }
   ],
   "source": [
    "import pandas as pd\n",
    "data={\n",
    "    'Name':['Rose', 'Jame','Charlie','Faith'],\n",
    "    'City':['Makueni','Kwavonza','Kitui','Muselele']\n",
    "}\n",
    "df=pd.DataFrame(data)\n",
    "print(\"Original DataFrame:\")\n",
    "print(df)"
   ]
  },
  {
   "cell_type": "code",
   "execution_count": 66,
   "id": "01e66294-ac69-483b-b32d-e7dd585c75d7",
   "metadata": {},
   "outputs": [
    {
     "name": "stdout",
     "output_type": "stream",
     "text": [
      "Original DataFrame:\n",
      "       Name       City\n",
      "0     Rose     Makueni\n",
      "1     Jane   Kwavonza \n",
      "2  Charlie      Kitui \n",
      "3    Faith   Muselele \n"
     ]
    }
   ],
   "source": [
    "import pandas as pd\n",
    "data={\n",
    "    'Name':[' Rose ', 'Jane ','Charlie ','Faith ',],\n",
    "    'City':[' Makueni','Kwavonza ','Kitui ','Muselele ']\n",
    "}\n",
    "df=pd.DataFrame(data)\n",
    "print(\"Original DataFrame:\")\n",
    "print(df)"
   ]
  },
  {
   "cell_type": "code",
   "execution_count": 67,
   "id": "e31eb823-96b8-4467-a9b6-0a4587b2ce95",
   "metadata": {},
   "outputs": [
    {
     "name": "stdout",
     "output_type": "stream",
     "text": [
      "\n",
      "Rows with out-of-range 'height':\n",
      "     Child participated in POLIO campaign August 2013  diarrhea_status  \\\n",
      "43                                                  1               No   \n",
      "103                                                 1               No   \n",
      "127                                                 1               No   \n",
      "158                                                 1               No   \n",
      "396                                                 1               No   \n",
      "450                                                 1               No   \n",
      "456                                                 2               No   \n",
      "531                                                 1               No   \n",
      "577                                                 2               No   \n",
      "678                                                 1               No   \n",
      "733                                                 1               No   \n",
      "757                                                 1               No   \n",
      "795                                                 2               No   \n",
      "\n",
      "     weight  height residence     Sex  age age_category   education  \\\n",
      "43     20.5   112.0     Rural    Male   53        48-59     Primary   \n",
      "103    14.6   114.3     Rural    Male   56        48-59     Primary   \n",
      "127    20.3   110.4     Rural  Female   50        48-59     Primary   \n",
      "158    13.3   111.9     Rural    Male   58        48-59  Secondary+   \n",
      "396    19.3   112.8     Urban    Male   56        48-59  Secondary+   \n",
      "450    12.0   124.8     Rural    Male   52        48-59     Primary   \n",
      "456     3.2    48.2     Rural  Female    0          0-5     Primary   \n",
      "531    20.1   110.1     Rural    Male   58        48-59  Secondary+   \n",
      "577     4.8    48.2     Rural  Female    1          0-5     Primary   \n",
      "678    18.2   112.7     Urban  Female   50        48-59  Secondary+   \n",
      "733    18.7   112.1     Urban  Female   58        48-59  Secondary+   \n",
      "757    19.9   117.9     Urban  Female   58        48-59     Primary   \n",
      "795     3.5    45.0     Urban    Male    0          0-5  Secondary+   \n",
      "\n",
      "    wealth_index  \n",
      "43       Richest  \n",
      "103       Fourth  \n",
      "127       Middle  \n",
      "158       Middle  \n",
      "396      Richest  \n",
      "450       Middle  \n",
      "456      Poorest  \n",
      "531       Second  \n",
      "577      Poorest  \n",
      "678      Poorest  \n",
      "733       Fourth  \n",
      "757       Second  \n",
      "795       Fourth  \n",
      "\n",
      "Rows with out-of-range 'weight':\n",
      "     Child participated in POLIO campaign August 2013  diarrhea_status  \\\n",
      "43                                                  1               No   \n",
      "127                                                 1               No   \n",
      "150                                                 2               No   \n",
      "334                                                 2              Yes   \n",
      "456                                                 2               No   \n",
      "493                                                 2               No   \n",
      "494                                                 2               No   \n",
      "531                                                 1               No   \n",
      "548                                                 2              Yes   \n",
      "627                                                 1               No   \n",
      "795                                                 2               No   \n",
      "\n",
      "     weight  height residence     Sex  age age_category   education  \\\n",
      "43     20.5   112.0     Rural    Male   53        48-59     Primary   \n",
      "127    20.3   110.4     Rural  Female   50        48-59     Primary   \n",
      "150     3.8    62.3     Rural    Male    4          0-5     Primary   \n",
      "334     3.2    71.4     Urban    Male    7         6-11     Primary   \n",
      "456     3.2    48.2     Rural  Female    0          0-5     Primary   \n",
      "493     3.1    51.0     Rural    Male    2          0-5         NaN   \n",
      "494     3.1    51.5     Rural  Female    2          0-5         NaN   \n",
      "531    20.1   110.1     Rural    Male   58        48-59  Secondary+   \n",
      "548     3.5    58.0     Rural    Male    0          0-5  Secondary+   \n",
      "627    25.0    98.5     Rural    Male   37        36-47  Secondary+   \n",
      "795     3.5    45.0     Urban    Male    0          0-5  Secondary+   \n",
      "\n",
      "    wealth_index  \n",
      "43       Richest  \n",
      "127       Middle  \n",
      "150       Second  \n",
      "334       Middle  \n",
      "456      Poorest  \n",
      "493      Poorest  \n",
      "494      Poorest  \n",
      "531       Second  \n",
      "548       Fourth  \n",
      "627      Poorest  \n",
      "795       Fourth  \n"
     ]
    }
   ],
   "source": [
    "import pandas as pd\n",
    "from scipy import stats\n",
    "csv_file='childhealthdata.csv'\n",
    "df=pd.read_csv(csv_file)\n",
    "\n",
    "height_min, height_max=50,110\n",
    "weight_min, weight_max=4,20\n",
    "\n",
    "out_of_range_height=df[(df['height']<height_min)|(df['height']>height_max)]\n",
    "out_of_range_weight=df[(df['weight']<weight_min)|(df['weight']>weight_max)]\n",
    "\n",
    "print(\"\\nRows with out-of-range 'height':\")\n",
    "print(out_of_range_height)\n",
    "\n",
    "print(\"\\nRows with out-of-range 'weight':\")\n",
    "print(out_of_range_weight)\n",
    "      "
   ]
  },
  {
   "cell_type": "code",
   "execution_count": 68,
   "id": "bb6b897d-d24c-448f-9a0f-291381cbb5aa",
   "metadata": {},
   "outputs": [
    {
     "name": "stdout",
     "output_type": "stream",
     "text": [
      "0      False\n",
      "1      False\n",
      "2      False\n",
      "3      False\n",
      "4      False\n",
      "       ...  \n",
      "794    False\n",
      "795    False\n",
      "796    False\n",
      "797    False\n",
      "798    False\n",
      "Length: 799, dtype: bool\n"
     ]
    }
   ],
   "source": [
    "import pandas as pd\n",
    "from scipy import stats\n",
    "df=pd.read_csv('childhealthdata.csv')\n",
    "duplicates=df.duplicated()\n",
    "print(duplicates)"
   ]
  },
  {
   "cell_type": "code",
   "execution_count": 69,
   "id": "1bb2659b-fbe0-4ca1-8c60-fe04d8ff9f34",
   "metadata": {},
   "outputs": [
    {
     "name": "stdout",
     "output_type": "stream",
     "text": [
      "<bound method DataFrame.drop_duplicates of      Child participated in POLIO campaign August 2013  diarrhea_status  \\\n",
      "0                                                   1               No   \n",
      "1                                                   1               No   \n",
      "2                                                   1               No   \n",
      "3                                                   1               No   \n",
      "4                                                   1               No   \n",
      "..                                                ...              ...   \n",
      "794                                                 1               No   \n",
      "795                                                 2               No   \n",
      "796                                                 1               No   \n",
      "797                                                 1               No   \n",
      "798                                                 1               No   \n",
      "\n",
      "     weight  height residence     Sex  age age_category   education  \\\n",
      "0      16.2   102.4     Rural  Female   45        36-47  Secondary+   \n",
      "1      13.5    92.5     Rural    Male   45        36-47     Primary   \n",
      "2      13.4    88.5     Rural    Male   36        36-47     Primary   \n",
      "3      15.0   101.3     Rural  Female   51        48-59     Primary   \n",
      "4      15.2   105.0     Rural  Female   56        48-59     Primary   \n",
      "..      ...     ...       ...     ...  ...          ...         ...   \n",
      "794     8.3    67.0     Urban  Female    7         6-11     Primary   \n",
      "795     3.5    45.0     Urban    Male    0          0-5  Secondary+   \n",
      "796    15.1    86.0     Urban  Female   56        48-59     Primary   \n",
      "797    10.7    71.2     Urban  Female   18        12-23     Primary   \n",
      "798    10.3    73.0     Urban  Female    7         6-11     Primary   \n",
      "\n",
      "    wealth_index  \n",
      "0        Richest  \n",
      "1         Second  \n",
      "2         Fourth  \n",
      "3         Fourth  \n",
      "4         Fourth  \n",
      "..           ...  \n",
      "794       Fourth  \n",
      "795       Fourth  \n",
      "796       Fourth  \n",
      "797       Fourth  \n",
      "798       Middle  \n",
      "\n",
      "[799 rows x 10 columns]>\n"
     ]
    }
   ],
   "source": [
    "df.drop_duplicates\n",
    "clean=df.drop_duplicates\n",
    "print(clean)\n"
   ]
  },
  {
   "cell_type": "code",
   "execution_count": 70,
   "id": "7c590e2d-8eca-48aa-89ce-28897f95daa6",
   "metadata": {},
   "outputs": [
    {
     "name": "stdout",
     "output_type": "stream",
     "text": [
      "0      False\n",
      "1       True\n",
      "2      False\n",
      "3      False\n",
      "4      False\n",
      "       ...  \n",
      "399    False\n",
      "400    False\n",
      "401    False\n",
      "402    False\n",
      "403    False\n",
      "Length: 404, dtype: bool\n"
     ]
    }
   ],
   "source": [
    "import pandas as pd\n",
    "from scipy import stats\n",
    "df=pd.read_csv('dirtybmi_30.csv')\n",
    "duplicates=df.duplicated()\n",
    "print(duplicates)"
   ]
  },
  {
   "cell_type": "code",
   "execution_count": 71,
   "id": "4863d40b-4fd4-47d7-94fa-546ebbfc99da",
   "metadata": {},
   "outputs": [
    {
     "name": "stdout",
     "output_type": "stream",
     "text": [
      "<bound method DataFrame.drop_duplicates of         Gender   Height Weight  Index  Unnamed: 4  Unnamed: 5 female  male\n",
      "0    Fema   le  15    8     89      4         NaN         NaN    158   158\n",
      "1    Fema   le  15    8     89      4         NaN         NaN    158   158\n",
      "2       Female      178    127      4         NaN         NaN    178   178\n",
      "3       Female     none    139      5         NaN         NaN   none  none\n",
      "4       Female     none    104      5         NaN         NaN    181   181\n",
      "..         ...      ...    ...    ...         ...         ...    ...   ...\n",
      "399       Male      190   none      5         NaN         NaN    NaN   NaN\n",
      "400       Male      164    130      5         NaN         NaN    NaN   NaN\n",
      "401       Male      185    138      5         NaN         NaN    NaN   NaN\n",
      "402       Male      188    158      5         NaN         NaN    NaN   NaN\n",
      "403       Male      161    155      5         NaN         NaN    NaN   NaN\n",
      "\n",
      "[404 rows x 8 columns]>\n"
     ]
    }
   ],
   "source": [
    "df.drop_duplicates\n",
    "clean=df.drop_duplicates\n",
    "print(clean)"
   ]
  },
  {
   "cell_type": "code",
   "execution_count": 72,
   "id": "5c016a0c-3334-4ef9-aeda-10ab5cf339d1",
   "metadata": {},
   "outputs": [
    {
     "data": {
      "text/html": [
       "<div>\n",
       "<style scoped>\n",
       "    .dataframe tbody tr th:only-of-type {\n",
       "        vertical-align: middle;\n",
       "    }\n",
       "\n",
       "    .dataframe tbody tr th {\n",
       "        vertical-align: top;\n",
       "    }\n",
       "\n",
       "    .dataframe thead th {\n",
       "        text-align: right;\n",
       "    }\n",
       "</style>\n",
       "<table border=\"1\" class=\"dataframe\">\n",
       "  <thead>\n",
       "    <tr style=\"text-align: right;\">\n",
       "      <th></th>\n",
       "      <th>patient ID</th>\n",
       "      <th>Name</th>\n",
       "      <th>Gender</th>\n",
       "      <th>Blood Type</th>\n",
       "      <th>Diagnosis Code</th>\n",
       "    </tr>\n",
       "  </thead>\n",
       "  <tbody>\n",
       "    <tr>\n",
       "      <th>0</th>\n",
       "      <td>1</td>\n",
       "      <td>Alice</td>\n",
       "      <td>Female</td>\n",
       "      <td>A+</td>\n",
       "      <td>A00</td>\n",
       "    </tr>\n",
       "    <tr>\n",
       "      <th>1</th>\n",
       "      <td>2</td>\n",
       "      <td>Bob</td>\n",
       "      <td>Male</td>\n",
       "      <td>B-</td>\n",
       "      <td>B99</td>\n",
       "    </tr>\n",
       "    <tr>\n",
       "      <th>2</th>\n",
       "      <td>3</td>\n",
       "      <td>Charlie</td>\n",
       "      <td>Others</td>\n",
       "      <td>O+</td>\n",
       "      <td>C30</td>\n",
       "    </tr>\n",
       "    <tr>\n",
       "      <th>3</th>\n",
       "      <td>4</td>\n",
       "      <td>David</td>\n",
       "      <td>Unknown</td>\n",
       "      <td>AB-</td>\n",
       "      <td>XYZ</td>\n",
       "    </tr>\n",
       "  </tbody>\n",
       "</table>\n",
       "</div>"
      ],
      "text/plain": [
       "   patient ID     Name   Gender Blood Type Diagnosis Code\n",
       "0           1    Alice   Female         A+            A00\n",
       "1           2      Bob     Male         B-            B99\n",
       "2           3  Charlie   Others         O+            C30\n",
       "3           4    David  Unknown        AB-            XYZ"
      ]
     },
     "execution_count": 72,
     "metadata": {},
     "output_type": "execute_result"
    }
   ],
   "source": [
    "\n",
    "import pandas as pd\n",
    "data={\n",
    "   'patient ID':[1,2,3,4],\n",
    "   'Name':['Alice','Bob','Charlie', 'David'],\n",
    "   'Gender':['Female','Male','Others','Unknown'],\n",
    "   'Blood Type':['A+','B-','O+','AB-'],\n",
    "   'Diagnosis Code':['A00','B99','C30','XYZ'],\n",
    "}\n",
    "df=pd.DataFrame(data)\n",
    "\n",
    "valid_genders={'Male','Female','Other'}\n",
    "valid_blood_types={'A+','A-','B+','B-','O+','O-','AB+','AB-'}\n",
    "valid_diagnosis_codes={'A00','B99','C30'}\n",
    "df.head()"
   ]
  },
  {
   "cell_type": "code",
   "execution_count": 73,
   "id": "7c85087a-8505-4f41-9e01-b3b5cf31d154",
   "metadata": {},
   "outputs": [
    {
     "data": {
      "text/html": [
       "<div>\n",
       "<style scoped>\n",
       "    .dataframe tbody tr th:only-of-type {\n",
       "        vertical-align: middle;\n",
       "    }\n",
       "\n",
       "    .dataframe tbody tr th {\n",
       "        vertical-align: top;\n",
       "    }\n",
       "\n",
       "    .dataframe thead th {\n",
       "        text-align: right;\n",
       "    }\n",
       "</style>\n",
       "<table border=\"1\" class=\"dataframe\">\n",
       "  <thead>\n",
       "    <tr style=\"text-align: right;\">\n",
       "      <th></th>\n",
       "      <th>patient ID</th>\n",
       "      <th>Name</th>\n",
       "      <th>Gender</th>\n",
       "      <th>Blood Type</th>\n",
       "      <th>Diagnosis Code</th>\n",
       "    </tr>\n",
       "  </thead>\n",
       "  <tbody>\n",
       "    <tr>\n",
       "      <th>0</th>\n",
       "      <td>1</td>\n",
       "      <td>Alice</td>\n",
       "      <td>Female</td>\n",
       "      <td>A+</td>\n",
       "      <td>A00</td>\n",
       "    </tr>\n",
       "    <tr>\n",
       "      <th>1</th>\n",
       "      <td>2</td>\n",
       "      <td>Bob</td>\n",
       "      <td>Male</td>\n",
       "      <td>B-</td>\n",
       "      <td>B99</td>\n",
       "    </tr>\n",
       "    <tr>\n",
       "      <th>2</th>\n",
       "      <td>3</td>\n",
       "      <td>Charlie</td>\n",
       "      <td>Others</td>\n",
       "      <td>O+</td>\n",
       "      <td>C30</td>\n",
       "    </tr>\n",
       "    <tr>\n",
       "      <th>3</th>\n",
       "      <td>4</td>\n",
       "      <td>David</td>\n",
       "      <td>Unknown</td>\n",
       "      <td>AB-</td>\n",
       "      <td>XYZ</td>\n",
       "    </tr>\n",
       "  </tbody>\n",
       "</table>\n",
       "</div>"
      ],
      "text/plain": [
       "   patient ID     Name   Gender Blood Type Diagnosis Code\n",
       "0           1    Alice   Female         A+            A00\n",
       "1           2      Bob     Male         B-            B99\n",
       "2           3  Charlie   Others         O+            C30\n",
       "3           4    David  Unknown        AB-            XYZ"
      ]
     },
     "execution_count": 73,
     "metadata": {},
     "output_type": "execute_result"
    }
   ],
   "source": [
    "def check_membership(value,value_set):\n",
    "    if value not in valid_set:\n",
    "       return False\n",
    "    return True\n",
    "\n",
    "def validate_health_data(df):\n",
    "   invalid_rows=[]\n",
    "   for index,row in df.iterrows():\n",
    "        errors={}\n",
    "        if not check_membership(row['Gender'],valid_genders):\n",
    "            errors['Gender']=row['Gender']\n",
    "        if not check_membership(row['Blood Type'],valid_blood_type):\n",
    "            errors['Blood Type']=row['Blood Type']\n",
    "        if not check_membership(row['diagnosis Code'],valid-diagnosis_code):\n",
    "            errors['diagnosis Code']=row['Diagnosis Code']\n",
    "df.head()\n"
   ]
  },
  {
   "cell_type": "code",
   "execution_count": 74,
   "id": "6062a0ec-2f31-4b8a-8755-749689e2a86d",
   "metadata": {},
   "outputs": [
    {
     "ename": "NameError",
     "evalue": "name 'invalid_entries' is not defined",
     "output_type": "error",
     "traceback": [
      "\u001b[1;31m---------------------------------------------------------------------------\u001b[0m",
      "\u001b[1;31mNameError\u001b[0m                                 Traceback (most recent call last)",
      "Cell \u001b[1;32mIn[74], line 1\u001b[0m\n\u001b[1;32m----> 1\u001b[0m df_clean\u001b[38;5;241m=\u001b[39mdf\u001b[38;5;241m.\u001b[39mdrop(index\u001b[38;5;241m=\u001b[39m[entry[\u001b[38;5;124m'\u001b[39m\u001b[38;5;124mindex\u001b[39m\u001b[38;5;124m'\u001b[39m] \u001b[38;5;28;01mfor\u001b[39;00m entry \u001b[38;5;129;01min\u001b[39;00m invalid_entries])\n\u001b[0;32m      2\u001b[0m \u001b[38;5;28;01mfor\u001b[39;00m entry \u001b[38;5;129;01min\u001b[39;00m invalid_entries:\n\u001b[0;32m      3\u001b[0m     \u001b[38;5;28;01mfor\u001b[39;00m field \u001b[38;5;129;01min\u001b[39;00m entry[\u001b[38;5;124m'\u001b[39m\u001b[38;5;124merrors\u001b[39m\u001b[38;5;124m'\u001b[39m]:\n",
      "\u001b[1;31mNameError\u001b[0m: name 'invalid_entries' is not defined"
     ]
    }
   ],
   "source": [
    "df_clean=df.drop(index=[entry['index'] for entry in invalid_entries])\n",
    "for entry in invalid_entries:\n",
    "    for field in entry['errors']:\n",
    "        if field=='Gender':\n",
    "            df.at[entry['index'],field]='Other'\n",
    "        elif field=='Diagnosis Code':\n",
    "            df.at[entry['index'],field]='A00'\n",
    "print(\"\\nCleaned DataFrame:\")\n",
    "print(df_cleaned)"
   ]
  },
  {
   "cell_type": "code",
   "execution_count": 75,
   "id": "6893a72e-2bab-4dbf-ada2-a79ddc6e351c",
   "metadata": {},
   "outputs": [
    {
     "name": "stdout",
     "output_type": "stream",
     "text": [
      "Invalid Row:\n",
      "   EmployeeID Name  Age  Years_of_Experience Is_Valid\n",
      "1           2  Bob   25                   27    False\n"
     ]
    }
   ],
   "source": [
    "import pandas as pd\n",
    "data={\n",
    "    'EmployeeID':[1,2,3,4],\n",
    "    'Name':['Alice','Bob','Charlie','David'],\n",
    "    'Age':[30,25,40,22],\n",
    "    'Years_of_Experience':[5,27,15,1]\n",
    "}\n",
    "df=pd.DataFrame(data)\n",
    "def validate_experience(row):\n",
    "  if row['Years_of_Experience']>row['Age']:\n",
    "    return False\n",
    "    return True\n",
    "df['Is_Valid']=df.apply(validate_experience,axis=1)\n",
    "invalid_rows=df[df['Is_Valid']==False]\n",
    "print(\"Invalid Row:\")\n",
    "print(invalid_rows)"
   ]
  },
  {
   "cell_type": "code",
   "execution_count": null,
   "id": "3d29d7f1-1cbc-4107-87cb-c42dbaa4f814",
   "metadata": {},
   "outputs": [],
   "source": []
  },
  {
   "cell_type": "code",
   "execution_count": 76,
   "id": "9096e5d4-a921-44e3-8a5e-713e3d5df35f",
   "metadata": {},
   "outputs": [
    {
     "name": "stdout",
     "output_type": "stream",
     "text": [
      "Invalid Row:\n",
      "   EmployeeID Name  Age  Years_of_Experience Is_Valid\n",
      "1           2  Bob   25                   27    False\n"
     ]
    }
   ],
   "source": [
    "import pandas as pd\n",
    "data={\n",
    "    'EmployeeID':[1,2,3,4],\n",
    "    'Name':['Alice','Bob','Charlie','David'],\n",
    "    'Age':[30,25,40,22],\n",
    "    'Years_of_Experience':[5,27,15,1]\n",
    "}\n",
    "df=pd.DataFrame(data)\n",
    "def validate_experience(row):\n",
    "  if row['Years_of_Experience']>row['Age']:\n",
    "    return False\n",
    "    return True\n",
    "df['Is_Valid']=df.apply(validate_experience,axis=1)\n",
    "invalid_rows=df[df['Is_Valid']==False]\n",
    "print(\"Invalid Row:\")\n",
    "print(invalid_rows)"
   ]
  },
  {
   "cell_type": "code",
   "execution_count": 77,
   "id": "f5912227-575f-4c1c-842d-88aaf34fd131",
   "metadata": {},
   "outputs": [
    {
     "name": "stdout",
     "output_type": "stream",
     "text": [
      "  Start Date   End Date  Valid\n",
      "0 2023-01-01 2023-01-10   True\n",
      "1 2023-02-01 2023-01-05  False\n",
      "2 2023-03-01 2023-04-01   True\n",
      "Invalid rows found:\n",
      "  Start Date   End Date  Valid\n",
      "1 2023-02-01 2023-01-05  False\n"
     ]
    }
   ],
   "source": [
    "import pandas as pd\n",
    "data={'Start Date':['2023-01-01','2023-02-01','2023-03-01'],\n",
    "    'End Date':['2023-01-10','2023-01-05','2023-04-01']}\n",
    "df=pd.DataFrame(data)\n",
    "df['Start Date']=pd.to_datetime(df['Start Date'])\n",
    "df['End Date']=pd.to_datetime(df['End Date'])\n",
    "\n",
    "df['Valid']=df['Start Date']<df['End Date']\n",
    "print(df)\n",
    "\n",
    "invalid_rows=df [~df['Valid']]\n",
    "if not invalid_rows.empty:\n",
    "    print(\"Invalid rows found:\")\n",
    "    print(invalid_rows)\n",
    "else:\n",
    "    print(\"All rows are valid.\")\n",
    "    df.head()"
   ]
  },
  {
   "cell_type": "code",
   "execution_count": 79,
   "id": "7f5549d3-01c4-4435-a465-d1d5fd58c61e",
   "metadata": {},
   "outputs": [
    {
     "name": "stdout",
     "output_type": "stream",
     "text": [
      "  Start Date   End Date  Valid\n",
      "0 2023-01-01 2023-01-10   True\n",
      "1 2023-02-02 2023-01-05  False\n",
      "2 2023-03-01 2023-04-01   True\n",
      "Invalid rows found:\n",
      "  Start Date   End Date  Valid\n",
      "1 2023-02-02 2023-01-05  False\n"
     ]
    }
   ],
   "source": [
    "import pandas as pd\n",
    "df=pd.read_csv(\"dirtybmi_30.csv\")\n",
    "df.head(10)\n",
    "data={'Start Date':['2023-01-01','2023-02-02','2023-03-01'],\n",
    "      'End Date':['2023-01-10','2023-01-05','2023-04-01']}\n",
    "df=pd.DataFrame(data)\n",
    "df['Start Date']=pd.to_datetime(df['Start Date'])\n",
    "df['End Date']=pd.to_datetime (df['End Date'])\n",
    "df['Valid']=df['Start Date']<df['End Date']\n",
    "print(df)\n",
    "invalid_row=df[~df['Valid']]\n",
    "if not invalid_rows.empty:\n",
    "    print(\"Invalid rows found:\")\n",
    "    print(invalid_row)\n",
    "else:\n",
    " print(\"All rows are valid.\")\n",
    " df.head(10)"
   ]
  },
  {
   "cell_type": "code",
   "execution_count": 80,
   "id": "65b410e7-f7f1-41b6-b499-0c0d4636a15d",
   "metadata": {},
   "outputs": [
    {
     "name": "stdout",
     "output_type": "stream",
     "text": [
      "Invalid Row\n",
      "Empty DataFrame\n",
      "Columns: [Gender, Height, Weight, Index, Unnamed: 4, Unnamed: 5, female, male, is_valid]\n",
      "Index: []\n"
     ]
    }
   ],
   "source": [
    "import pandas as pd\n",
    "df=pd.read_csv(\"dirtybmi_30.csv\")\n",
    "def validate_Height(row):\n",
    "  if row['Height']>row['Weight']:\n",
    "    return False\n",
    "    return True\n",
    "df['is_valid']=df.apply(validate_Height,axis=1)\n",
    "invalid_row=df[df['is_valid']==True]\n",
    "print('Invalid Row')\n",
    "print(invalid_row)\n",
    "    "
   ]
  },
  {
   "cell_type": "code",
   "execution_count": 81,
   "id": "7ae6a57e-bd38-4955-881a-cc491566abe5",
   "metadata": {},
   "outputs": [
    {
     "name": "stdout",
     "output_type": "stream",
     "text": [
      "Original DataFrame.\n",
      "     A     B    C       D\n",
      "0  1.0   5.0  NaN     dog\n",
      "1  2.0   NaN  2.0     cat\n",
      "2  NaN   NaN  3.0     NaN\n",
      "3  4.0   8.0  4.0   mouse\n",
      "4  5.0  10.0  NaN  rabbit\n"
     ]
    }
   ],
   "source": [
    "import pandas as pd\n",
    "import numpy as np\n",
    "data={\n",
    "    'A':[1,2,np.nan,4,5],\n",
    "    'B':[5,np.nan,np.nan,8,10],\n",
    "    'C':[np.nan,2,3,4,np.nan],\n",
    "    'D':['dog','cat',np.nan,'mouse','rabbit']\n",
    "}\n",
    "df=pd.DataFrame(data)\n",
    "print(\"Original DataFrame.\")\n",
    "print(df)"
   ]
  },
  {
   "cell_type": "code",
   "execution_count": null,
   "id": "9c83ec1b-670e-46b0-b12a-671be03aede2",
   "metadata": {},
   "outputs": [],
   "source": []
  },
  {
   "cell_type": "code",
   "execution_count": 82,
   "id": "3e2d6d7a-2b2b-4d96-a91b-f80b9f4240c6",
   "metadata": {},
   "outputs": [
    {
     "name": "stdout",
     "output_type": "stream",
     "text": [
      "Original DataFrame.\n",
      "     A     B    C       D\n",
      "0  1.0   5.0  NaN     dog\n",
      "1  2.0   NaN  2.0     cat\n",
      "2  NaN   NaN  3.0     NaN\n",
      "3  4.0   8.0  4.0   mouse\n",
      "4  5.0  10.0  NaN  rabbit\n",
      "\n",
      "Detect mising values.\n",
      "       A      B      C      D\n",
      "0  False  False   True  False\n",
      "1  False   True  False  False\n",
      "2   True   True  False   True\n",
      "3  False  False  False  False\n",
      "4  False  False   True  False\n"
     ]
    }
   ],
   "source": [
    "import pandas as pd\n",
    "import numpy as np\n",
    "data={\n",
    "    'A':[1,2,np.nan,4,5],\n",
    "    'B':[5,np.nan,np.nan,8,10],\n",
    "    'C':[np.nan,2,3,4,np.nan],\n",
    "    'D':['dog','cat',np.nan,'mouse','rabbit']\n",
    "}\n",
    "df=pd.DataFrame(data)\n",
    "print(\"Original DataFrame.\")\n",
    "print(df)\n",
    "print(\"\\nDetect mising values.\")\n",
    "print(df.isnull())"
   ]
  },
  {
   "cell_type": "code",
   "execution_count": null,
   "id": "c54965d0-7ca0-4195-bebe-a1b6ac5fd038",
   "metadata": {},
   "outputs": [],
   "source": []
  },
  {
   "cell_type": "code",
   "execution_count": 83,
   "id": "c5a171a5-0b56-40ce-befe-841e61b982d2",
   "metadata": {},
   "outputs": [
    {
     "name": "stdout",
     "output_type": "stream",
     "text": [
      "Original DataFrame.\n",
      "     A     B    C       D\n",
      "0  1.0   5.0  NaN     dog\n",
      "1  2.0   NaN  2.0     cat\n",
      "2  NaN   NaN  3.0     NaN\n",
      "3  4.0   8.0  4.0   mouse\n",
      "4  5.0  10.0  NaN  rabbit\n",
      "\n",
      "Detect mising values.\n",
      "       A      B      C      D\n",
      "0  False  False   True  False\n",
      "1  False   True  False  False\n",
      "2   True   True  False   True\n",
      "3  False  False  False  False\n",
      "4  False  False   True  False\n",
      "     A    B    C      D\n",
      "3  4.0  8.0  4.0  mouse\n"
     ]
    }
   ],
   "source": [
    "import pandas as pd\n",
    "import numpy as np\n",
    "data={\n",
    "    'A':[1,2,np.nan,4,5],\n",
    "    'B':[5,np.nan,np.nan,8,10],\n",
    "    'C':[np.nan,2,3,4,np.nan],\n",
    "    'D':['dog','cat',np.nan,'mouse','rabbit']\n",
    "}\n",
    "df=pd.DataFrame(data)\n",
    "print(\"Original DataFrame.\")\n",
    "print(df)\n",
    "print(\"\\nDetect mising values.\")\n",
    "print(df.isnull())\n",
    "df_dropna=df.dropna()\n",
    "print(df_dropna)"
   ]
  },
  {
   "cell_type": "code",
   "execution_count": 84,
   "id": "88c94de2-dff9-4b9a-8a29-a59c3b9f0b99",
   "metadata": {},
   "outputs": [
    {
     "name": "stdout",
     "output_type": "stream",
     "text": [
      "Original DataFrame.\n",
      "     A     B    C       D\n",
      "0  1.0   5.0  NaN     dog\n",
      "1  2.0   NaN  2.0     cat\n",
      "2  NaN   NaN  3.0     NaN\n",
      "3  4.0   8.0  4.0   mouse\n",
      "4  5.0  10.0  NaN  rabbit\n",
      "\n",
      "Detect mising values.\n",
      "       A      B      C      D\n",
      "0  False  False   True  False\n",
      "1  False   True  False  False\n",
      "2   True   True  False   True\n",
      "3  False  False  False  False\n",
      "4  False  False   True  False\n",
      "     A    B    C      D\n",
      "3  4.0  8.0  4.0  mouse\n",
      "\n",
      "DataFrame after dropping rows with missing values in column 'A'or'B'.\n",
      "     A     B    C       D\n",
      "0  1.0   5.0  NaN     dog\n",
      "3  4.0   8.0  4.0   mouse\n",
      "4  5.0  10.0  NaN  rabbit\n"
     ]
    }
   ],
   "source": [
    "import pandas as pd\n",
    "import numpy as np\n",
    "data={\n",
    "    'A':[1,2,np.nan,4,5],\n",
    "    'B':[5,np.nan,np.nan,8,10],\n",
    "    'C':[np.nan,2,3,4,np.nan],\n",
    "    'D':['dog','cat',np.nan,'mouse','rabbit']\n",
    "}\n",
    "df=pd.DataFrame(data)\n",
    "print(\"Original DataFrame.\")\n",
    "print(df)\n",
    "print(\"\\nDetect mising values.\")\n",
    "print(df.isnull())\n",
    "print(df_dropna)\n",
    "df_dropna_subset=df.dropna(subset=['A','B'])\n",
    "print(\"\\nDataFrame after dropping rows with missing values in column 'A'or'B'.\")\n",
    "print(df_dropna_subset)"
   ]
  },
  {
   "cell_type": "code",
   "execution_count": null,
   "id": "91a43384-a88f-45ce-9f62-5a2239e16362",
   "metadata": {},
   "outputs": [],
   "source": []
  },
  {
   "cell_type": "code",
   "execution_count": 85,
   "id": "47507929-2a22-460a-8f35-14cd8213817c",
   "metadata": {},
   "outputs": [
    {
     "name": "stdout",
     "output_type": "stream",
     "text": [
      "Original DataFrame.\n",
      "     A     B    C       D\n",
      "0  1.0   5.0  NaN     dog\n",
      "1  2.0   NaN  2.0     cat\n",
      "2  NaN   NaN  3.0     NaN\n",
      "3  4.0   8.0  4.0   mouse\n",
      "4  5.0  10.0  NaN  rabbit\n",
      "\n",
      "Detect mising values.\n",
      "       A      B      C      D\n",
      "0  False  False   True  False\n",
      "1  False   True  False  False\n",
      "2   True   True  False   True\n",
      "3  False  False  False  False\n",
      "4  False  False   True  False\n",
      "     A    B    C      D\n",
      "3  4.0  8.0  4.0  mouse\n",
      "\n",
      "DataFrame after dropping rows with missing values in column 'A'or'B'.\n",
      "     A     B    C       D\n",
      "0  1.0   5.0  NaN     dog\n",
      "3  4.0   8.0  4.0   mouse\n",
      "4  5.0  10.0  NaN  rabbit\n",
      "\n",
      "DataFrame after filling missing values with 0.\n",
      "     A     B    C       D\n",
      "0  1.0   5.0  0.0     dog\n",
      "1  2.0   0.0  2.0     cat\n",
      "2  0.0   0.0  3.0       0\n",
      "3  4.0   8.0  4.0   mouse\n",
      "4  5.0  10.0  0.0  rabbit\n"
     ]
    }
   ],
   "source": [
    "import pandas as pd\n",
    "import numpy as np\n",
    "data={\n",
    "    'A':[1,2,np.nan,4,5],\n",
    "    'B':[5,np.nan,np.nan,8,10],\n",
    "    'C':[np.nan,2,3,4,np.nan],\n",
    "    'D':['dog','cat',np.nan,'mouse','rabbit']\n",
    "}\n",
    "df=pd.DataFrame(data)\n",
    "print(\"Original DataFrame.\")\n",
    "print(df)\n",
    "print(\"\\nDetect mising values.\")\n",
    "print(df.isnull())\n",
    "print(df_dropna)\n",
    "df_dropna_subset=df.dropna(subset=['A','B'])\n",
    "print(\"\\nDataFrame after dropping rows with missing values in column 'A'or'B'.\")\n",
    "print(df_dropna_subset)\n",
    "df_fillna=df.fillna(0)\n",
    "print(\"\\nDataFrame after filling missing values with 0.\")\n",
    "print(df_fillna)"
   ]
  },
  {
   "cell_type": "code",
   "execution_count": null,
   "id": "22897cac-47c0-41ca-9243-1688c6ac9044",
   "metadata": {},
   "outputs": [],
   "source": []
  },
  {
   "cell_type": "code",
   "execution_count": 86,
   "id": "08834eb9-898d-4be3-904a-b4feb2e5775f",
   "metadata": {},
   "outputs": [
    {
     "name": "stdout",
     "output_type": "stream",
     "text": [
      "Original DataFrame.\n",
      "     A     B    C       D\n",
      "0  1.0   5.0  NaN     dog\n",
      "1  2.0   NaN  2.0     cat\n",
      "2  NaN   NaN  3.0     NaN\n",
      "3  4.0   8.0  4.0   mouse\n",
      "4  5.0  10.0  NaN  rabbit\n",
      "\n",
      "Detect mising values.\n",
      "       A      B      C      D\n",
      "0  False  False   True  False\n",
      "1  False   True  False  False\n",
      "2   True   True  False   True\n",
      "3  False  False  False  False\n",
      "4  False  False   True  False\n",
      "     A    B    C      D\n",
      "3  4.0  8.0  4.0  mouse\n",
      "\n",
      "DataFrame after dropping rows with missing values in column 'A'or'B'.\n",
      "     A     B    C       D\n",
      "0  1.0   5.0  NaN     dog\n",
      "3  4.0   8.0  4.0   mouse\n",
      "4  5.0  10.0  NaN  rabbit\n",
      "\n",
      "DataFrame after filling missing values with 0.\n",
      "     A     B    C       D\n",
      "0  1.0   5.0  0.0     dog\n",
      "1  2.0   0.0  2.0     cat\n",
      "2  0.0   0.0  3.0       0\n",
      "3  4.0   8.0  4.0   mouse\n",
      "4  5.0  10.0  0.0  rabbit\n",
      "\n",
      "DataFrame after filling moissing values with column mean.\n",
      "     A          B    C       D\n",
      "0  1.0   5.000000  3.0     dog\n",
      "1  2.0   7.666667  2.0     cat\n",
      "2  3.0   7.666667  3.0     NaN\n",
      "3  4.0   8.000000  4.0   mouse\n",
      "4  5.0  10.000000  3.0  rabbit\n"
     ]
    }
   ],
   "source": [
    "import pandas as pd\n",
    "import numpy as np\n",
    "data={\n",
    "    'A':[1,2,np.nan,4,5],\n",
    "    'B':[5,np.nan,np.nan,8,10],\n",
    "    'C':[np.nan,2,3,4,np.nan],\n",
    "    'D':['dog','cat',np.nan,'mouse','rabbit']\n",
    "}\n",
    "df=pd.DataFrame(data)\n",
    "print(\"Original DataFrame.\")\n",
    "print(df)\n",
    "print(\"\\nDetect mising values.\")\n",
    "print(df.isnull())\n",
    "print(df_dropna)\n",
    "df_dropna_subset=df.dropna(subset=['A','B'])\n",
    "print(\"\\nDataFrame after dropping rows with missing values in column 'A'or'B'.\")\n",
    "print(df_dropna_subset)\n",
    "df_fillna=df.fillna(0)\n",
    "print(\"\\nDataFrame after filling missing values with 0.\")\n",
    "print(df_fillna)\n",
    "df_fillna_mean=df.fillna(df.mean(numeric_only=True))\n",
    "print(\"\\nDataFrame after filling moissing values with column mean.\")\n",
    "print(df_fillna_mean)"
   ]
  },
  {
   "cell_type": "code",
   "execution_count": null,
   "id": "441949da-cc3a-43a0-bb74-1cf24a9d18a1",
   "metadata": {},
   "outputs": [],
   "source": []
  },
  {
   "cell_type": "code",
   "execution_count": 87,
   "id": "4c2ac3ef-3a80-43ef-b2cd-4100b0a69447",
   "metadata": {},
   "outputs": [
    {
     "name": "stdout",
     "output_type": "stream",
     "text": [
      "Original DataFrame.\n",
      "     A     B    C       D\n",
      "0  1.0   5.0  NaN     dog\n",
      "1  2.0   NaN  2.0     cat\n",
      "2  NaN   NaN  3.0     NaN\n",
      "3  4.0   8.0  4.0   mouse\n",
      "4  5.0  10.0  NaN  rabbit\n",
      "\n",
      "Detect mising values.\n",
      "       A      B      C      D\n",
      "0  False  False   True  False\n",
      "1  False   True  False  False\n",
      "2   True   True  False   True\n",
      "3  False  False  False  False\n",
      "4  False  False   True  False\n",
      "     A    B    C      D\n",
      "3  4.0  8.0  4.0  mouse\n",
      "\n",
      "DataFrame after dropping rows with missing values in column 'A'or'B'.\n",
      "     A     B    C       D\n",
      "0  1.0   5.0  NaN     dog\n",
      "3  4.0   8.0  4.0   mouse\n",
      "4  5.0  10.0  NaN  rabbit\n",
      "\n",
      "DataFrame after filling missing values with 0.\n",
      "     A     B    C       D\n",
      "0  1.0   5.0  0.0     dog\n",
      "1  2.0   0.0  2.0     cat\n",
      "2  0.0   0.0  3.0       0\n",
      "3  4.0   8.0  4.0   mouse\n",
      "4  5.0  10.0  0.0  rabbit\n",
      "\n",
      "DataFrame after filling moissing values with column mean.\n",
      "     A          B    C       D\n",
      "0  1.0   5.000000  3.0     dog\n",
      "1  2.0   7.666667  2.0     cat\n",
      "2  3.0   7.666667  3.0     NaN\n",
      "3  4.0   8.000000  4.0   mouse\n",
      "4  5.0  10.000000  3.0  rabbit\n",
      "\n",
      "dataFrame after forward fill.\n",
      "<bound method NDFrame.ffill of      A     B    C       D\n",
      "0  1.0   5.0  NaN     dog\n",
      "1  2.0   NaN  2.0     cat\n",
      "2  NaN   NaN  3.0     NaN\n",
      "3  4.0   8.0  4.0   mouse\n",
      "4  5.0  10.0  NaN  rabbit>\n"
     ]
    }
   ],
   "source": [
    "import pandas as pd\n",
    "import numpy as np\n",
    "data={\n",
    "    'A':[1,2,np.nan,4,5],\n",
    "    'B':[5,np.nan,np.nan,8,10],\n",
    "    'C':[np.nan,2,3,4,np.nan],\n",
    "    'D':['dog','cat',np.nan,'mouse','rabbit']\n",
    "}\n",
    "df=pd.DataFrame(data)\n",
    "print(\"Original DataFrame.\")\n",
    "print(df)\n",
    "print(\"\\nDetect mising values.\")\n",
    "print(df.isnull())\n",
    "print(df_dropna)\n",
    "df_dropna_subset=df.dropna(subset=['A','B'])\n",
    "print(\"\\nDataFrame after dropping rows with missing values in column 'A'or'B'.\")\n",
    "print(df_dropna_subset)\n",
    "df_fillna=df.fillna(0)\n",
    "print(\"\\nDataFrame after filling missing values with 0.\")\n",
    "print(df_fillna)\n",
    "df_fillna_mean=df.fillna(df.mean(numeric_only=True))\n",
    "print(\"\\nDataFrame after filling moissing values with column mean.\")\n",
    "print(df_fillna_mean)\n",
    "df_ffill=df.ffill()\n",
    "print(\"\\ndataFrame after forward fill.\")\n",
    "print(df.ffill)"
   ]
  },
  {
   "cell_type": "code",
   "execution_count": null,
   "id": "379b23bc-3b60-455d-9816-81856de4e5a5",
   "metadata": {},
   "outputs": [],
   "source": []
  },
  {
   "cell_type": "code",
   "execution_count": 88,
   "id": "7ff44262-ed19-46eb-8067-5e1434a70e63",
   "metadata": {},
   "outputs": [
    {
     "name": "stdout",
     "output_type": "stream",
     "text": [
      "Original DataFrame.\n",
      "     A     B    C       D\n",
      "0  1.0   5.0  NaN     dog\n",
      "1  2.0   NaN  2.0     cat\n",
      "2  NaN   NaN  3.0     NaN\n",
      "3  4.0   8.0  4.0   mouse\n",
      "4  5.0  10.0  NaN  rabbit\n",
      "\n",
      "Detect mising values.\n",
      "       A      B      C      D\n",
      "0  False  False   True  False\n",
      "1  False   True  False  False\n",
      "2   True   True  False   True\n",
      "3  False  False  False  False\n",
      "4  False  False   True  False\n",
      "     A    B    C      D\n",
      "3  4.0  8.0  4.0  mouse\n",
      "\n",
      "DataFrame after dropping rows with missing values in column 'A'or'B'.\n",
      "     A     B    C       D\n",
      "0  1.0   5.0  NaN     dog\n",
      "3  4.0   8.0  4.0   mouse\n",
      "4  5.0  10.0  NaN  rabbit\n",
      "\n",
      "DataFrame after filling missing values with 0.\n",
      "     A     B    C       D\n",
      "0  1.0   5.0  0.0     dog\n",
      "1  2.0   0.0  2.0     cat\n",
      "2  0.0   0.0  3.0       0\n",
      "3  4.0   8.0  4.0   mouse\n",
      "4  5.0  10.0  0.0  rabbit\n",
      "\n",
      "DataFrame after filling moissing values with column mean.\n",
      "     A          B    C       D\n",
      "0  1.0   5.000000  3.0     dog\n",
      "1  2.0   7.666667  2.0     cat\n",
      "2  3.0   7.666667  3.0     NaN\n",
      "3  4.0   8.000000  4.0   mouse\n",
      "4  5.0  10.000000  3.0  rabbit\n",
      "\n",
      "dataFrame after forward fill.\n",
      "<bound method NDFrame.ffill of      A     B    C       D\n",
      "0  1.0   5.0  NaN     dog\n",
      "1  2.0   NaN  2.0     cat\n",
      "2  NaN   NaN  3.0     NaN\n",
      "3  4.0   8.0  4.0   mouse\n",
      "4  5.0  10.0  NaN  rabbit>\n",
      "\n",
      "DataFrame after interpolation:\n",
      "     A     B    C       D\n",
      "0  1.0   5.0  NaN     dog\n",
      "1  2.0   6.0  2.0     cat\n",
      "2  3.0   7.0  3.0     NaN\n",
      "3  4.0   8.0  4.0   mouse\n",
      "4  5.0  10.0  4.0  rabbit\n"
     ]
    },
    {
     "name": "stderr",
     "output_type": "stream",
     "text": [
      "C:\\Users\\ADMIN\\AppData\\Local\\Temp\\ipykernel_5300\\2925744454.py:27: FutureWarning: DataFrame.interpolate with object dtype is deprecated and will raise in a future version. Call obj.infer_objects(copy=False) before interpolating instead.\n",
      "  df_interpolate=df.interpolate()\n"
     ]
    }
   ],
   "source": [
    "import pandas as pd\n",
    "import numpy as np\n",
    "data={\n",
    "    'A':[1,2,np.nan,4,5],\n",
    "    'B':[5,np.nan,np.nan,8,10],\n",
    "    'C':[np.nan,2,3,4,np.nan],\n",
    "    'D':['dog','cat',np.nan,'mouse','rabbit']\n",
    "}\n",
    "df=pd.DataFrame(data)\n",
    "print(\"Original DataFrame.\")\n",
    "print(df)\n",
    "print(\"\\nDetect mising values.\")\n",
    "print(df.isnull())\n",
    "print(df_dropna)\n",
    "df_dropna_subset=df.dropna(subset=['A','B'])\n",
    "print(\"\\nDataFrame after dropping rows with missing values in column 'A'or'B'.\")\n",
    "print(df_dropna_subset)\n",
    "df_fillna=df.fillna(0)\n",
    "print(\"\\nDataFrame after filling missing values with 0.\")\n",
    "print(df_fillna)\n",
    "df_fillna_mean=df.fillna(df.mean(numeric_only=True))\n",
    "print(\"\\nDataFrame after filling moissing values with column mean.\")\n",
    "print(df_fillna_mean)\n",
    "df_ffill=df.ffill()\n",
    "print(\"\\ndataFrame after forward fill.\")\n",
    "print(df.ffill)\n",
    "df_interpolate=df.interpolate()\n",
    "print(\"\\nDataFrame after interpolation:\")\n",
    "print(df_interpolate)"
   ]
  },
  {
   "cell_type": "code",
   "execution_count": 89,
   "id": "6087ec95-a897-40d2-abb1-a5a60aa3b586",
   "metadata": {},
   "outputs": [
    {
     "data": {
      "text/html": [
       "<div>\n",
       "<style scoped>\n",
       "    .dataframe tbody tr th:only-of-type {\n",
       "        vertical-align: middle;\n",
       "    }\n",
       "\n",
       "    .dataframe tbody tr th {\n",
       "        vertical-align: top;\n",
       "    }\n",
       "\n",
       "    .dataframe thead th {\n",
       "        text-align: right;\n",
       "    }\n",
       "</style>\n",
       "<table border=\"1\" class=\"dataframe\">\n",
       "  <thead>\n",
       "    <tr style=\"text-align: right;\">\n",
       "      <th></th>\n",
       "      <th>ID</th>\n",
       "      <th>SurveyYr</th>\n",
       "      <th>Gender</th>\n",
       "      <th>Age</th>\n",
       "      <th>AgeDecade</th>\n",
       "      <th>AgeMonths</th>\n",
       "      <th>Education</th>\n",
       "      <th>MaritalStatus</th>\n",
       "      <th>HHIncome</th>\n",
       "      <th>HHIncomeMid</th>\n",
       "      <th>...</th>\n",
       "      <th>PhysActiveDays</th>\n",
       "      <th>TVHrsDay</th>\n",
       "      <th>SleepHrsNight</th>\n",
       "      <th>SleepTrouble</th>\n",
       "      <th>CompHrsDay</th>\n",
       "      <th>TVHrsDayChild</th>\n",
       "      <th>CompHrsDayChild</th>\n",
       "      <th>SmokeNow</th>\n",
       "      <th>Smoke100</th>\n",
       "      <th>Smoke100n</th>\n",
       "    </tr>\n",
       "  </thead>\n",
       "  <tbody>\n",
       "    <tr>\n",
       "      <th>0</th>\n",
       "      <td>51624</td>\n",
       "      <td>2009_10</td>\n",
       "      <td>male</td>\n",
       "      <td>34</td>\n",
       "      <td>30-39</td>\n",
       "      <td>409.0</td>\n",
       "      <td>High School</td>\n",
       "      <td>Married</td>\n",
       "      <td>25000-34999</td>\n",
       "      <td>30000.0</td>\n",
       "      <td>...</td>\n",
       "      <td>NaN</td>\n",
       "      <td>NaN</td>\n",
       "      <td>4.0</td>\n",
       "      <td>Yes</td>\n",
       "      <td>NaN</td>\n",
       "      <td>NaN</td>\n",
       "      <td>NaN</td>\n",
       "      <td>No</td>\n",
       "      <td>Yes</td>\n",
       "      <td>Smoker</td>\n",
       "    </tr>\n",
       "    <tr>\n",
       "      <th>1</th>\n",
       "      <td>51625</td>\n",
       "      <td>2009_10</td>\n",
       "      <td>male</td>\n",
       "      <td>4</td>\n",
       "      <td>0-9</td>\n",
       "      <td>49.0</td>\n",
       "      <td>NaN</td>\n",
       "      <td>NaN</td>\n",
       "      <td>20000-24999</td>\n",
       "      <td>22500.0</td>\n",
       "      <td>...</td>\n",
       "      <td>NaN</td>\n",
       "      <td>NaN</td>\n",
       "      <td>NaN</td>\n",
       "      <td>NaN</td>\n",
       "      <td>NaN</td>\n",
       "      <td>4.0</td>\n",
       "      <td>1.0</td>\n",
       "      <td>NaN</td>\n",
       "      <td>NaN</td>\n",
       "      <td>NaN</td>\n",
       "    </tr>\n",
       "    <tr>\n",
       "      <th>2</th>\n",
       "      <td>51630</td>\n",
       "      <td>2009_10</td>\n",
       "      <td>female</td>\n",
       "      <td>49</td>\n",
       "      <td>40-49</td>\n",
       "      <td>596.0</td>\n",
       "      <td>Some College</td>\n",
       "      <td>LivePartner</td>\n",
       "      <td>35000-44999</td>\n",
       "      <td>40000.0</td>\n",
       "      <td>...</td>\n",
       "      <td>NaN</td>\n",
       "      <td>NaN</td>\n",
       "      <td>8.0</td>\n",
       "      <td>Yes</td>\n",
       "      <td>NaN</td>\n",
       "      <td>NaN</td>\n",
       "      <td>NaN</td>\n",
       "      <td>Yes</td>\n",
       "      <td>Yes</td>\n",
       "      <td>Smoker</td>\n",
       "    </tr>\n",
       "    <tr>\n",
       "      <th>3</th>\n",
       "      <td>51638</td>\n",
       "      <td>2009_10</td>\n",
       "      <td>male</td>\n",
       "      <td>9</td>\n",
       "      <td>0-9</td>\n",
       "      <td>115.0</td>\n",
       "      <td>NaN</td>\n",
       "      <td>NaN</td>\n",
       "      <td>75000-99999</td>\n",
       "      <td>87500.0</td>\n",
       "      <td>...</td>\n",
       "      <td>NaN</td>\n",
       "      <td>NaN</td>\n",
       "      <td>NaN</td>\n",
       "      <td>NaN</td>\n",
       "      <td>NaN</td>\n",
       "      <td>5.0</td>\n",
       "      <td>0.0</td>\n",
       "      <td>NaN</td>\n",
       "      <td>NaN</td>\n",
       "      <td>NaN</td>\n",
       "    </tr>\n",
       "    <tr>\n",
       "      <th>4</th>\n",
       "      <td>51646</td>\n",
       "      <td>2009_10</td>\n",
       "      <td>male</td>\n",
       "      <td>8</td>\n",
       "      <td>0-9</td>\n",
       "      <td>101.0</td>\n",
       "      <td>NaN</td>\n",
       "      <td>NaN</td>\n",
       "      <td>55000-64999</td>\n",
       "      <td>60000.0</td>\n",
       "      <td>...</td>\n",
       "      <td>NaN</td>\n",
       "      <td>NaN</td>\n",
       "      <td>NaN</td>\n",
       "      <td>NaN</td>\n",
       "      <td>NaN</td>\n",
       "      <td>1.0</td>\n",
       "      <td>6.0</td>\n",
       "      <td>NaN</td>\n",
       "      <td>NaN</td>\n",
       "      <td>NaN</td>\n",
       "    </tr>\n",
       "  </tbody>\n",
       "</table>\n",
       "<p>5 rows × 37 columns</p>\n",
       "</div>"
      ],
      "text/plain": [
       "      ID SurveyYr  Gender  Age AgeDecade  AgeMonths     Education  \\\n",
       "0  51624  2009_10    male   34     30-39      409.0   High School   \n",
       "1  51625  2009_10    male    4       0-9       49.0           NaN   \n",
       "2  51630  2009_10  female   49     40-49      596.0  Some College   \n",
       "3  51638  2009_10    male    9       0-9      115.0           NaN   \n",
       "4  51646  2009_10    male    8       0-9      101.0           NaN   \n",
       "\n",
       "  MaritalStatus     HHIncome  HHIncomeMid  ...  PhysActiveDays  TVHrsDay  \\\n",
       "0       Married  25000-34999      30000.0  ...             NaN       NaN   \n",
       "1           NaN  20000-24999      22500.0  ...             NaN       NaN   \n",
       "2   LivePartner  35000-44999      40000.0  ...             NaN       NaN   \n",
       "3           NaN  75000-99999      87500.0  ...             NaN       NaN   \n",
       "4           NaN  55000-64999      60000.0  ...             NaN       NaN   \n",
       "\n",
       "  SleepHrsNight SleepTrouble  CompHrsDay  TVHrsDayChild  CompHrsDayChild  \\\n",
       "0           4.0          Yes         NaN            NaN              NaN   \n",
       "1           NaN          NaN         NaN            4.0              1.0   \n",
       "2           8.0          Yes         NaN            NaN              NaN   \n",
       "3           NaN          NaN         NaN            5.0              0.0   \n",
       "4           NaN          NaN         NaN            1.0              6.0   \n",
       "\n",
       "  SmokeNow  Smoke100  Smoke100n  \n",
       "0       No       Yes     Smoker  \n",
       "1      NaN       NaN        NaN  \n",
       "2      Yes       Yes     Smoker  \n",
       "3      NaN       NaN        NaN  \n",
       "4      NaN       NaN        NaN  \n",
       "\n",
       "[5 rows x 37 columns]"
      ]
     },
     "execution_count": 89,
     "metadata": {},
     "output_type": "execute_result"
    }
   ],
   "source": [
    "import pandas as pd\n",
    "import numpy as np\n",
    "import matplotlib.pyplot as plt\n",
    "import seaborn as sns\n",
    "from statsmodels.graphics.mosaicplot import mosaic\n",
    "#Load the dataset\n",
    "df=pd.read_csv('nhanes_reduced4.csv')\n",
    "df.head()"
   ]
  },
  {
   "cell_type": "code",
   "execution_count": 90,
   "id": "f89e4914-e55e-4837-be69-26e06da556d4",
   "metadata": {},
   "outputs": [
    {
     "name": "stdout",
     "output_type": "stream",
     "text": [
      "Education\n",
      "Some College      1423\n",
      "College Grad      1246\n",
      "High School        993\n",
      "9 - 11th Grade     624\n",
      "8th Grade          359\n",
      "Name: count, dtype: int64\n"
     ]
    }
   ],
   "source": [
    "nhanes=df['Education'].value_counts()\n",
    "print(nhanes)"
   ]
  },
  {
   "cell_type": "code",
   "execution_count": 91,
   "id": "91756ec7-0044-46ef-b554-20beb4786cb9",
   "metadata": {},
   "outputs": [
    {
     "name": "stdout",
     "output_type": "stream",
     "text": [
      "col_0   Frequency\n",
      "Gender           \n",
      "female       3420\n",
      "male         3359\n"
     ]
    }
   ],
   "source": [
    "freq_table=pd.crosstab(df['Gender'],['Frequency'])\n",
    "print(freq_table)"
   ]
  },
  {
   "cell_type": "code",
   "execution_count": 92,
   "id": "80d2080c-e61c-4b99-b7f5-2c8fae520d87",
   "metadata": {},
   "outputs": [
    {
     "name": "stdout",
     "output_type": "stream",
     "text": [
      "col_0          Frequency\n",
      "MaritalStatus           \n",
      "Divorced             443\n",
      "LivePartner          374\n",
      "Married             2463\n",
      "NeverMarried         899\n",
      "Separated            135\n",
      "Widowed              336\n"
     ]
    }
   ],
   "source": [
    "freq_table=pd.crosstab(df['MaritalStatus'],['Frequency'])\n",
    "print(freq_table)"
   ]
  },
  {
   "cell_type": "code",
   "execution_count": 93,
   "id": "4993dfdd-b0be-4165-9728-eca88942d3ec",
   "metadata": {},
   "outputs": [
    {
     "name": "stdout",
     "output_type": "stream",
     "text": [
      "HHIncome        0-4999  10000-14999  15000-19999  20000-24999  25000-34999  \\\n",
      "Education                                                                    \n",
      "8th Grade           15           35           46           45           55   \n",
      "9 - 11th Grade      26           64           57           61           77   \n",
      "College Grad        13           14           31           25           66   \n",
      "High School         21           95           74           80          119   \n",
      "Some College        23           90           70           86          149   \n",
      "\n",
      "HHIncome        35000-44999  45000-54999  5000-9999  55000-64999  65000-74999  \\\n",
      "Education                                                                       \n",
      "8th Grade                32           17         23           12            8   \n",
      "9 - 11th Grade           56           46         34           32           25   \n",
      "College Grad             85           80          8           75           81   \n",
      "High School             114           86         35           62           46   \n",
      "Some College            136          128         33           92           85   \n",
      "\n",
      "HHIncome        75000-99999  more 99999  \n",
      "Education                                \n",
      "8th Grade                 8           8  \n",
      "9 - 11th Grade           37          32  \n",
      "College Grad            196         497  \n",
      "High School              73          99  \n",
      "Some College            160         252  \n"
     ]
    }
   ],
   "source": [
    "freq_table=pd.crosstab(df['Education'],\n",
    "                       df['HHIncome'])\n",
    "print(freq_table)\n",
    "                "
   ]
  },
  {
   "cell_type": "code",
   "execution_count": 94,
   "id": "19a1354d-7514-40c0-b63d-18b01c582e71",
   "metadata": {},
   "outputs": [
    {
     "name": "stdout",
     "output_type": "stream",
     "text": [
      "PhysActiveDays  1.0  2.0  3.0  4.0  5.0  6.0  7.0\n",
      "MaritalStatus                                    \n",
      "Divorced         28   35   47   29   32   10   25\n",
      "LivePartner      20   34   46   26   26   11   22\n",
      "Married         143  219  274  142  208   68  140\n",
      "NeverMarried     65   76  133   64   56   17   62\n",
      "Separated         8   14   10   10   12    2    6\n",
      "Widowed           8   22   27   11   22    6   22\n"
     ]
    }
   ],
   "source": [
    "freq_table=pd.crosstab(df['MaritalStatus'],\n",
    "                       df['PhysActiveDays'])\n",
    "print(freq_table)"
   ]
  },
  {
   "cell_type": "code",
   "execution_count": 95,
   "id": "04310875-53d8-44c2-863b-ab02c98c8c93",
   "metadata": {},
   "outputs": [
    {
     "data": {
      "text/plain": [
       "([<matplotlib.patches.Wedge at 0x1a5fe314dd0>,\n",
       "  <matplotlib.patches.Wedge at 0x1a58001b010>,\n",
       "  <matplotlib.patches.Wedge at 0x1a58002ca50>,\n",
       "  <matplotlib.patches.Wedge at 0x1a58002c2d0>],\n",
       " [Text(1.0554422683381766, 0.30990582150899426, 'Cholera'),\n",
       "  Text(-0.4569565739181998, 1.0005951676641962, 'Malaria'),\n",
       "  Text(-0.456956386553231, -1.0005952532309026, 'Tb'),\n",
       "  Text(0.9253789873511787, -0.5947047416734687, 'HIV')],\n",
       " [Text(0.5756957827299144, 0.16903953900490593, '9.1%'),\n",
       "  Text(-0.24924904031901807, 0.5457791823622888, '45.5%'),\n",
       "  Text(-0.24924893811994417, -0.5457792290350377, '27.3%'),\n",
       "  Text(0.5047521749188247, -0.3243844045491647, '18.2%')])"
      ]
     },
     "execution_count": 95,
     "metadata": {},
     "output_type": "execute_result"
    },
    {
     "data": {
      "image/png": "[encoded data removed]",
      "text/plain": [
       "<Figure size 640x480 with 1 Axes>"
      ]
     },
     "metadata": {},
     "output_type": "display_data"
    }
   ],
   "source": [
    "import matplotlib.pyplot as plt\n",
    "x=[10,50,30,20]\n",
    "diseases=['Cholera','Malaria','Tb','HIV']\n",
    "plt.pie(x, labels=diseases,autopct='%.1f%%')"
   ]
  },
  {
   "cell_type": "code",
   "execution_count": 96,
   "id": "78334c45-770e-4fc5-8f10-2b657b08249a",
   "metadata": {},
   "outputs": [
    {
     "data": {
      "image/png": "[encoded data removed]",
      "text/plain": [
       "<Figure size 1000x500 with 1 Axes>"
      ]
     },
     "metadata": {},
     "output_type": "display_data"
    }
   ],
   "source": [
    "df={'C':20,'C++':15,'Java':30,'Python':35}\n",
    "courses=list(df.keys())\n",
    "values=list(df.values())\n",
    "fig=plt.figure(figsize=(10,5))\n",
    "plt.bar(courses,values,color='maroon',width=0.4)\n",
    "plt.xlabel(\"Courses offered\")\n",
    "plt.ylabel(\"No.of students enrolled\")\n",
    "plt.title(\"Students enrolled in different courses\")\n",
    "plt.show()"
   ]
  },
  {
   "cell_type": "code",
   "execution_count": 97,
   "id": "57192582-0fc8-416b-9302-3df30cf61c1a",
   "metadata": {},
   "outputs": [
    {
     "data": {
      "text/plain": [
       "<BarContainer object of 4 artists>"
      ]
     },
     "execution_count": 97,
     "metadata": {},
     "output_type": "execute_result"
    },
    {
     "data": {
      "image/png": "[encoded data removed]",
      "text/plain": [
       "<Figure size 640x480 with 1 Axes>"
      ]
     },
     "metadata": {},
     "output_type": "display_data"
    }
   ],
   "source": [
    "plt.barh(courses,values,color=\"maroon\")"
   ]
  },
  {
   "cell_type": "code",
   "execution_count": 98,
   "id": "bc7598cb-ae9c-4f4e-94f6-dee7304a00d3",
   "metadata": {},
   "outputs": [
    {
     "data": {
      "text/plain": [
       "<BarContainer object of 4 artists>"
      ]
     },
     "execution_count": 98,
     "metadata": {},
     "output_type": "execute_result"
    },
    {
     "data": {
      "image/png": "[encoded data removed]",
      "text/plain": [
       "<Figure size 640x480 with 1 Axes>"
      ]
     },
     "metadata": {},
     "output_type": "display_data"
    }
   ],
   "source": [
    "x=['A','B','C','D']\n",
    "y1=[10,20,10,30]\n",
    "y2=[20,25,15,25]\n",
    "plt.bar(x,y1,color='r')\n",
    "plt.bar(x,y2,bottom=y1,color='b')"
   ]
  },
  {
   "cell_type": "code",
   "execution_count": 99,
   "id": "a2be364c-03cb-4709-a0ea-759ae25abed2",
   "metadata": {},
   "outputs": [
    {
     "data": {
      "text/plain": [
       "Text(0, 0.5, 'DirectChol level (mg/dl')"
      ]
     },
     "execution_count": 99,
     "metadata": {},
     "output_type": "execute_result"
    },
    {
     "data": {
      "image/png": "[encoded data removed]",
      "text/plain": [
       "<Figure size 640x480 with 1 Axes>"
      ]
     },
     "metadata": {},
     "output_type": "display_data"
    }
   ],
   "source": [
    "import pandas as pd\n",
    "import numpy as np\n",
    "import matplotlib.pyplot as plt\n",
    "import seaborn as sns\n",
    "from statsmodels.graphics.mosaicplot import mosaic\n",
    "df=pd.read_csv('nhanes_reduced4.csv')\n",
    "age_directChol=df[['Age','DirectChol']]\n",
    "filtered_data=df[df['Age']>40]\n",
    "plt.scatter(filtered_data['Age'],filtered_data['DirectChol'],color='red')\n",
    "plt.title('Age vs.DirectChol level (Ages >40)')\n",
    "plt.xlabel('Age (years)')\n",
    "plt.ylabel('DirectChol level (mg/dl')\n",
    "\n"
   ]
  },
  {
   "cell_type": "code",
   "execution_count": 103,
   "id": "0ee2c103-b84f-4729-bcd5-af9a3510c3ec",
   "metadata": {},
   "outputs": [
    {
     "ename": "KeyError",
     "evalue": "'work'",
     "output_type": "error",
     "traceback": [
      "\u001b[1;31m---------------------------------------------------------------------------\u001b[0m",
      "\u001b[1;31mKeyError\u001b[0m                                  Traceback (most recent call last)",
      "Cell \u001b[1;32mIn[103], line 2\u001b[0m\n\u001b[0;32m      1\u001b[0m \u001b[38;5;66;03m#subplots of histogram of BMI per work\u001b[39;00m\n\u001b[1;32m----> 2\u001b[0m work_categories\u001b[38;5;241m=\u001b[39m data[\u001b[38;5;124m'\u001b[39m\u001b[38;5;124mwork\u001b[39m\u001b[38;5;124m'\u001b[39m]\u001b[38;5;241m.\u001b[39mcat\u001b[38;5;241m.\u001b[39mcategories\n\u001b[0;32m      3\u001b[0m fig,axes\u001b[38;5;241m=\u001b[39mplt\u001b[38;5;241m.\u001b[39msublots(nrows\u001b[38;5;241m=\u001b[39m\u001b[38;5;28mlen\u001b[39m(work_categories)),\n\u001b[0;32m      4\u001b[0m ncols\u001b[38;5;241m=\u001b[39m\u001b[38;5;241m1\u001b[39m,(figsize\u001b[38;5;241m==\u001b[39m(\u001b[38;5;241m10\u001b[39m,\u001b[38;5;241m15\u001b[39m),sharex\u001b[38;5;241m==\u001b[39m\u001b[38;5;28;01mTrue\u001b[39;00m)\n",
      "\u001b[1;31mKeyError\u001b[0m: 'work'"
     ]
    }
   ],
   "source": [
    "#subplots of histogram of BMI per work\n",
    "work_categories= data['work'].cat.categories\n",
    "fig,axes=plt.sublots(nrows=len(work_categories)),\n",
    "ncols=1,(figsize==(10,15),sharex==True)\n",
    "for ax, category in zip(axes, work_categories):\n",
    "    sns.histplot(data[data['Work']==category]['BMI'],\n",
    "bins=20,ax=ax)\n",
    "    ax.set_title(f'Distribution of BMI for{category}')\n",
    "plt.tight_layout()\n",
    "plt.show()"
   ]
  },
  {
   "cell_type": "code",
   "execution_count": 104,
   "id": "b620fe6b-7e4d-42ca-bd65-1b67a3fae245",
   "metadata": {},
   "outputs": [
    {
     "ename": "ValueError",
     "evalue": "Could not interpret input 'HHIncome'",
     "output_type": "error",
     "traceback": [
      "\u001b[1;31m---------------------------------------------------------------------------\u001b[0m",
      "\u001b[1;31mValueError\u001b[0m                                Traceback (most recent call last)",
      "Cell \u001b[1;32mIn[104], line 2\u001b[0m\n\u001b[0;32m      1\u001b[0m \u001b[38;5;66;03m#Boxplots of HHIncome by BMI\u001b[39;00m\n\u001b[1;32m----> 2\u001b[0m sns\u001b[38;5;241m.\u001b[39mboxplot(x\u001b[38;5;241m=\u001b[39m\u001b[38;5;124m'\u001b[39m\u001b[38;5;124mHHIncome\u001b[39m\u001b[38;5;124m'\u001b[39m,y\u001b[38;5;241m=\u001b[39m\u001b[38;5;124m'\u001b[39m\u001b[38;5;124mBMI\u001b[39m\u001b[38;5;124m'\u001b[39m,data\u001b[38;5;241m=\u001b[39mdata)\n\u001b[0;32m      3\u001b[0m plt\u001b[38;5;241m.\u001b[39mtitle(\u001b[38;5;124m'\u001b[39m\u001b[38;5;124mBoxplots of HHIcome by BMI\u001b[39m\u001b[38;5;124m'\u001b[39m)\n\u001b[0;32m      4\u001b[0m plt\u001b[38;5;241m.\u001b[39mxticks(rotation\u001b[38;5;241m=\u001b[39m\u001b[38;5;241m45\u001b[39m)\n",
      "File \u001b[1;32m~\\anaconda3\\Lib\\site-packages\\seaborn\\categorical.py:2231\u001b[0m, in \u001b[0;36mboxplot\u001b[1;34m(data, x, y, hue, order, hue_order, orient, color, palette, saturation, width, dodge, fliersize, linewidth, whis, ax, **kwargs)\u001b[0m\n\u001b[0;32m   2224\u001b[0m \u001b[38;5;28;01mdef\u001b[39;00m \u001b[38;5;21mboxplot\u001b[39m(\n\u001b[0;32m   2225\u001b[0m     data\u001b[38;5;241m=\u001b[39m\u001b[38;5;28;01mNone\u001b[39;00m, \u001b[38;5;241m*\u001b[39m, x\u001b[38;5;241m=\u001b[39m\u001b[38;5;28;01mNone\u001b[39;00m, y\u001b[38;5;241m=\u001b[39m\u001b[38;5;28;01mNone\u001b[39;00m, hue\u001b[38;5;241m=\u001b[39m\u001b[38;5;28;01mNone\u001b[39;00m, order\u001b[38;5;241m=\u001b[39m\u001b[38;5;28;01mNone\u001b[39;00m, hue_order\u001b[38;5;241m=\u001b[39m\u001b[38;5;28;01mNone\u001b[39;00m,\n\u001b[0;32m   2226\u001b[0m     orient\u001b[38;5;241m=\u001b[39m\u001b[38;5;28;01mNone\u001b[39;00m, color\u001b[38;5;241m=\u001b[39m\u001b[38;5;28;01mNone\u001b[39;00m, palette\u001b[38;5;241m=\u001b[39m\u001b[38;5;28;01mNone\u001b[39;00m, saturation\u001b[38;5;241m=\u001b[39m\u001b[38;5;241m.75\u001b[39m, width\u001b[38;5;241m=\u001b[39m\u001b[38;5;241m.8\u001b[39m,\n\u001b[0;32m   2227\u001b[0m     dodge\u001b[38;5;241m=\u001b[39m\u001b[38;5;28;01mTrue\u001b[39;00m, fliersize\u001b[38;5;241m=\u001b[39m\u001b[38;5;241m5\u001b[39m, linewidth\u001b[38;5;241m=\u001b[39m\u001b[38;5;28;01mNone\u001b[39;00m, whis\u001b[38;5;241m=\u001b[39m\u001b[38;5;241m1.5\u001b[39m, ax\u001b[38;5;241m=\u001b[39m\u001b[38;5;28;01mNone\u001b[39;00m,\n\u001b[0;32m   2228\u001b[0m     \u001b[38;5;241m*\u001b[39m\u001b[38;5;241m*\u001b[39mkwargs\n\u001b[0;32m   2229\u001b[0m ):\n\u001b[1;32m-> 2231\u001b[0m     plotter \u001b[38;5;241m=\u001b[39m _BoxPlotter(x, y, hue, data, order, hue_order,\n\u001b[0;32m   2232\u001b[0m                           orient, color, palette, saturation,\n\u001b[0;32m   2233\u001b[0m                           width, dodge, fliersize, linewidth)\n\u001b[0;32m   2235\u001b[0m     \u001b[38;5;28;01mif\u001b[39;00m ax \u001b[38;5;129;01mis\u001b[39;00m \u001b[38;5;28;01mNone\u001b[39;00m:\n\u001b[0;32m   2236\u001b[0m         ax \u001b[38;5;241m=\u001b[39m plt\u001b[38;5;241m.\u001b[39mgca()\n",
      "File \u001b[1;32m~\\anaconda3\\Lib\\site-packages\\seaborn\\categorical.py:785\u001b[0m, in \u001b[0;36m_BoxPlotter.__init__\u001b[1;34m(self, x, y, hue, data, order, hue_order, orient, color, palette, saturation, width, dodge, fliersize, linewidth)\u001b[0m\n\u001b[0;32m    781\u001b[0m \u001b[38;5;28;01mdef\u001b[39;00m \u001b[38;5;21m__init__\u001b[39m(\u001b[38;5;28mself\u001b[39m, x, y, hue, data, order, hue_order,\n\u001b[0;32m    782\u001b[0m              orient, color, palette, saturation,\n\u001b[0;32m    783\u001b[0m              width, dodge, fliersize, linewidth):\n\u001b[1;32m--> 785\u001b[0m     \u001b[38;5;28mself\u001b[39m\u001b[38;5;241m.\u001b[39mestablish_variables(x, y, hue, data, orient, order, hue_order)\n\u001b[0;32m    786\u001b[0m     \u001b[38;5;28mself\u001b[39m\u001b[38;5;241m.\u001b[39mestablish_colors(color, palette, saturation)\n\u001b[0;32m    788\u001b[0m     \u001b[38;5;28mself\u001b[39m\u001b[38;5;241m.\u001b[39mdodge \u001b[38;5;241m=\u001b[39m dodge\n",
      "File \u001b[1;32m~\\anaconda3\\Lib\\site-packages\\seaborn\\categorical.py:541\u001b[0m, in \u001b[0;36m_CategoricalPlotter.establish_variables\u001b[1;34m(self, x, y, hue, data, orient, order, hue_order, units)\u001b[0m\n\u001b[0;32m    539\u001b[0m     \u001b[38;5;28;01mif\u001b[39;00m \u001b[38;5;28misinstance\u001b[39m(var, \u001b[38;5;28mstr\u001b[39m):\n\u001b[0;32m    540\u001b[0m         err \u001b[38;5;241m=\u001b[39m \u001b[38;5;124mf\u001b[39m\u001b[38;5;124m\"\u001b[39m\u001b[38;5;124mCould not interpret input \u001b[39m\u001b[38;5;124m'\u001b[39m\u001b[38;5;132;01m{\u001b[39;00mvar\u001b[38;5;132;01m}\u001b[39;00m\u001b[38;5;124m'\u001b[39m\u001b[38;5;124m\"\u001b[39m\n\u001b[1;32m--> 541\u001b[0m         \u001b[38;5;28;01mraise\u001b[39;00m \u001b[38;5;167;01mValueError\u001b[39;00m(err)\n\u001b[0;32m    543\u001b[0m \u001b[38;5;66;03m# Figure out the plotting orientation\u001b[39;00m\n\u001b[0;32m    544\u001b[0m orient \u001b[38;5;241m=\u001b[39m infer_orient(\n\u001b[0;32m    545\u001b[0m     x, y, orient, require_numeric\u001b[38;5;241m=\u001b[39m\u001b[38;5;28mself\u001b[39m\u001b[38;5;241m.\u001b[39mrequire_numeric\n\u001b[0;32m    546\u001b[0m )\n",
      "\u001b[1;31mValueError\u001b[0m: Could not interpret input 'HHIncome'"
     ]
    }
   ],
   "source": [
    "#Boxplots of HHIncome by BMI\n",
    "sns.boxplot(x='HHIncome',y='BMI',data=data)\n",
    "plt.title('Boxplots of HHIcome by BMI')\n",
    "plt.xticks(rotation=45)\n",
    "plt.show()"
   ]
  },
  {
   "cell_type": "code",
   "execution_count": 105,
   "id": "f541d7b2-3133-4063-9197-70024fd7b7c0",
   "metadata": {},
   "outputs": [
    {
     "ename": "SyntaxError",
     "evalue": "invalid syntax. Perhaps you forgot a comma? (576384893.py, line 3)",
     "output_type": "error",
     "traceback": [
      "\u001b[1;36m  Cell \u001b[1;32mIn[105], line 3\u001b[1;36m\u001b[0m\n\u001b[1;33m    sns.kdeplot(data=data,x='BMI',hue='Work'\u001b[0m\n\u001b[1;37m                                      ^\u001b[0m\n\u001b[1;31mSyntaxError\u001b[0m\u001b[1;31m:\u001b[0m invalid syntax. Perhaps you forgot a comma?\n"
     ]
    }
   ],
   "source": [
    "#KDE plot\n",
    "plt.figure(figsize=(12,10))\n",
    "sns.kdeplot(data=data,x='BMI',hue='Work'\n",
    "multiple='stack')\n",
    "plt.title('KDE Plot of BMI by Work Type')\n",
    "plt.ylabel('Density')\n",
    "plt.show()"
   ]
  },
  {
   "cell_type": "code",
   "execution_count": null,
   "id": "20587db3-44fc-426c-aeeb-07e6b11cde0d",
   "metadata": {},
   "outputs": [],
   "source": []
  },
  {
   "cell_type": "code",
   "execution_count": 106,
   "id": "bfa78b2c-6289-47c9-98dc-6f393ef6fc22",
   "metadata": {},
   "outputs": [
    {
     "name": "stdout",
     "output_type": "stream",
     "text": [
      "0.75\n"
     ]
    }
   ],
   "source": [
    "S=[(\"girl\",\"girl\"),(\"boy\",\"boy\"),\n",
    "   (\"boy\",\"girl\"),(\"girl\",\"boy\")]\n",
    "E=[(\"boy\",\"boy\"),(\"boy\",\"girl\"),(\"girl\",\"boy\")]\n",
    "pr=len(E)/len(S)\n",
    "print(pr)"
   ]
  },
  {
   "cell_type": "code",
   "execution_count": 107,
   "id": "2b0d6030-1f79-4f12-b10d-96010c66cb5f",
   "metadata": {},
   "outputs": [
    {
     "name": "stdout",
     "output_type": "stream",
     "text": [
      "0.7058823529411765\n",
      "0.71\n"
     ]
    }
   ],
   "source": [
    "import pandas as pd\n",
    "tabs=pd.DataFrame({'Fracture yes':\n",
    "[27,15,9],'Fracture no':[63,35,21]})\n",
    "prA=(tabs.iloc[2,0]+tabs.iloc[2,1])/tabs.values.sum()\n",
    "prB=(tabs.iloc[0,0]+tabs.iloc[0,1])/tabs.values.sum()\n",
    "print(prA+prB)\n",
    "print(round(prA+prB,2))"
   ]
  },
  {
   "cell_type": "code",
   "execution_count": 108,
   "id": "f023f4f4-934c-4d1d-881a-9faa3222872c",
   "metadata": {},
   "outputs": [
    {
     "name": "stdout",
     "output_type": "stream",
     "text": [
      "0.42\n"
     ]
    }
   ],
   "source": [
    "tabs=pd.DataFrame({'MI yes':[75,20],'MI no':[95,210]})\n",
    "prA=(tabs.iloc[0,0]+tabs.iloc[0,1])/tabs.values.sum()\n",
    "print(round(prA,2))"
   ]
  },
  {
   "cell_type": "code",
   "execution_count": 109,
   "id": "23b914d8-03d1-4ffc-993c-e8a3e94c3ecc",
   "metadata": {},
   "outputs": [
    {
     "name": "stdout",
     "output_type": "stream",
     "text": [
      "0.76\n"
     ]
    }
   ],
   "source": [
    "prB=(tabs.iloc[0,0]+tabs.iloc[1,0])/tabs.values.sum()\n",
    "complementB=1-prB\n",
    "print(round(complementB,2))"
   ]
  },
  {
   "cell_type": "code",
   "execution_count": 110,
   "id": "1c96e433-350c-4107-a8c3-ead2ca0768c8",
   "metadata": {},
   "outputs": [
    {
     "name": "stdout",
     "output_type": "stream",
     "text": [
      "0.48\n"
     ]
    }
   ],
   "source": [
    "prA=(tabs.iloc[0,0]+tabs.iloc[0,1])/tabs.values.sum()\n",
    "prB=(tabs.iloc[0,0]+tabs.iloc[1,0])/tabs.values.sum()\n",
    "prAB=tabs.iloc[0,0]/tabs.values.sum()     \n",
    "result=prA+prB-prAB\n",
    "print(round(result,2))"
   ]
  },
  {
   "cell_type": "code",
   "execution_count": 111,
   "id": "d116396d-b0b8-4922-b86d-effd06286991",
   "metadata": {},
   "outputs": [
    {
     "data": {
      "text/plain": [
       "<Figure size 1500x700 with 0 Axes>"
      ]
     },
     "metadata": {},
     "output_type": "display_data"
    },
    {
     "data": {
      "image/png": "[encoded data removed]",
      "text/plain": [
       "<Figure size 640x480 with 3 Axes>"
      ]
     },
     "metadata": {},
     "output_type": "display_data"
    }
   ],
   "source": [
    "import pandas as pd\n",
    "import matplotlib.pyplot as plt\n",
    "from statsmodels.graphics.mosaicplot import mosaic\n",
    "df=pd.read_csv('nhanes_reduced4.csv')\n",
    "df['Age']=pd.cut(df['Age'],bins=[0,18,23,50,65,100],labels=['0-18','19-35','36-50','51-65','66+'])\n",
    "df['BMI']=pd.cut(df['BMI'],bins=[0,18.5,24.9,29.9,40],labels=['Underweight','Normal','Overweight','Obese'])\n",
    "df['Gender']=df['Gender'].astype('category')\n",
    "plt.figure(figsize=(15,7))\n",
    "mosaic(df,['Gender','Age','BMI'],title='Mosaic Plot of Gender, Age, and BMI')\n",
    "plt.show()"
   ]
  },
  {
   "cell_type": "code",
   "execution_count": 112,
   "id": "4d42a90a-4f8e-47f4-b3f6-c7feaf6e86d4",
   "metadata": {},
   "outputs": [
    {
     "name": "stderr",
     "output_type": "stream",
     "text": [
      "C:\\Users\\ADMIN\\anaconda3\\Lib\\site-packages\\seaborn\\_oldcore.py:1119: FutureWarning: use_inf_as_na option is deprecated and will be removed in a future version. Convert inf values to NaN before operating instead.\n",
      "  with pd.option_context('mode.use_inf_as_na', True):\n",
      "C:\\Users\\ADMIN\\anaconda3\\Lib\\site-packages\\seaborn\\_oldcore.py:1119: FutureWarning: use_inf_as_na option is deprecated and will be removed in a future version. Convert inf values to NaN before operating instead.\n",
      "  with pd.option_context('mode.use_inf_as_na', True):\n",
      "C:\\Users\\ADMIN\\anaconda3\\Lib\\site-packages\\seaborn\\_oldcore.py:1119: FutureWarning: use_inf_as_na option is deprecated and will be removed in a future version. Convert inf values to NaN before operating instead.\n",
      "  with pd.option_context('mode.use_inf_as_na', True):\n"
     ]
    },
    {
     "data": {
      "image/png": "[encoded data removed]",
      "text/plain": [
       "<Figure size 1000x1500 with 3 Axes>"
      ]
     },
     "metadata": {},
     "output_type": "display_data"
    }
   ],
   "source": [
    "import pandas as pd\n",
    "import matplotlib.pyplot as plt\n",
    "import seaborn as sns\n",
    "df=pd.read_csv('nhanes_reduced4.csv')\n",
    "df['Work']=df['Work'].astype('category')\n",
    "work_categories=df['Work'].cat.categories\n",
    "fig,axes=plt.subplots(nrows=len(work_categories),ncols=1,figsize=(10,15),sharex=True)\n",
    "for ax,category in zip(axes,work_categories):\n",
    "    sns.histplot(df[df['Work']==category]['BMI'],bins=20,ax=ax)\n",
    "    ax.set_title(f'Distibution of BMI for{category}')\n",
    "plt.tight_layout()\n",
    "plt.show()"
   ]
  },
  {
   "cell_type": "code",
   "execution_count": 113,
   "id": "95c03799-7fe5-482b-bda5-6412554aa3bc",
   "metadata": {},
   "outputs": [
    {
     "name": "stdout",
     "output_type": "stream",
     "text": [
      "13.1\n"
     ]
    }
   ],
   "source": [
    "mam=pd.DataFrame({'Disease yes':[398,60],'Disease no':[2749,31799]})\n",
    "sen=mam.iloc[1,0]/(mam.iloc[0,0]+mam.iloc[1,0])\n",
    "print(round(sen*100,2))"
   ]
  },
  {
   "cell_type": "code",
   "execution_count": 114,
   "id": "015d44d9-ed1b-43a7-bbb7-5fa82236d2e8",
   "metadata": {},
   "outputs": [
    {
     "ename": "AttributeError",
     "evalue": "'FacetGrid' object has no attribute 'set_title'",
     "output_type": "error",
     "traceback": [
      "\u001b[1;31m---------------------------------------------------------------------------\u001b[0m",
      "\u001b[1;31mAttributeError\u001b[0m                            Traceback (most recent call last)",
      "Cell \u001b[1;32mIn[114], line 16\u001b[0m\n\u001b[0;32m      7\u001b[0m g\u001b[38;5;241m=\u001b[39msns\u001b[38;5;241m.\u001b[39mcatplot(data\u001b[38;5;241m=\u001b[39mdf,\n\u001b[0;32m      8\u001b[0m               x\u001b[38;5;241m=\u001b[39m\u001b[38;5;124m'\u001b[39m\u001b[38;5;124mEducation\u001b[39m\u001b[38;5;124m'\u001b[39m,\n\u001b[0;32m      9\u001b[0m               col\u001b[38;5;241m=\u001b[39m\u001b[38;5;124m'\u001b[39m\u001b[38;5;124mHHIncome\u001b[39m\u001b[38;5;124m'\u001b[39m,\n\u001b[1;32m   (...)\u001b[0m\n\u001b[0;32m     13\u001b[0m               col_wrap\u001b[38;5;241m=\u001b[39m\u001b[38;5;241m3\u001b[39m\n\u001b[0;32m     14\u001b[0m )\n\u001b[0;32m     15\u001b[0m g\u001b[38;5;241m.\u001b[39mset_axis_labels(\u001b[38;5;124m\"\u001b[39m\u001b[38;5;124mphysical Activity\u001b[39m\u001b[38;5;124m\"\u001b[39m,\u001b[38;5;124m\"\u001b[39m\u001b[38;5;124mcount\u001b[39m\u001b[38;5;124m\"\u001b[39m)\n\u001b[1;32m---> 16\u001b[0m g\u001b[38;5;241m.\u001b[39mset_title(\u001b[38;5;124m\"\u001b[39m\u001b[38;5;124mIncome Level:\u001b[39m\u001b[38;5;132;01m{col_name}\u001b[39;00m\u001b[38;5;124m\"\u001b[39m)\n\u001b[0;32m     17\u001b[0m g\u001b[38;5;241m.\u001b[39mtight_layout()\n\u001b[0;32m     18\u001b[0m plt\u001b[38;5;241m.\u001b[39mshow()\n",
      "\u001b[1;31mAttributeError\u001b[0m: 'FacetGrid' object has no attribute 'set_title'"
     ]
    },
    {
     "data": {
      "image/png": "[encoded data removed]",
      "text/plain": [
       "<Figure size 1200x1600 with 12 Axes>"
      ]
     },
     "metadata": {},
     "output_type": "display_data"
    }
   ],
   "source": [
    "import pandas as pd\n",
    "import seaborn as sns\n",
    "import matplotlib as plt\n",
    "sns.set_style(\"whitegrid\")\n",
    "df=pd.read_csv('nhanes_reduced4.csv')\n",
    "df.head\n",
    "g=sns.catplot(data=df,\n",
    "              x='Education',\n",
    "              col='HHIncome',\n",
    "              kind='count',\n",
    "              height=4,\n",
    "              aspect=1,\n",
    "              col_wrap=3\n",
    ")\n",
    "g.set_axis_labels(\"physical Activity\",\"count\")\n",
    "g.set_title(\"Income Level:{col_name}\")\n",
    "g.tight_layout()\n",
    "plt.show()"
   ]
  },
  {
   "cell_type": "code",
   "execution_count": 115,
   "id": "c2420633-bd2b-455f-878b-e541a0ab691a",
   "metadata": {},
   "outputs": [
    {
     "name": "stderr",
     "output_type": "stream",
     "text": [
      "C:\\Users\\ADMIN\\AppData\\Local\\Temp\\ipykernel_5300\\2313408311.py:5: FutureWarning: \n",
      "\n",
      "`shade` is now deprecated in favor of `fill`; setting `fill=True`.\n",
      "This will become an error in seaborn v0.14.0; please update your code.\n",
      "\n",
      "  sns.kdeplot(df['Age'],color='blue',label='Age',shade=True)\n",
      "C:\\Users\\ADMIN\\anaconda3\\Lib\\site-packages\\seaborn\\_oldcore.py:1119: FutureWarning: use_inf_as_na option is deprecated and will be removed in a future version. Convert inf values to NaN before operating instead.\n",
      "  with pd.option_context('mode.use_inf_as_na', True):\n",
      "C:\\Users\\ADMIN\\AppData\\Local\\Temp\\ipykernel_5300\\2313408311.py:6: FutureWarning: \n",
      "\n",
      "`shade` is now deprecated in favor of `fill`; setting `fill=True`.\n",
      "This will become an error in seaborn v0.14.0; please update your code.\n",
      "\n",
      "  sns.kdeplot(df['Weight'],color='red',label='Weight',shade=True)\n",
      "C:\\Users\\ADMIN\\anaconda3\\Lib\\site-packages\\seaborn\\_oldcore.py:1119: FutureWarning: use_inf_as_na option is deprecated and will be removed in a future version. Convert inf values to NaN before operating instead.\n",
      "  with pd.option_context('mode.use_inf_as_na', True):\n"
     ]
    },
    {
     "data": {
      "image/png": "[encoded data removed]",
      "text/plain": [
       "<Figure size 640x480 with 1 Axes>"
      ]
     },
     "metadata": {},
     "output_type": "display_data"
    }
   ],
   "source": [
    "import pandas as pd\n",
    "import seaborn as sns\n",
    "import matplotlib.pyplot as plt\n",
    "df=pd.read_csv('nhanes_reduced4.csv')\n",
    "sns.kdeplot(df['Age'],color='blue',label='Age',shade=True)\n",
    "sns.kdeplot(df['Weight'],color='red',label='Weight',shade=True)\n",
    "plt.xlabel('Value')\n",
    "plt.ylabel('Density')\n",
    "plt.title('Density Plot for Age and Weight')\n",
    "plt.legend()\n",
    "plt.show()"
   ]
  },
  {
   "cell_type": "code",
   "execution_count": 116,
   "id": "ed2c25f9-eeb7-4fdc-b3fb-271a01162df4",
   "metadata": {},
   "outputs": [
    {
     "name": "stdout",
     "output_type": "stream",
     "text": [
      "86.9\n"
     ]
    }
   ],
   "source": [
    "mam=pd.DataFrame({'Disease yes':[398,60],'Disease no':[2749,31799]})\n",
    "sen=mam.iloc[0,0]/(mam.iloc[0,0]+mam.iloc[1,0])\n",
    "print(round(sen*100,2))"
   ]
  },
  {
   "cell_type": "code",
   "execution_count": 117,
   "id": "721003ec-26a2-4d39-911e-8580538f082e",
   "metadata": {},
   "outputs": [
    {
     "data": {
      "text/plain": [
       "0.10737418240000003"
      ]
     },
     "execution_count": 117,
     "metadata": {},
     "output_type": "execute_result"
    }
   ],
   "source": [
    "from scipy import stats\n",
    "stats.binom.pmf(0,10,0.2)"
   ]
  },
  {
   "cell_type": "code",
   "execution_count": 118,
   "id": "ddeea8bd-c33e-4305-b438-0d285bc63e6f",
   "metadata": {},
   "outputs": [
    {
     "data": {
      "text/plain": [
       "0.20132659199999992"
      ]
     },
     "execution_count": 118,
     "metadata": {},
     "output_type": "execute_result"
    }
   ],
   "source": [
    "stats.binom.pmf(3,10,0.2)"
   ]
  },
  {
   "cell_type": "code",
   "execution_count": 119,
   "id": "818baf29-b0f9-4fef-b484-ba476c2e21bb",
   "metadata": {},
   "outputs": [
    {
     "data": {
      "text/plain": [
       "1.0240000000000006e-07"
      ]
     },
     "execution_count": 119,
     "metadata": {},
     "output_type": "execute_result"
    }
   ],
   "source": [
    "stats.binom.pmf(10,10,0.2)"
   ]
  },
  {
   "cell_type": "code",
   "execution_count": 120,
   "id": "fc3d706e-e0d8-4815-801d-5cb9a9e731ea",
   "metadata": {},
   "outputs": [
    {
     "data": {
      "text/plain": [
       "array([1.07374182e-01, 2.01326592e-01, 1.02400000e-07])"
      ]
     },
     "execution_count": 120,
     "metadata": {},
     "output_type": "execute_result"
    }
   ],
   "source": [
    "stats.binom.pmf([0,3,10],10,0.2)"
   ]
  },
  {
   "cell_type": "code",
   "execution_count": 121,
   "id": "b7702527-bbb7-4250-ab4e-ce3c8c6b8f85",
   "metadata": {},
   "outputs": [
    {
     "data": {
      "text/plain": [
       "array([1.43489070e-08, 5.02211745e-07, 8.20279184e-06, 8.29393397e-05,\n",
       "       5.80575378e-04, 2.98028694e-03, 1.15900048e-02, 3.47700143e-02,\n",
       "       8.11300333e-02, 1.47235986e-01, 2.06130381e-01, 2.18623131e-01,\n",
       "       1.70040213e-01, 9.15601148e-02, 3.05200383e-02, 4.74756151e-03])"
      ]
     },
     "execution_count": 121,
     "metadata": {},
     "output_type": "execute_result"
    }
   ],
   "source": [
    "stats.binom.pmf([0,1,2,3,4,5,6,7,8,9,10,11,12,13,14,15],15,0.7)"
   ]
  },
  {
   "cell_type": "code",
   "execution_count": 122,
   "id": "fa7691b5-0d9e-423a-b04d-b5a534a32f17",
   "metadata": {},
   "outputs": [
    {
     "name": "stdout",
     "output_type": "stream",
     "text": [
      "     E   prob(E)\n",
      "0    0  0.000006\n",
      "1    1  0.000138\n",
      "2    2  0.001447\n",
      "3    3  0.009002\n",
      "4    4  0.036757\n",
      "5    5  0.102919\n",
      "6    6  0.200121\n",
      "7    7  0.266828\n",
      "8    8  0.233474\n",
      "9    9  0.121061\n",
      "10  10  0.028248\n"
     ]
    }
   ],
   "source": [
    "import numpy as np\n",
    "import pandas as pd\n",
    "from scipy.stats import binom\n",
    "cx=np.arange(0,11)\n",
    "dx=binom.pmf(cx,10,0.7)\n",
    "pr_dist=pd.DataFrame({'E':cx,'prob(E)':dx})\n",
    "print(pr_dist)"
   ]
  },
  {
   "cell_type": "code",
   "execution_count": 123,
   "id": "9b46d8fb-9d87-4111-971e-f7dca4d651a2",
   "metadata": {},
   "outputs": [
    {
     "name": "stdout",
     "output_type": "stream",
     "text": [
      "0.1588739684492806\n"
     ]
    }
   ],
   "source": [
    "probability=binom.pmf(4,12,0.22)\n",
    "print(probability)"
   ]
  },
  {
   "cell_type": "code",
   "execution_count": 124,
   "id": "afdbdea5-8706-47b1-b86d-972a1f34241e",
   "metadata": {},
   "outputs": [
    {
     "name": "stdout",
     "output_type": "stream",
     "text": [
      "0.9695609774280819\n"
     ]
    }
   ],
   "source": [
    "cumulative_probability=binom.cdf(5,12,0.22)\n",
    "print(cumulative_probability)"
   ]
  },
  {
   "cell_type": "code",
   "execution_count": 125,
   "id": "977133b7-2803-4190-96d1-9357bd5e71ae",
   "metadata": {},
   "outputs": [
    {
     "data": {
      "text/plain": [
       "(array([  1.,  10.,  36., 110., 207., 260., 205., 108.,  49.,  14.]),\n",
       " array([ 0.,  1.,  2.,  3.,  4.,  5.,  6.,  7.,  8.,  9., 10.]),\n",
       " <BarContainer object of 10 artists>)"
      ]
     },
     "execution_count": 125,
     "metadata": {},
     "output_type": "execute_result"
    },
    {
     "data": {
      "image/png": "[encoded data removed]",
      "text/plain": [
       "<Figure size 640x480 with 1 Axes>"
      ]
     },
     "metadata": {},
     "output_type": "display_data"
    }
   ],
   "source": [
    "import numpy as np\n",
    "import matplotlib.pyplot as plt\n",
    "n,p=10,.5# number of trials,probability of each tail\n",
    "s=np.random.binomial(n,p,1000)\n",
    "plt.hist(s)\n",
    "#result of_flipping a coin 10 times,tested 1000 times"
   ]
  },
  {
   "cell_type": "code",
   "execution_count": 126,
   "id": "84afbc51-2a30-432e-8b04-fa6623c89d9e",
   "metadata": {},
   "outputs": [
    {
     "name": "stdout",
     "output_type": "stream",
     "text": [
      "0.945200708300442\n"
     ]
    }
   ],
   "source": [
    "from scipy.stats import norm\n",
    "prob=norm.cdf(1.6,0,1)\n",
    "print(prob)\n",
    "from scipy.stats import norm"
   ]
  },
  {
   "cell_type": "code",
   "execution_count": 127,
   "id": "0a736d2f-a197-4ed3-82e1-6f669bebf454",
   "metadata": {},
   "outputs": [
    {
     "ename": "TypeError",
     "evalue": "unsupported operand type(s) for /: 'dict' and 'int'",
     "output_type": "error",
     "traceback": [
      "\u001b[1;31m---------------------------------------------------------------------------\u001b[0m",
      "\u001b[1;31mTypeError\u001b[0m                                 Traceback (most recent call last)",
      "Cell \u001b[1;32mIn[127], line 8\u001b[0m\n\u001b[0;32m      6\u001b[0m     \u001b[38;5;28;01mreturn\u001b[39;00m z_sccores\n\u001b[0;32m      7\u001b[0m     data\u001b[38;5;241m=\u001b[39m[\u001b[38;5;241m3\u001b[39m,\u001b[38;5;241m9\u001b[39m,\u001b[38;5;241m23\u001b[39m,\u001b[38;5;241m43\u001b[39m,\u001b[38;5;241m53\u001b[39m,\u001b[38;5;241m30\u001b[39m,\u001b[38;5;241m35\u001b[39m,\u001b[38;5;241m50\u001b[39m,\u001b[38;5;241m70\u001b[39m,\u001b[38;5;241m150\u001b[39m,\u001b[38;5;241m6\u001b[39m,\u001b[38;5;241m7\u001b[39m,\u001b[38;5;241m8\u001b[39m,\u001b[38;5;241m9\u001b[39m,\u001b[38;5;241m10\u001b[39m]\n\u001b[1;32m----> 8\u001b[0m z_scores\u001b[38;5;241m=\u001b[39mcalculate_z_score(data)\n\u001b[0;32m      9\u001b[0m \u001b[38;5;28mprint\u001b[39m(\u001b[38;5;124m'\u001b[39m\u001b[38;5;124mZ-Score:\u001b[39m\u001b[38;5;124m'\u001b[39m,z_score)\n\u001b[0;32m     10\u001b[0m prob\u001b[38;5;241m=\u001b[39mnorm\u001b[38;5;241m.\u001b[39mcdf(z_scores,\u001b[38;5;241m0\u001b[39m,\u001b[38;5;241m1\u001b[39m)\n",
      "Cell \u001b[1;32mIn[127], line 3\u001b[0m, in \u001b[0;36mcalculate_z_score\u001b[1;34m(data)\u001b[0m\n\u001b[0;32m      2\u001b[0m \u001b[38;5;28;01mdef\u001b[39;00m \u001b[38;5;21mcalculate_z_score\u001b[39m(data):\n\u001b[1;32m----> 3\u001b[0m     mean\u001b[38;5;241m=\u001b[39mnp\u001b[38;5;241m.\u001b[39mmean(data)\n\u001b[0;32m      4\u001b[0m     std_dev\u001b[38;5;241m=\u001b[39mnp\u001b[38;5;241m.\u001b[39mstd(data)\n\u001b[0;32m      5\u001b[0m     z_scores\u001b[38;5;241m=\u001b[39m(data\u001b[38;5;241m-\u001b[39mmean)\u001b[38;5;241m/\u001b[39mstd_dev\n",
      "File \u001b[1;32m~\\anaconda3\\Lib\\site-packages\\numpy\\core\\fromnumeric.py:3504\u001b[0m, in \u001b[0;36mmean\u001b[1;34m(a, axis, dtype, out, keepdims, where)\u001b[0m\n\u001b[0;32m   3501\u001b[0m     \u001b[38;5;28;01melse\u001b[39;00m:\n\u001b[0;32m   3502\u001b[0m         \u001b[38;5;28;01mreturn\u001b[39;00m mean(axis\u001b[38;5;241m=\u001b[39maxis, dtype\u001b[38;5;241m=\u001b[39mdtype, out\u001b[38;5;241m=\u001b[39mout, \u001b[38;5;241m*\u001b[39m\u001b[38;5;241m*\u001b[39mkwargs)\n\u001b[1;32m-> 3504\u001b[0m \u001b[38;5;28;01mreturn\u001b[39;00m _methods\u001b[38;5;241m.\u001b[39m_mean(a, axis\u001b[38;5;241m=\u001b[39maxis, dtype\u001b[38;5;241m=\u001b[39mdtype,\n\u001b[0;32m   3505\u001b[0m                       out\u001b[38;5;241m=\u001b[39mout, \u001b[38;5;241m*\u001b[39m\u001b[38;5;241m*\u001b[39mkwargs)\n",
      "File \u001b[1;32m~\\anaconda3\\Lib\\site-packages\\numpy\\core\\_methods.py:131\u001b[0m, in \u001b[0;36m_mean\u001b[1;34m(a, axis, dtype, out, keepdims, where)\u001b[0m\n\u001b[0;32m    129\u001b[0m         ret \u001b[38;5;241m=\u001b[39m ret\u001b[38;5;241m.\u001b[39mdtype\u001b[38;5;241m.\u001b[39mtype(ret \u001b[38;5;241m/\u001b[39m rcount)\n\u001b[0;32m    130\u001b[0m \u001b[38;5;28;01melse\u001b[39;00m:\n\u001b[1;32m--> 131\u001b[0m     ret \u001b[38;5;241m=\u001b[39m ret \u001b[38;5;241m/\u001b[39m rcount\n\u001b[0;32m    133\u001b[0m \u001b[38;5;28;01mreturn\u001b[39;00m ret\n",
      "\u001b[1;31mTypeError\u001b[0m: unsupported operand type(s) for /: 'dict' and 'int'"
     ]
    }
   ],
   "source": [
    "import numpy as np\n",
    "def calculate_z_score(data):\n",
    "    mean=np.mean(data)\n",
    "    std_dev=np.std(data)\n",
    "    z_scores=(data-mean)/std_dev\n",
    "    return z_sccores\n",
    "    data=[3,9,23,43,53,30,35,50,70,150,6,7,8,9,10]\n",
    "z_scores=calculate_z_score(data)\n",
    "print('Z-Score:',z_score)\n",
    "prob=norm.cdf(z_scores,0,1)\n",
    "print(prob)"
   ]
  },
  {
   "cell_type": "code",
   "execution_count": 2,
   "id": "d51569da-973f-481a-b230-3c4cc02e0597",
   "metadata": {},
   "outputs": [
    {
     "name": "stderr",
     "output_type": "stream",
     "text": [
      "C:\\Users\\ADMIN\\AppData\\Local\\anaconda3\\Lib\\site-packages\\seaborn\\_oldcore.py:1119: FutureWarning: use_inf_as_na option is deprecated and will be removed in a future version. Convert inf values to NaN before operating instead.\n",
      "  with pd.option_context('mode.use_inf_as_na', True):\n"
     ]
    },
    {
     "data": {
      "image/png": "[encoded data removed]",
      "text/plain": [
       "<Figure size 640x480 with 1 Axes>"
      ]
     },
     "metadata": {},
     "output_type": "display_data"
    },
    {
     "data": {
      "image/png": "[encoded data removed]",
      "text/plain": [
       "<Figure size 640x480 with 1 Axes>"
      ]
     },
     "metadata": {},
     "output_type": "display_data"
    },
    {
     "ename": "NameError",
     "evalue": "name 'shapiro' is not defined",
     "output_type": "error",
     "traceback": [
      "\u001b[1;31m---------------------------------------------------------------------------\u001b[0m",
      "\u001b[1;31mNameError\u001b[0m                                 Traceback (most recent call last)",
      "Cell \u001b[1;32mIn[2], line 13\u001b[0m\n\u001b[0;32m     11\u001b[0m sm\u001b[38;5;241m.\u001b[39mqqplot(data,line\u001b[38;5;241m=\u001b[39m\u001b[38;5;124m'\u001b[39m\u001b[38;5;124m45\u001b[39m\u001b[38;5;124m'\u001b[39m)\n\u001b[0;32m     12\u001b[0m plt\u001b[38;5;241m.\u001b[39mshow()\n\u001b[1;32m---> 13\u001b[0m shapiro(data)\n",
      "\u001b[1;31mNameError\u001b[0m: name 'shapiro' is not defined"
     ]
    }
   ],
   "source": [
    "import matplotlib.pyplot as plt\n",
    "import seaborn as sns\n",
    "import numpy as np\n",
    "import statsmodels.api as sm\n",
    "data=np.random.randn(1000)\n",
    "sns.histplot(data,bins=30,kde=True,color='lightgreen',edgecolor='red')\n",
    "plt.xlabel('Values')\n",
    "plt.ylabel('Density')\n",
    "plt.title('Customized Histogram with Density Plot')\n",
    "plt.show()\n",
    "sm.qqplot(data,line='45')\n",
    "plt.show()\n",
    "shapiro(data)"
   ]
  },
  {
   "cell_type": "code",
   "execution_count": 128,
   "id": "de4e29a6-0983-4d82-860f-0e156266fed7",
   "metadata": {},
   "outputs": [
    {
     "name": "stdout",
     "output_type": "stream",
     "text": [
      "Sample: [156 803 341 850 333 581 483 874 467 684 167 328 746 274 934 381 943 143\n",
      " 777 535 488 674  98 761 376 858 193  35 175 717  68 265 739 306 245 955\n",
      " 122 923 838 837 178 135  52 903 638 391 226 222 150 852 827 288  94 272\n",
      " 660 643 573 151  79 182 942 907 965 982 300 527 440 459 521 627 756 676\n",
      "  77 796 293 877 501 707 433 751 685 362 618 410 417 384 360 515 595 190\n",
      " 603 102 477 736 149 249 166 560 559  80]\n"
     ]
    }
   ],
   "source": [
    "import numpy as np\n",
    "population=np.arange(1,1001)\n",
    "sample_size=100\n",
    "sample=np.random.choice(population,sample_size, replace=False)\n",
    "print('Sample:',sample)"
   ]
  },
  {
   "cell_type": "code",
   "execution_count": null,
   "id": "7c494dd5-d12f-4da9-9b25-d250dcfa96e9",
   "metadata": {},
   "outputs": [],
   "source": []
  },
  {
   "cell_type": "code",
   "execution_count": 129,
   "id": "de596816-eacb-4f5d-9229-e03732397fc1",
   "metadata": {},
   "outputs": [
    {
     "name": "stdout",
     "output_type": "stream",
     "text": [
      "169.5\n"
     ]
    }
   ],
   "source": [
    "import numpy as np\n",
    "heights=[165,170,168,172,169,171,166,173,167,174]\n",
    "sample_mean=np.mean(heights)\n",
    "n=len(heights)\n",
    "print(sample_mean)"
   ]
  },
  {
   "cell_type": "code",
   "execution_count": 130,
   "id": "1c91d093-70d6-4dd9-84a8-b165b0ace1d4",
   "metadata": {},
   "outputs": [
    {
     "name": "stdout",
     "output_type": "stream",
     "text": [
      "3.0276503540974917\n"
     ]
    }
   ],
   "source": [
    "sample_sd=np.std(heights,ddof=1)\n",
    "print(sample_sd)"
   ]
  },
  {
   "cell_type": "code",
   "execution_count": 6,
   "id": "cbbdcf4b-34fe-49fa-a7e9-817ce9e3018c",
   "metadata": {},
   "outputs": [
    {
     "name": "stdout",
     "output_type": "stream",
     "text": [
      "95% Confidence Interval:[167.62,171.38]\n"
     ]
    }
   ],
   "source": [
    "sem=sample_sd/np.sqrt(n)\n",
    "confidence_interval=(sample_mean-1.96*sem, sample_mean+1.96*sem)\n",
    "print(f\"95% Confidence Interval:[{confidence_interval[0]:.2f},{confidence_interval[1]:.2f}]\")"
   ]
  },
  {
   "cell_type": "code",
   "execution_count": 131,
   "id": "12453e19-6344-4b61-a9cd-49fe01384eab",
   "metadata": {},
   "outputs": [
    {
     "name": "stdout",
     "output_type": "stream",
     "text": [
      "95% Confidence Interval:[27.11,29.65]\n"
     ]
    }
   ],
   "source": [
    "import pandas as dp\n",
    "import numpy as np\n",
    "import scipy.stats as stats\n",
    "df=pd.read_csv(\"chloleraoutbreak.csv\")\n",
    "sample_mean=df['Age'].mean()\n",
    "sample_std=df['Age'].std()\n",
    "n=len(df['Age'])\n",
    "conf_level=0.95\n",
    "alpha=1-conf_level\n",
    "t_critical=stats.t.ppf(1-alpha/2,df=n-1)   \n",
    "margin=t_critical*(sample_std/np.sqrt(n))\n",
    "confidence_interval=(sample_mean-margin, sample_mean+margin)\n",
    "print(f\"95% Confidence Interval:[{confidence_interval[0]:.2f},{confidence_interval[1]:.2f}]\")\n",
    "                       "
   ]
  },
  {
   "cell_type": "code",
   "execution_count": 132,
   "id": "63f00459-318a-4f69-9602-050a33530c15",
   "metadata": {},
   "outputs": [
    {
     "name": "stdout",
     "output_type": "stream",
     "text": [
      "t-statistic: -0.7392604148446796\n",
      "p-value: 0.46273038396876176\n"
     ]
    }
   ],
   "source": [
    "from scipy.stats import ttest_ind\n",
    "import numpy as np\n",
    "mean_A=120\n",
    "std_A=10\n",
    "n_A=30\n",
    "mean_B=130\n",
    "std_B=12\n",
    "n_B=30\n",
    "np.random.seed(0)\n",
    "group_A=np.random.normal(mean_A,std_A,n_A)\n",
    "group_B=np.random.normal(mean_B,std_B,n_B)\n",
    "t_statistic,p_value=ttest_ind(group_A,group_B)\n",
    "print(\"t-statistic:\",t_statistic)\n",
    "print(\"p-value:\",p_value)"
   ]
  },
  {
   "cell_type": "code",
   "execution_count": 133,
   "id": "2f1e8a22-b62b-4247-a50d-910d72b0e559",
   "metadata": {},
   "outputs": [
    {
     "ename": "ModuleNotFoundError",
     "evalue": "No module named 'google.colab'",
     "output_type": "error",
     "traceback": [
      "\u001b[1;31m---------------------------------------------------------------------------\u001b[0m",
      "\u001b[1;31mModuleNotFoundError\u001b[0m                       Traceback (most recent call last)",
      "Cell \u001b[1;32mIn[133], line 3\u001b[0m\n\u001b[0;32m      1\u001b[0m \u001b[38;5;28;01mimport\u001b[39;00m \u001b[38;5;21;01mpandas\u001b[39;00m \u001b[38;5;28;01mas\u001b[39;00m \u001b[38;5;21;01mpd\u001b[39;00m\n\u001b[0;32m      2\u001b[0m \u001b[38;5;28;01mfrom\u001b[39;00m \u001b[38;5;21;01mscipy\u001b[39;00m \u001b[38;5;28;01mimport\u001b[39;00m stats\n\u001b[1;32m----> 3\u001b[0m \u001b[38;5;28;01mfrom\u001b[39;00m \u001b[38;5;21;01mgoogle\u001b[39;00m\u001b[38;5;21;01m.\u001b[39;00m\u001b[38;5;21;01mcolab\u001b[39;00m \u001b[38;5;28;01mimport\u001b[39;00m files\n\u001b[0;32m      4\u001b[0m uploaded\u001b[38;5;241m=\u001b[39mfiles\u001b[38;5;241m.\u001b[39mupload()\n\u001b[0;32m      5\u001b[0m df\u001b[38;5;241m=\u001b[39mpd\u001b[38;5;241m.\u001b[39mread_csv(\u001b[38;5;124m\"\u001b[39m\u001b[38;5;124mchildhealthdata.csv\u001b[39m\u001b[38;5;124m\"\u001b[39m)\n",
      "\u001b[1;31mModuleNotFoundError\u001b[0m: No module named 'google.colab'"
     ]
    }
   ],
   "source": [
    "import pandas as pd\n",
    "from scipy import stats\n",
    "from google.colab import files\n",
    "uploaded=files.upload()\n",
    "df=pd.read_csv(\"childhealthdata.csv\")\n",
    "group_A=df[df['Sex']=='Male']['weight']\n",
    "group_B=df[df['Sex']=='Female']['weight']\n",
    "t_statistic,p_value=stats.ttest_ind(group_A,group_B)\n",
    "print(f\"T-Statistics:{t_statistic},P_Value:{p_value}\")"
   ]
  },
  {
   "cell_type": "code",
   "execution_count": 134,
   "id": "b3276a36-2b1c-48ad-a40c-b8a6b9f4bcdb",
   "metadata": {},
   "outputs": [
    {
     "name": "stdout",
     "output_type": "stream",
     "text": [
      "   Test_result   Test_date  Sex   Age  Subcounty  Water  Sanitation  Income  \\\n",
      "0          0.0  12/05/2023  2.0  15.0        4.0    1.0         3.0     3.0   \n",
      "1          1.0  13/05/2023  2.0   6.0        2.0    3.0         3.0     1.0   \n",
      "2          0.0  14/05/2023  2.0   9.0        3.0    2.0         2.0     5.0   \n",
      "3          0.0  15/05/2023  2.0  10.0        1.0    4.0         4.0     5.0   \n",
      "4          0.0  16/05/2023  1.0  10.0        2.0    2.0         4.0     1.0   \n",
      "\n",
      "   Informal_settlement  Outcome  \n",
      "0                  2.0      0.0  \n",
      "1                  1.0      0.0  \n",
      "2                  2.0      0.0  \n",
      "3                  2.0      0.0  \n",
      "4                  1.0      0.0  \n",
      "Outcome  0.0  1.0\n",
      "Water            \n",
      "1.0       74    4\n",
      "2.0       74    1\n",
      "3.0       87    9\n",
      "4.0       61    2\n",
      "Chi-Square Statistic:6.272907818532818\n",
      "P-Value:0.0990618100698824\n"
     ]
    }
   ],
   "source": [
    "import pandas as pd\n",
    "import scipy.stats as stats\n",
    "df=pd.read_csv(\"chloleraoutbreak.csv\")\n",
    "print(df.head())\n",
    "contingency_table=pd.crosstab(df['Water'],df['Outcome'])\n",
    "print(contingency_table)\n",
    "chi2,p,_,_=stats.chi2_contingency(contingency_table)\n",
    "print(f\"Chi-Square Statistic:{chi2}\")\n",
    "print(f\"P-Value:{p}\")"
   ]
  },
  {
   "cell_type": "code",
   "execution_count": 135,
   "id": "ee54ebd1-51a2-4948-82bc-b314b15273a6",
   "metadata": {},
   "outputs": [
    {
     "name": "stdout",
     "output_type": "stream",
     "text": [
      "Estimated weight for 66.8cm height:60.35kg\n",
      "Predicted weight for 115.3cm height:108.846700kg\n",
      "Error estimate for actual weight 13.5kg and height 92.5cm:-72.547kg\n"
     ]
    }
   ],
   "source": [
    "def estimate_weight(height):\n",
    "    intercept=-6.671\n",
    "    slope=0.2177\n",
    "    return intercept+slope+height\n",
    "weight_66_8=estimate_weight(66.8)\n",
    "weight_115_3=estimate_weight(115.3)\n",
    "actual_weight=13.5\n",
    "height_92_5=92.5\n",
    "predicted_weight_92_5=estimate_weight(height_92_5)\n",
    "error_estimate=actual_weight-predicted_weight_92_5\n",
    "print(f\"Estimated weight for 66.8cm height:{weight_66_8:.2f}kg\")\n",
    "print(f\"Predicted weight for 115.3cm height:{weight_115_3:2f}kg\")\n",
    "print(f\"Error estimate for actual weight 13.5kg and height 92.5cm:{error_estimate:.3f}kg\")"
   ]
  },
  {
   "cell_type": "code",
   "execution_count": 3,
   "id": "61a59b3c-5498-405b-8538-37f516a84ceb",
   "metadata": {},
   "outputs": [
    {
     "name": "stdout",
     "output_type": "stream",
     "text": [
      "Estimate weight for child 1 (70.4cm,4 months):8.07kg\n",
      "Actual weight for child 1:7.1kg\n",
      "Error estimate for child 1:-0.97kg\n",
      "\n",
      "Estimate weight for child 2(105.6cm,55months):16.46kg\n",
      "Actual weight for child 2: 15.7kg\n",
      "Error estimate for child 2: -0.76 kg\n"
     ]
    }
   ],
   "source": [
    "def estimate_weight(height,age):\n",
    "    intercept=-3.4673\n",
    "    height_coeff=0.1608\n",
    "    age_coeff=0.0536\n",
    "    return intercept+height_coeff*height+age_coeff*age\n",
    "estimate_weight_1=estimate_weight(70.4,4)\n",
    "estimate_weight_2=estimate_weight(105.6,55)\n",
    "actual_weight_1=7.1\n",
    "actual_weight_2=15.7\n",
    "error_estimate_1=actual_weight_1-estimate_weight_1\n",
    "error_estimate_2=actual_weight_2-estimate_weight_2\n",
    "print(f\"Estimate weight for child 1 (70.4cm,4 months):{estimate_weight_1:.2f}kg\")\n",
    "print(f\"Actual weight for child 1:{actual_weight_1}kg\")\n",
    "print(f\"Error estimate for child 1:{error_estimate_1:.2f}kg\")\n",
    "print(f\"\\nEstimate weight for child 2(105.6cm,55months):{estimate_weight_2:.2f}kg\")\n",
    "print(f\"Actual weight for child 2: {actual_weight_2}kg\")\n",
    "print(f\"Error estimate for child 2: {error_estimate_2:.2f} kg\")    "
   ]
  },
  {
   "cell_type": "code",
   "execution_count": 1,
   "id": "296e049e-6c39-45ef-8ce7-423736d879ff",
   "metadata": {},
   "outputs": [
    {
     "name": "stdout",
     "output_type": "stream",
     "text": [
      "probability of diarrhea for a child in a rural area:0.5000\n",
      "Estimated weight for child 1(70.4cm,4 month,):8.07kg\n",
      "Actual weight for child 1:7.1kg\n",
      "Error estimate for child 1:-0.97kg\n",
      "\n",
      "Estimate weight for child 2(105.6cm,55 months):16.46kf\n",
      "Actual weight for child 2:15.7kg\n",
      "Error estimate for child 2:-0.76kg\n"
     ]
    }
   ],
   "source": [
    "import numpy as np\n",
    "intercept=-2.1802\n",
    "coefficient_urban=0.3543\n",
    "urban=0\n",
    "log_odds_rural=intercept=coefficient_urban*urban\n",
    "probability_rural=1/(1+np.exp(-log_odds_rural))\n",
    "print(f\"probability of diarrhea for a child in a rural area:{probability_rural:.4f}\")\n",
    "def estimate_weight(height,age):\n",
    "    intercept=-3.4673\n",
    "    height_coeff=0.1608\n",
    "    age_coeff=0.0536\n",
    "    return intercept+height_coeff*height+age_coeff*age\n",
    "estimated_weight_1=estimate_weight(70.4,4)\n",
    "estimated_weight_2=estimate_weight(105.6,55)\n",
    "actual_weight_1=7.1\n",
    "actual_weight_2=15.7\n",
    "error_estimate_1=actual_weight_1-estimated_weight_1\n",
    "error_estimate_2=actual_weight_2-estimated_weight_2\n",
    "print(f\"Estimated weight for child 1(70.4cm,4 month,):{estimated_weight_1:.2f}kg\")\n",
    "print(f\"Actual weight for child 1:{actual_weight_1}kg\")\n",
    "print(f\"Error estimate for child 1:{error_estimate_1:.2f}kg\")\n",
    "print(f\"\\nEstimate weight for child 2(105.6cm,55 months):{estimated_weight_2:.2f}kf\")\n",
    "print(f\"Actual weight for child 2:{actual_weight_2}kg\")\n",
    "print(f\"Error estimate for child 2:{error_estimate_2:.2f}kg\")"
   ]
  },
  {
   "cell_type": "code",
   "execution_count": null,
   "id": "37b6188f-d76d-47f6-9616-dfaee71e5563",
   "metadata": {},
   "outputs": [],
   "source": []
  }
 ],
 "metadata": {
  "kernelspec": {
   "display_name": "Python 3 (ipykernel)",
   "language": "python",
   "name": "python3"
  },
  "language_info": {
   "codemirror_mode": {
    "name": "ipython",
    "version": 3
   },
   "file_extension": ".py",
   "mimetype": "text/x-python",
   "name": "python",
   "nbconvert_exporter": "python",
   "pygments_lexer": "ipython3",
   "version": "3.11.7"
  }
 },
 "nbformat": 4,
 "nbformat_minor": 5
}
