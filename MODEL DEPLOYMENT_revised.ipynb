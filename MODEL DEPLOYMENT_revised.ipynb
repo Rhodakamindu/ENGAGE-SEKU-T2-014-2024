{
 "cells": [
  {
   "cell_type": "markdown",
   "id": "cc1421ad",
   "metadata": {
    "id": "cc1421ad"
   },
   "source": [
    "<h2>MODEL DEPLOYMENT</h2>\n",
    "\n",
    "By the end of this module the learner should be able to:\n",
    "1. Define model deployment.\n",
    "2. Distinguish between the different deployment models.\n",
    "3. Identify the various deployment environments.\n",
    "4. Create a web app using streamlit.\n",
    "5. Create a model\n",
    "6. Integrate a model into an application.\n",
    "\n",
    "<h2>Definition of model deployment</h2>\n",
    "\n",
    "Lets us start by thinking about what model deployment is all about. When we create the models in our jupyter notebooks or R environment, we are not able to share this with the people who want to constantily use them for the machine learning tasks such as predictions, classification and so on. We therefore need to make our models accessible for the actual users to be able to use them. This process of availing our models to potential users is what is reffered to us **model deployment**.\n",
    "\n",
    "Deploying a  model will involve integrating it with existing applications. For example if you were building a machine learning model to help doctors diagnosize patients with diabetics, you will need to integrate it with the existing health management system used in the hospital or you will need to develop an application that will help the doctor put the patients sysmptoms and then this information is sent to the model through an API (Intergreted application interface). The model then serves the request and sends the prediction to the doctor.\n",
    "\n",
    "As much as model deployment is the last stage in the machine learning cycle, model deployment is the first step in what is reffered to us model management.\n",
    "\n",
    "A typical cycle for machine learning model management is shown in the diagram below;\n",
    "\n",
    "\n",
    "The first step  involves the deployment of the model. Once the model is deployed, its performance is monitored. If the performance of the model reduces to a cerain level, the model will require retraining and evaluation and so that the old model can be replaced with a new model.\n",
    "\n",
    "<h3>Why deploy the models</h3>\n",
    "\n",
    "- Model deployment is the final step in the machine learning pipeline, where the model transitions from a development/testing phase to real-world usage.\n",
    "- Deployed models enable organizations to automate decision-making processes, optimize workflows, and derive actionable insights from data.\n",
    "- Efficient deployment ensures that the benefits of machine learning models are realized in practical applications, leading to improved efficiency, accuracy, and competitiveness.\n",
    "\n",
    "<h2>Machine learning model deployment models</h2>\n",
    "\n",
    "In general, there are 3 ways you can deploy our trained machine learning model.\n",
    "\n",
    "1. one off\n",
    "The one off model is applicable in cases where the model is only required at one particular time. This is appliable if the model is required for a temporary task. This can be applicable in a scenerio where for example if the governemnt is rolling out vaccination lets say for measals, they can develop a model for predicting the people at high risk for priotizing the distribution of the vaccine.\n",
    "\n",
    "2. Batch\n",
    "The batch model allows you to have an updated version of the model at all times. This is useful in cases where you do not need predictions done on real time data. The model gets trained on the whole dataset at certain period and used for prediction. An applicable area can be in disease servillance where the data is collected periodically like monthly and used in training the model.\n",
    "3. Realtime\n",
    "\n",
    "Realtime deployment is applicable where predictions are needed in realtime. Realtime deployment of the machine learning model can be applicable in cases such as disease servillance in case of pandemics where you might want to know everytime where new cases are reported.\n",
    "\n",
    "<h2>Factors to consider when choosing a model deployment model</h2>\n",
    "\n",
    "- How frequent/often are the predictions required and how urgent the results are required\n",
    "\n",
    "- Do we need individualpredictions or batch predictions\n",
    "\n",
    "- Cost of deploying the model\n",
    "- Computing capabilities required by the model\n",
    "- The complexity of the model. Realtime deployment model requires less complex models\n",
    "\n",
    "<h2>Challenges in machine learning model deployment</h2>\n",
    "\n",
    "- The discrepancies in programming langauges: As you have noted by now machine learning models mostily using R or Python but most applications that the model need to be integreated into are written in other langauges such as Java, PhP, type script, Ruby, C#. The integration of the models to this applications may pose a challenge.\n",
    "\n",
    "- Model drift: When the performance of a machine learning model degrades to a level that is below the benchmark, it is reffered to us model drift. Depending on the use of the model, the degradation of the model performance can cause a major impact expecially in the medical field. It is therefore very important to be able to monitor the performance of machine learning models so that any degradation in performance can be captured at an early stage. Model degradation can be caused by:\n",
    "\n",
    "1. Changing data behavior: In a typical machine learning model creation, the model is trained using historical data which is in a particular format but we know data data can change and the machine learning model will be exposed with data it has not seen before hence the poor performance. For example if a machine learning was trained to identify wheather someone had covid-19 using the data collected in 2019 which had various symptoms. At the beginning the machine learning model will perform well when patients present with the same symptoms the model was trained for. But over time when new variants of Covid-19 with different symptoms arise, the model may fail to identify if a person has Covid-19 based on the new symptoms. In such cases when there is a degredation of the performance of the model, is important to train the model on the emwrging data  or new data.\n",
    "\n",
    "2. Changing interpretation of the new data (Concept drift): Concept drift happens when the clasification of an outcome variable changes in meaning. For example if previous target variable for the machine learning model for covid during the early stages was either someone had covid or not. But with the emergence of the new variants more outcome variable are available. Instead of just wanting to know if someone has covid or not, one will be interested to find the covid variant that soemone is suffering from based on the symptoms. With such change it is important to retrain the model with the new knowledge.\n",
    "\n",
    "3. Deploying the model on the cloud or on premise: Just like the discussion on whether to adopt cloud compputing or deploy applications on premise, the decisons of where the model will be hosted has trendoffs to be made. The issues of security, privacy and accessibility will suffice.\n",
    "4. Model monitoring: It is important to have model monitorin plan. This will help in being able to determine the threshold of the model performance. If there is no plan, there is a danger of failing to monitor the performance of the model.\n",
    "\n",
    "5. Vesrion control: With the fact that the machine learning model will need to be retrained, it is important to keep tab of the versions of the model so that in case of anything you can always go back to the previous working version. One of the most common used version control tools is called Github.\n",
    "\n",
    "\n",
    "<h2>Deployment environments</h2>\n",
    "\n",
    "1. streamlit\n",
    "2. Heroku\n",
    "3. TensorFlow Serving with Docker\n",
    "4. AWS\n",
    "5. Microsoft Azure\n",
    "\n",
    "This are just a few places where you can deploy your machine learning model. You can explore more deployment environments.\n",
    "\n",
    "<h2>Steps for deploying a machine learning model</h2>\n",
    "\n",
    "1. Training of the model\n",
    "2. Saving the model\n",
    "3. Select the deployment environment\n",
    "4. Set up the requirements: This are dependancies that the model depends on such as all the libraries that were imported.\n",
    "5. Serve the model using REST API such as flask, Django, FastAPI or streamlit\n",
    "6. Deploy the model in the selected environment such as heroku server, AWS e.tc.\n",
    "7. Create the interface to access the model such as a webform\n",
    "\n",
    "Lets go through the process listed above using an example for predicting the probablity that someone has cholera or not?\n",
    "\n",
    "<h2>Machine learning deployment as a web service</h2>\n",
    "\n",
    "As we have already learnt, we mainly test and train our machine learning models using Google Colab/jupyter notebook but if we require to conect our model to an app or web service, we will need to deploy it as a webserver. This server can either be in the cloud or on premise. In this section, we are going to explore how to deploy our model Using streamlit.\n",
    "\n",
    "** Introduction to Streamlit**\n",
    "\n",
    "Streamlit is an easy to use open-source Python library used to create and share custom web apps for machine learning and data science projects. It allows you to turn your trained models into shareable web apps in minutes, without needing extensive web development skills.\n",
    "\n",
    "A web application, is an application that you can access using the browser\n",
    "\n",
    "Before we use streamlit to deploy our model, we will need to first of all install it. To install it, we will use pip which you were introduced to in the first chapter. The code to install streamlit is as follows\n",
    "\n",
    "    pip install streamlit\n",
    "If you already have it in the machine, you will get the message \"requirements satisified\"\n",
    "\n",
    "Lets start by learning a few commands that you can use in streamlit by creating the hello world web app."
   ]
  },
  {
   "cell_type": "code",
   "execution_count": 1,
   "id": "Y0J3q-TOK61j",
   "metadata": {
    "colab": {
     "base_uri": "https://localhost:8080/"
    },
    "executionInfo": {
     "elapsed": 31294,
     "status": "ok",
     "timestamp": 1721376342382,
     "user": {
      "displayName": "George Musumba",
      "userId": "16799300476353448120"
     },
     "user_tz": -180
    },
    "id": "Y0J3q-TOK61j",
    "outputId": "6ce2e399-0f1b-48a4-a840-f89a81b3175f",
    "scrolled": true
   },
   "outputs": [
    {
     "name": "stdout",
     "output_type": "stream",
     "text": [
      "Requirement already satisfied: streamlit in c:\\users\\admin\\anaconda3\\lib\\site-packages (1.30.0)\n",
      "Requirement already satisfied: altair<6,>=4.0 in c:\\users\\admin\\anaconda3\\lib\\site-packages (from streamlit) (5.0.1)\n",
      "Requirement already satisfied: blinker<2,>=1.0.0 in c:\\users\\admin\\anaconda3\\lib\\site-packages (from streamlit) (1.6.2)\n",
      "Requirement already satisfied: cachetools<6,>=4.0 in c:\\users\\admin\\anaconda3\\lib\\site-packages (from streamlit) (4.2.2)\n",
      "Requirement already satisfied: click<9,>=7.0 in c:\\users\\admin\\anaconda3\\lib\\site-packages (from streamlit) (8.1.7)\n",
      "Requirement already satisfied: importlib-metadata<8,>=1.4 in c:\\users\\admin\\anaconda3\\lib\\site-packages (from streamlit) (7.0.1)\n",
      "Requirement already satisfied: numpy<2,>=1.19.3 in c:\\users\\admin\\anaconda3\\lib\\site-packages (from streamlit) (1.26.4)\n",
      "Requirement already satisfied: packaging<24,>=16.8 in c:\\users\\admin\\anaconda3\\lib\\site-packages (from streamlit) (23.1)\n",
      "Requirement already satisfied: pandas<3,>=1.3.0 in c:\\users\\admin\\anaconda3\\lib\\site-packages (from streamlit) (2.2.2)\n",
      "Requirement already satisfied: pillow<11,>=7.1.0 in c:\\users\\admin\\anaconda3\\lib\\site-packages (from streamlit) (10.2.0)\n",
      "Requirement already satisfied: protobuf<5,>=3.20 in c:\\users\\admin\\anaconda3\\lib\\site-packages (from streamlit) (3.20.3)\n",
      "Requirement already satisfied: pyarrow>=6.0 in c:\\users\\admin\\anaconda3\\lib\\site-packages (from streamlit) (14.0.2)\n",
      "Requirement already satisfied: python-dateutil<3,>=2.7.3 in c:\\users\\admin\\anaconda3\\lib\\site-packages (from streamlit) (2.8.2)\n",
      "Requirement already satisfied: requests<3,>=2.27 in c:\\users\\admin\\anaconda3\\lib\\site-packages (from streamlit) (2.31.0)\n",
      "Requirement already satisfied: rich<14,>=10.14.0 in c:\\users\\admin\\anaconda3\\lib\\site-packages (from streamlit) (13.3.5)\n",
      "Requirement already satisfied: tenacity<9,>=8.1.0 in c:\\users\\admin\\anaconda3\\lib\\site-packages (from streamlit) (8.2.2)\n",
      "Requirement already satisfied: toml<2,>=0.10.1 in c:\\users\\admin\\anaconda3\\lib\\site-packages (from streamlit) (0.10.2)\n",
      "Requirement already satisfied: typing-extensions<5,>=4.3.0 in c:\\users\\admin\\anaconda3\\lib\\site-packages (from streamlit) (4.9.0)\n",
      "Requirement already satisfied: tzlocal<6,>=1.1 in c:\\users\\admin\\anaconda3\\lib\\site-packages (from streamlit) (2.1)\n",
      "Requirement already satisfied: validators<1,>=0.2 in c:\\users\\admin\\anaconda3\\lib\\site-packages (from streamlit) (0.18.2)\n",
      "Requirement already satisfied: gitpython!=3.1.19,<4,>=3.0.7 in c:\\users\\admin\\anaconda3\\lib\\site-packages (from streamlit) (3.1.37)\n",
      "Requirement already satisfied: pydeck<1,>=0.8.0b4 in c:\\users\\admin\\anaconda3\\lib\\site-packages (from streamlit) (0.8.0)\n",
      "Requirement already satisfied: tornado<7,>=6.0.3 in c:\\users\\admin\\anaconda3\\lib\\site-packages (from streamlit) (6.3.3)\n",
      "Requirement already satisfied: watchdog>=2.1.5 in c:\\users\\admin\\anaconda3\\lib\\site-packages (from streamlit) (2.1.6)\n",
      "Requirement already satisfied: jinja2 in c:\\users\\admin\\anaconda3\\lib\\site-packages (from altair<6,>=4.0->streamlit) (3.1.3)\n",
      "Requirement already satisfied: jsonschema>=3.0 in c:\\users\\admin\\anaconda3\\lib\\site-packages (from altair<6,>=4.0->streamlit) (4.19.2)\n",
      "Requirement already satisfied: toolz in c:\\users\\admin\\anaconda3\\lib\\site-packages (from altair<6,>=4.0->streamlit) (0.12.0)\n",
      "Requirement already satisfied: colorama in c:\\users\\admin\\anaconda3\\lib\\site-packages (from click<9,>=7.0->streamlit) (0.4.6)\n",
      "Requirement already satisfied: gitdb<5,>=4.0.1 in c:\\users\\admin\\anaconda3\\lib\\site-packages (from gitpython!=3.1.19,<4,>=3.0.7->streamlit) (4.0.7)\n",
      "Requirement already satisfied: zipp>=0.5 in c:\\users\\admin\\anaconda3\\lib\\site-packages (from importlib-metadata<8,>=1.4->streamlit) (3.17.0)\n",
      "Requirement already satisfied: pytz>=2020.1 in c:\\users\\admin\\anaconda3\\lib\\site-packages (from pandas<3,>=1.3.0->streamlit) (2023.3.post1)\n",
      "Requirement already satisfied: tzdata>=2022.7 in c:\\users\\admin\\anaconda3\\lib\\site-packages (from pandas<3,>=1.3.0->streamlit) (2023.3)\n",
      "Requirement already satisfied: six>=1.5 in c:\\users\\admin\\anaconda3\\lib\\site-packages (from python-dateutil<3,>=2.7.3->streamlit) (1.16.0)\n",
      "Requirement already satisfied: charset-normalizer<4,>=2 in c:\\users\\admin\\anaconda3\\lib\\site-packages (from requests<3,>=2.27->streamlit) (2.0.4)\n",
      "Requirement already satisfied: idna<4,>=2.5 in c:\\users\\admin\\anaconda3\\lib\\site-packages (from requests<3,>=2.27->streamlit) (3.4)\n",
      "Requirement already satisfied: urllib3<3,>=1.21.1 in c:\\users\\admin\\anaconda3\\lib\\site-packages (from requests<3,>=2.27->streamlit) (2.0.7)\n",
      "Requirement already satisfied: certifi>=2017.4.17 in c:\\users\\admin\\anaconda3\\lib\\site-packages (from requests<3,>=2.27->streamlit) (2024.7.4)\n",
      "Requirement already satisfied: markdown-it-py<3.0.0,>=2.2.0 in c:\\users\\admin\\anaconda3\\lib\\site-packages (from rich<14,>=10.14.0->streamlit) (2.2.0)\n",
      "Requirement already satisfied: pygments<3.0.0,>=2.13.0 in c:\\users\\admin\\anaconda3\\lib\\site-packages (from rich<14,>=10.14.0->streamlit) (2.15.1)\n",
      "Requirement already satisfied: decorator>=3.4.0 in c:\\users\\admin\\anaconda3\\lib\\site-packages (from validators<1,>=0.2->streamlit) (5.1.1)\n",
      "Requirement already satisfied: smmap<5,>=3.0.1 in c:\\users\\admin\\anaconda3\\lib\\site-packages (from gitdb<5,>=4.0.1->gitpython!=3.1.19,<4,>=3.0.7->streamlit) (4.0.0)\n",
      "Requirement already satisfied: MarkupSafe>=2.0 in c:\\users\\admin\\anaconda3\\lib\\site-packages (from jinja2->altair<6,>=4.0->streamlit) (2.1.3)\n",
      "Requirement already satisfied: attrs>=22.2.0 in c:\\users\\admin\\anaconda3\\lib\\site-packages (from jsonschema>=3.0->altair<6,>=4.0->streamlit) (23.1.0)\n",
      "Requirement already satisfied: jsonschema-specifications>=2023.03.6 in c:\\users\\admin\\anaconda3\\lib\\site-packages (from jsonschema>=3.0->altair<6,>=4.0->streamlit) (2023.7.1)\n",
      "Requirement already satisfied: referencing>=0.28.4 in c:\\users\\admin\\anaconda3\\lib\\site-packages (from jsonschema>=3.0->altair<6,>=4.0->streamlit) (0.30.2)\n",
      "Requirement already satisfied: rpds-py>=0.7.1 in c:\\users\\admin\\anaconda3\\lib\\site-packages (from jsonschema>=3.0->altair<6,>=4.0->streamlit) (0.10.6)\n",
      "Requirement already satisfied: mdurl~=0.1 in c:\\users\\admin\\anaconda3\\lib\\site-packages (from markdown-it-py<3.0.0,>=2.2.0->rich<14,>=10.14.0->streamlit) (0.1.0)\n",
      "Note: you may need to restart the kernel to use updated packages.\n"
     ]
    }
   ],
   "source": [
    "pip install streamlit"
   ]
  },
  {
   "cell_type": "markdown",
   "id": "o448uouALFuZ",
   "metadata": {
    "id": "o448uouALFuZ"
   },
   "source": [
    "Before we start using streamlit, we have to import it. We will import it with an alias st the same way we were importing pandas with the alias pd as follows"
   ]
  },
  {
   "cell_type": "code",
   "execution_count": 2,
   "id": "n27d8QQMYzGN",
   "metadata": {
    "colab": {
     "base_uri": "https://localhost:8080/"
    },
    "executionInfo": {
     "elapsed": 2754,
     "status": "ok",
     "timestamp": 1721376365688,
     "user": {
      "displayName": "George Musumba",
      "userId": "16799300476353448120"
     },
     "user_tz": -180
    },
    "id": "n27d8QQMYzGN",
    "outputId": "28d5e216-d5be-4f6c-e9ae-65179960e10c"
   },
   "outputs": [
    {
     "name": "stderr",
     "output_type": "stream",
     "text": [
      "2024-08-25 22:39:09.033 \n",
      "  \u001b[33m\u001b[1mWarning:\u001b[0m to view this Streamlit app on a browser, run it with the following\n",
      "  command:\n",
      "\n",
      "    streamlit run C:\\Users\\ADMIN\\anaconda3\\Lib\\site-packages\\ipykernel_launcher.py [ARGUMENTS]\n"
     ]
    }
   ],
   "source": [
    "import streamlit as st\n",
    "# Title of the app\n",
    "st.title('Hello World Streamlit App')\n",
    "\n",
    "# Display text\n",
    "st.write('Hello, World! This is my first Streamlit app.')\n",
    "\n",
    "# Add a slider widget\n",
    "number = st.slider('Pick a number', 0, 100, 50)\n",
    "st.write('You selected:', number)"
   ]
  },
  {
   "cell_type": "markdown",
   "id": "dPHkty-sL7pk",
   "metadata": {
    "id": "dPHkty-sL7pk"
   },
   "source": [
    "**Code explanation**\n",
    "\n",
    "The **st. title** method helps to write a title for our application\n",
    "\n",
    "The **st.write\"** is used to write any thing to the screen\n",
    "\n",
    "The **st.slider** will create a slider for you that you can be able to drag through.\n",
    "\n",
    "To see how our app is working, we will transfer the code above to a text editor and save it as app.py then we will use the streamlit run command to run our file from the command prompt."
   ]
  },
  {
   "cell_type": "markdown",
   "id": "djGKCaMiUytx",
   "metadata": {
    "id": "djGKCaMiUytx"
   },
   "source": [
    "\n",
    "**<h2>CREATING OUR MODEL</h2>**\n",
    "\n",
    "Now that we know the basic streamlit, lets create the model we will deploy using the stramlit app.\n",
    "\n",
    "**<h4>Importing the libraries</h4>**"
   ]
  },
  {
   "cell_type": "code",
   "execution_count": 1,
   "id": "fCK_kGaffENE",
   "metadata": {
    "id": "fCK_kGaffENE"
   },
   "outputs": [],
   "source": [
    "import pandas as pd\n",
    "import numpy as np\n",
    "from sklearn.linear_model import LinearRegression\n",
    "from sklearn.model_selection import train_test_split\n",
    "from sklearn.metrics import accuracy_score, confusion_matrix, classification_report\n",
    "import matplotlib.pyplot as plt\n"
   ]
  },
  {
   "cell_type": "markdown",
   "id": "RtzxGjz0ftfP",
   "metadata": {
    "id": "RtzxGjz0ftfP"
   },
   "source": [
    "Next we load the dataset for cholera"
   ]
  },
  {
   "cell_type": "code",
   "execution_count": 2,
   "id": "Yv5RJPg6fr2f",
   "metadata": {
    "id": "Yv5RJPg6fr2f"
   },
   "outputs": [],
   "source": [
    "data=pd.read_excel(\"child_data.xlsx\")"
   ]
  },
  {
   "cell_type": "markdown",
   "id": "g4k79Rz5f4t0",
   "metadata": {
    "id": "g4k79Rz5f4t0"
   },
   "source": [
    "Lets look at how the data is by using the head function"
   ]
  },
  {
   "cell_type": "code",
   "execution_count": 3,
   "id": "-vnFd2VegADe",
   "metadata": {
    "colab": {
     "base_uri": "https://localhost:8080/",
     "height": 223
    },
    "executionInfo": {
     "elapsed": 1015,
     "status": "ok",
     "timestamp": 1721391888953,
     "user": {
      "displayName": "Selina Atwani Ochukut",
      "userId": "02295218241410605702"
     },
     "user_tz": -180
    },
    "id": "-vnFd2VegADe",
    "outputId": "f1a7c10f-0dfe-4661-eb86-002052a032bb"
   },
   "outputs": [
    {
     "data": {
      "text/html": [
       "<div>\n",
       "<style scoped>\n",
       "    .dataframe tbody tr th:only-of-type {\n",
       "        vertical-align: middle;\n",
       "    }\n",
       "\n",
       "    .dataframe tbody tr th {\n",
       "        vertical-align: top;\n",
       "    }\n",
       "\n",
       "    .dataframe thead th {\n",
       "        text-align: right;\n",
       "    }\n",
       "</style>\n",
       "<table border=\"1\" class=\"dataframe\">\n",
       "  <thead>\n",
       "    <tr style=\"text-align: right;\">\n",
       "      <th></th>\n",
       "      <th>Unnamed: 0</th>\n",
       "      <th>Age (months)</th>\n",
       "      <th>Sex</th>\n",
       "      <th>Mother's education</th>\n",
       "      <th>Area</th>\n",
       "      <th>Wealth index quintile</th>\n",
       "      <th>Child's weight (kilograms)</th>\n",
       "    </tr>\n",
       "  </thead>\n",
       "  <tbody>\n",
       "    <tr>\n",
       "      <th>0</th>\n",
       "      <td>0</td>\n",
       "      <td>45</td>\n",
       "      <td>Female</td>\n",
       "      <td>Secondary+</td>\n",
       "      <td>Rural</td>\n",
       "      <td>Richest</td>\n",
       "      <td>16.2</td>\n",
       "    </tr>\n",
       "    <tr>\n",
       "      <th>1</th>\n",
       "      <td>1</td>\n",
       "      <td>45</td>\n",
       "      <td>Male</td>\n",
       "      <td>Primary</td>\n",
       "      <td>Rural</td>\n",
       "      <td>Second</td>\n",
       "      <td>13.5</td>\n",
       "    </tr>\n",
       "    <tr>\n",
       "      <th>2</th>\n",
       "      <td>2</td>\n",
       "      <td>36</td>\n",
       "      <td>Male</td>\n",
       "      <td>Primary</td>\n",
       "      <td>Rural</td>\n",
       "      <td>Fourth</td>\n",
       "      <td>13.4</td>\n",
       "    </tr>\n",
       "    <tr>\n",
       "      <th>3</th>\n",
       "      <td>3</td>\n",
       "      <td>51</td>\n",
       "      <td>Female</td>\n",
       "      <td>Primary</td>\n",
       "      <td>Rural</td>\n",
       "      <td>Fourth</td>\n",
       "      <td>15.0</td>\n",
       "    </tr>\n",
       "    <tr>\n",
       "      <th>4</th>\n",
       "      <td>4</td>\n",
       "      <td>56</td>\n",
       "      <td>Female</td>\n",
       "      <td>Primary</td>\n",
       "      <td>Rural</td>\n",
       "      <td>Fourth</td>\n",
       "      <td>15.2</td>\n",
       "    </tr>\n",
       "  </tbody>\n",
       "</table>\n",
       "</div>"
      ],
      "text/plain": [
       "   Unnamed: 0  Age (months)     Sex Mother's education   Area  \\\n",
       "0           0            45  Female         Secondary+  Rural   \n",
       "1           1            45    Male            Primary  Rural   \n",
       "2           2            36    Male            Primary  Rural   \n",
       "3           3            51  Female            Primary  Rural   \n",
       "4           4            56  Female            Primary  Rural   \n",
       "\n",
       "  Wealth index quintile  Child's weight (kilograms)  \n",
       "0               Richest                        16.2  \n",
       "1                Second                        13.5  \n",
       "2                Fourth                        13.4  \n",
       "3                Fourth                        15.0  \n",
       "4                Fourth                        15.2  "
      ]
     },
     "execution_count": 3,
     "metadata": {},
     "output_type": "execute_result"
    }
   ],
   "source": [
    "data.head()"
   ]
  },
  {
   "cell_type": "code",
   "execution_count": null,
   "id": "Z4uwsY52GYTa",
   "metadata": {
    "id": "Z4uwsY52GYTa"
   },
   "outputs": [],
   "source": []
  },
  {
   "cell_type": "code",
   "execution_count": 4,
   "id": "Q6zcZSMaippz",
   "metadata": {
    "id": "Q6zcZSMaippz"
   },
   "outputs": [],
   "source": [
    "missing_data=data.isnull().sum()"
   ]
  },
  {
   "cell_type": "code",
   "execution_count": 5,
   "id": "tJuOZvB6qysm",
   "metadata": {
    "colab": {
     "base_uri": "https://localhost:8080/"
    },
    "executionInfo": {
     "elapsed": 2,
     "status": "ok",
     "timestamp": 1721391905630,
     "user": {
      "displayName": "Selina Atwani Ochukut",
      "userId": "02295218241410605702"
     },
     "user_tz": -180
    },
    "id": "tJuOZvB6qysm",
    "outputId": "2d907aa8-239d-40c5-8864-37c5573cea00"
   },
   "outputs": [
    {
     "data": {
      "text/plain": [
       "array(['Rural', 'Urban'], dtype=object)"
      ]
     },
     "execution_count": 5,
     "metadata": {},
     "output_type": "execute_result"
    }
   ],
   "source": [
    "data[\"Area\"].unique()"
   ]
  },
  {
   "cell_type": "code",
   "execution_count": 6,
   "id": "ixMezVaPiwS5",
   "metadata": {
    "colab": {
     "base_uri": "https://localhost:8080/"
    },
    "executionInfo": {
     "elapsed": 2,
     "status": "ok",
     "timestamp": 1721391908370,
     "user": {
      "displayName": "Selina Atwani Ochukut",
      "userId": "02295218241410605702"
     },
     "user_tz": -180
    },
    "id": "ixMezVaPiwS5",
    "outputId": "0713468b-f5f0-459a-fbc1-bdf5563ce393"
   },
   "outputs": [
    {
     "name": "stdout",
     "output_type": "stream",
     "text": [
      "Unnamed: 0                    0\n",
      "Age (months)                  0\n",
      "Sex                           0\n",
      "Mother's education            0\n",
      "Area                          0\n",
      "Wealth index quintile         0\n",
      "Child's weight (kilograms)    0\n",
      "dtype: int64\n"
     ]
    }
   ],
   "source": [
    "print(missing_data)"
   ]
  },
  {
   "cell_type": "code",
   "execution_count": 7,
   "id": "-d8aV7VekKR5",
   "metadata": {
    "id": "-d8aV7VekKR5"
   },
   "outputs": [],
   "source": [
    "#Create an X and y values\n",
    "X=data[[\"Sex\",\"Mother's education\",\"Area\",\"Wealth index quintile\"]]\n",
    "y=data[\"Child's weight (kilograms)\"]\n",
    "X=X.to_numpy()\n",
    "y=y.to_numpy()"
   ]
  },
  {
   "cell_type": "code",
   "execution_count": 8,
   "id": "RgN3w19-k9P9",
   "metadata": {
    "id": "RgN3w19-k9P9"
   },
   "outputs": [],
   "source": [
    "X_train, X_test, y_train, y_test = train_test_split(X, y, test_size=0.3, random_state=42)"
   ]
  },
  {
   "cell_type": "code",
   "execution_count": 9,
   "id": "bUHTtIc4kpJS",
   "metadata": {
    "id": "bUHTtIc4kpJS"
   },
   "outputs": [],
   "source": [
    "model=LinearRegression()"
   ]
  },
  {
   "cell_type": "code",
   "execution_count": 10,
   "id": "Uin_HNDUkuWM",
   "metadata": {
    "colab": {
     "base_uri": "https://localhost:8080/",
     "height": 74
    },
    "executionInfo": {
     "elapsed": 729,
     "status": "ok",
     "timestamp": 1721392211357,
     "user": {
      "displayName": "Selina Atwani Ochukut",
      "userId": "02295218241410605702"
     },
     "user_tz": -180
    },
    "id": "Uin_HNDUkuWM",
    "outputId": "e5692468-c3ad-4623-ada9-86a0b1ca8765"
   },
   "outputs": [
    {
     "ename": "ValueError",
     "evalue": "could not convert string to float: 'Female'",
     "output_type": "error",
     "traceback": [
      "\u001b[1;31m---------------------------------------------------------------------------\u001b[0m",
      "\u001b[1;31mValueError\u001b[0m                                Traceback (most recent call last)",
      "Cell \u001b[1;32mIn[10], line 1\u001b[0m\n\u001b[1;32m----> 1\u001b[0m model\u001b[38;5;241m.\u001b[39mfit(X_train, y_train)\n",
      "File \u001b[1;32m~\\anaconda3\\Lib\\site-packages\\sklearn\\linear_model\\_base.py:648\u001b[0m, in \u001b[0;36mLinearRegression.fit\u001b[1;34m(self, X, y, sample_weight)\u001b[0m\n\u001b[0;32m    644\u001b[0m n_jobs_ \u001b[38;5;241m=\u001b[39m \u001b[38;5;28mself\u001b[39m\u001b[38;5;241m.\u001b[39mn_jobs\n\u001b[0;32m    646\u001b[0m accept_sparse \u001b[38;5;241m=\u001b[39m \u001b[38;5;28;01mFalse\u001b[39;00m \u001b[38;5;28;01mif\u001b[39;00m \u001b[38;5;28mself\u001b[39m\u001b[38;5;241m.\u001b[39mpositive \u001b[38;5;28;01melse\u001b[39;00m [\u001b[38;5;124m\"\u001b[39m\u001b[38;5;124mcsr\u001b[39m\u001b[38;5;124m\"\u001b[39m, \u001b[38;5;124m\"\u001b[39m\u001b[38;5;124mcsc\u001b[39m\u001b[38;5;124m\"\u001b[39m, \u001b[38;5;124m\"\u001b[39m\u001b[38;5;124mcoo\u001b[39m\u001b[38;5;124m\"\u001b[39m]\n\u001b[1;32m--> 648\u001b[0m X, y \u001b[38;5;241m=\u001b[39m \u001b[38;5;28mself\u001b[39m\u001b[38;5;241m.\u001b[39m_validate_data(\n\u001b[0;32m    649\u001b[0m     X, y, accept_sparse\u001b[38;5;241m=\u001b[39maccept_sparse, y_numeric\u001b[38;5;241m=\u001b[39m\u001b[38;5;28;01mTrue\u001b[39;00m, multi_output\u001b[38;5;241m=\u001b[39m\u001b[38;5;28;01mTrue\u001b[39;00m\n\u001b[0;32m    650\u001b[0m )\n\u001b[0;32m    652\u001b[0m sample_weight \u001b[38;5;241m=\u001b[39m _check_sample_weight(\n\u001b[0;32m    653\u001b[0m     sample_weight, X, dtype\u001b[38;5;241m=\u001b[39mX\u001b[38;5;241m.\u001b[39mdtype, only_non_negative\u001b[38;5;241m=\u001b[39m\u001b[38;5;28;01mTrue\u001b[39;00m\n\u001b[0;32m    654\u001b[0m )\n\u001b[0;32m    656\u001b[0m X, y, X_offset, y_offset, X_scale \u001b[38;5;241m=\u001b[39m _preprocess_data(\n\u001b[0;32m    657\u001b[0m     X,\n\u001b[0;32m    658\u001b[0m     y,\n\u001b[1;32m   (...)\u001b[0m\n\u001b[0;32m    661\u001b[0m     sample_weight\u001b[38;5;241m=\u001b[39msample_weight,\n\u001b[0;32m    662\u001b[0m )\n",
      "File \u001b[1;32m~\\anaconda3\\Lib\\site-packages\\sklearn\\base.py:584\u001b[0m, in \u001b[0;36mBaseEstimator._validate_data\u001b[1;34m(self, X, y, reset, validate_separately, **check_params)\u001b[0m\n\u001b[0;32m    582\u001b[0m         y \u001b[38;5;241m=\u001b[39m check_array(y, input_name\u001b[38;5;241m=\u001b[39m\u001b[38;5;124m\"\u001b[39m\u001b[38;5;124my\u001b[39m\u001b[38;5;124m\"\u001b[39m, \u001b[38;5;241m*\u001b[39m\u001b[38;5;241m*\u001b[39mcheck_y_params)\n\u001b[0;32m    583\u001b[0m     \u001b[38;5;28;01melse\u001b[39;00m:\n\u001b[1;32m--> 584\u001b[0m         X, y \u001b[38;5;241m=\u001b[39m check_X_y(X, y, \u001b[38;5;241m*\u001b[39m\u001b[38;5;241m*\u001b[39mcheck_params)\n\u001b[0;32m    585\u001b[0m     out \u001b[38;5;241m=\u001b[39m X, y\n\u001b[0;32m    587\u001b[0m \u001b[38;5;28;01mif\u001b[39;00m \u001b[38;5;129;01mnot\u001b[39;00m no_val_X \u001b[38;5;129;01mand\u001b[39;00m check_params\u001b[38;5;241m.\u001b[39mget(\u001b[38;5;124m\"\u001b[39m\u001b[38;5;124mensure_2d\u001b[39m\u001b[38;5;124m\"\u001b[39m, \u001b[38;5;28;01mTrue\u001b[39;00m):\n",
      "File \u001b[1;32m~\\anaconda3\\Lib\\site-packages\\sklearn\\utils\\validation.py:1106\u001b[0m, in \u001b[0;36mcheck_X_y\u001b[1;34m(X, y, accept_sparse, accept_large_sparse, dtype, order, copy, force_all_finite, ensure_2d, allow_nd, multi_output, ensure_min_samples, ensure_min_features, y_numeric, estimator)\u001b[0m\n\u001b[0;32m   1101\u001b[0m         estimator_name \u001b[38;5;241m=\u001b[39m _check_estimator_name(estimator)\n\u001b[0;32m   1102\u001b[0m     \u001b[38;5;28;01mraise\u001b[39;00m \u001b[38;5;167;01mValueError\u001b[39;00m(\n\u001b[0;32m   1103\u001b[0m         \u001b[38;5;124mf\u001b[39m\u001b[38;5;124m\"\u001b[39m\u001b[38;5;132;01m{\u001b[39;00mestimator_name\u001b[38;5;132;01m}\u001b[39;00m\u001b[38;5;124m requires y to be passed, but the target y is None\u001b[39m\u001b[38;5;124m\"\u001b[39m\n\u001b[0;32m   1104\u001b[0m     )\n\u001b[1;32m-> 1106\u001b[0m X \u001b[38;5;241m=\u001b[39m check_array(\n\u001b[0;32m   1107\u001b[0m     X,\n\u001b[0;32m   1108\u001b[0m     accept_sparse\u001b[38;5;241m=\u001b[39maccept_sparse,\n\u001b[0;32m   1109\u001b[0m     accept_large_sparse\u001b[38;5;241m=\u001b[39maccept_large_sparse,\n\u001b[0;32m   1110\u001b[0m     dtype\u001b[38;5;241m=\u001b[39mdtype,\n\u001b[0;32m   1111\u001b[0m     order\u001b[38;5;241m=\u001b[39morder,\n\u001b[0;32m   1112\u001b[0m     copy\u001b[38;5;241m=\u001b[39mcopy,\n\u001b[0;32m   1113\u001b[0m     force_all_finite\u001b[38;5;241m=\u001b[39mforce_all_finite,\n\u001b[0;32m   1114\u001b[0m     ensure_2d\u001b[38;5;241m=\u001b[39mensure_2d,\n\u001b[0;32m   1115\u001b[0m     allow_nd\u001b[38;5;241m=\u001b[39mallow_nd,\n\u001b[0;32m   1116\u001b[0m     ensure_min_samples\u001b[38;5;241m=\u001b[39mensure_min_samples,\n\u001b[0;32m   1117\u001b[0m     ensure_min_features\u001b[38;5;241m=\u001b[39mensure_min_features,\n\u001b[0;32m   1118\u001b[0m     estimator\u001b[38;5;241m=\u001b[39mestimator,\n\u001b[0;32m   1119\u001b[0m     input_name\u001b[38;5;241m=\u001b[39m\u001b[38;5;124m\"\u001b[39m\u001b[38;5;124mX\u001b[39m\u001b[38;5;124m\"\u001b[39m,\n\u001b[0;32m   1120\u001b[0m )\n\u001b[0;32m   1122\u001b[0m y \u001b[38;5;241m=\u001b[39m _check_y(y, multi_output\u001b[38;5;241m=\u001b[39mmulti_output, y_numeric\u001b[38;5;241m=\u001b[39my_numeric, estimator\u001b[38;5;241m=\u001b[39mestimator)\n\u001b[0;32m   1124\u001b[0m check_consistent_length(X, y)\n",
      "File \u001b[1;32m~\\anaconda3\\Lib\\site-packages\\sklearn\\utils\\validation.py:879\u001b[0m, in \u001b[0;36mcheck_array\u001b[1;34m(array, accept_sparse, accept_large_sparse, dtype, order, copy, force_all_finite, ensure_2d, allow_nd, ensure_min_samples, ensure_min_features, estimator, input_name)\u001b[0m\n\u001b[0;32m    877\u001b[0m         array \u001b[38;5;241m=\u001b[39m xp\u001b[38;5;241m.\u001b[39mastype(array, dtype, copy\u001b[38;5;241m=\u001b[39m\u001b[38;5;28;01mFalse\u001b[39;00m)\n\u001b[0;32m    878\u001b[0m     \u001b[38;5;28;01melse\u001b[39;00m:\n\u001b[1;32m--> 879\u001b[0m         array \u001b[38;5;241m=\u001b[39m _asarray_with_order(array, order\u001b[38;5;241m=\u001b[39morder, dtype\u001b[38;5;241m=\u001b[39mdtype, xp\u001b[38;5;241m=\u001b[39mxp)\n\u001b[0;32m    880\u001b[0m \u001b[38;5;28;01mexcept\u001b[39;00m ComplexWarning \u001b[38;5;28;01mas\u001b[39;00m complex_warning:\n\u001b[0;32m    881\u001b[0m     \u001b[38;5;28;01mraise\u001b[39;00m \u001b[38;5;167;01mValueError\u001b[39;00m(\n\u001b[0;32m    882\u001b[0m         \u001b[38;5;124m\"\u001b[39m\u001b[38;5;124mComplex data not supported\u001b[39m\u001b[38;5;130;01m\\n\u001b[39;00m\u001b[38;5;132;01m{}\u001b[39;00m\u001b[38;5;130;01m\\n\u001b[39;00m\u001b[38;5;124m\"\u001b[39m\u001b[38;5;241m.\u001b[39mformat(array)\n\u001b[0;32m    883\u001b[0m     ) \u001b[38;5;28;01mfrom\u001b[39;00m \u001b[38;5;21;01mcomplex_warning\u001b[39;00m\n",
      "File \u001b[1;32m~\\anaconda3\\Lib\\site-packages\\sklearn\\utils\\_array_api.py:185\u001b[0m, in \u001b[0;36m_asarray_with_order\u001b[1;34m(array, dtype, order, copy, xp)\u001b[0m\n\u001b[0;32m    182\u001b[0m     xp, _ \u001b[38;5;241m=\u001b[39m get_namespace(array)\n\u001b[0;32m    183\u001b[0m \u001b[38;5;28;01mif\u001b[39;00m xp\u001b[38;5;241m.\u001b[39m\u001b[38;5;18m__name__\u001b[39m \u001b[38;5;129;01min\u001b[39;00m {\u001b[38;5;124m\"\u001b[39m\u001b[38;5;124mnumpy\u001b[39m\u001b[38;5;124m\"\u001b[39m, \u001b[38;5;124m\"\u001b[39m\u001b[38;5;124mnumpy.array_api\u001b[39m\u001b[38;5;124m\"\u001b[39m}:\n\u001b[0;32m    184\u001b[0m     \u001b[38;5;66;03m# Use NumPy API to support order\u001b[39;00m\n\u001b[1;32m--> 185\u001b[0m     array \u001b[38;5;241m=\u001b[39m numpy\u001b[38;5;241m.\u001b[39masarray(array, order\u001b[38;5;241m=\u001b[39morder, dtype\u001b[38;5;241m=\u001b[39mdtype)\n\u001b[0;32m    186\u001b[0m     \u001b[38;5;28;01mreturn\u001b[39;00m xp\u001b[38;5;241m.\u001b[39masarray(array, copy\u001b[38;5;241m=\u001b[39mcopy)\n\u001b[0;32m    187\u001b[0m \u001b[38;5;28;01melse\u001b[39;00m:\n",
      "\u001b[1;31mValueError\u001b[0m: could not convert string to float: 'Female'"
     ]
    }
   ],
   "source": [
    "model.fit(X_train, y_train)"
   ]
  },
  {
   "cell_type": "code",
   "execution_count": 11,
   "id": "FjZYOjjwljYO",
   "metadata": {
    "id": "FjZYOjjwljYO"
   },
   "outputs": [
    {
     "ename": "NotFittedError",
     "evalue": "This LinearRegression instance is not fitted yet. Call 'fit' with appropriate arguments before using this estimator.",
     "output_type": "error",
     "traceback": [
      "\u001b[1;31m---------------------------------------------------------------------------\u001b[0m",
      "\u001b[1;31mNotFittedError\u001b[0m                            Traceback (most recent call last)",
      "Cell \u001b[1;32mIn[11], line 1\u001b[0m\n\u001b[1;32m----> 1\u001b[0m y_pred\u001b[38;5;241m=\u001b[39mmodel\u001b[38;5;241m.\u001b[39mpredict(X_test)\n",
      "File \u001b[1;32m~\\anaconda3\\Lib\\site-packages\\sklearn\\linear_model\\_base.py:354\u001b[0m, in \u001b[0;36mLinearModel.predict\u001b[1;34m(self, X)\u001b[0m\n\u001b[0;32m    340\u001b[0m \u001b[38;5;28;01mdef\u001b[39;00m \u001b[38;5;21mpredict\u001b[39m(\u001b[38;5;28mself\u001b[39m, X):\n\u001b[0;32m    341\u001b[0m \u001b[38;5;250m    \u001b[39m\u001b[38;5;124;03m\"\"\"\u001b[39;00m\n\u001b[0;32m    342\u001b[0m \u001b[38;5;124;03m    Predict using the linear model.\u001b[39;00m\n\u001b[0;32m    343\u001b[0m \n\u001b[1;32m   (...)\u001b[0m\n\u001b[0;32m    352\u001b[0m \u001b[38;5;124;03m        Returns predicted values.\u001b[39;00m\n\u001b[0;32m    353\u001b[0m \u001b[38;5;124;03m    \"\"\"\u001b[39;00m\n\u001b[1;32m--> 354\u001b[0m     \u001b[38;5;28;01mreturn\u001b[39;00m \u001b[38;5;28mself\u001b[39m\u001b[38;5;241m.\u001b[39m_decision_function(X)\n",
      "File \u001b[1;32m~\\anaconda3\\Lib\\site-packages\\sklearn\\linear_model\\_base.py:335\u001b[0m, in \u001b[0;36mLinearModel._decision_function\u001b[1;34m(self, X)\u001b[0m\n\u001b[0;32m    334\u001b[0m \u001b[38;5;28;01mdef\u001b[39;00m \u001b[38;5;21m_decision_function\u001b[39m(\u001b[38;5;28mself\u001b[39m, X):\n\u001b[1;32m--> 335\u001b[0m     check_is_fitted(\u001b[38;5;28mself\u001b[39m)\n\u001b[0;32m    337\u001b[0m     X \u001b[38;5;241m=\u001b[39m \u001b[38;5;28mself\u001b[39m\u001b[38;5;241m.\u001b[39m_validate_data(X, accept_sparse\u001b[38;5;241m=\u001b[39m[\u001b[38;5;124m\"\u001b[39m\u001b[38;5;124mcsr\u001b[39m\u001b[38;5;124m\"\u001b[39m, \u001b[38;5;124m\"\u001b[39m\u001b[38;5;124mcsc\u001b[39m\u001b[38;5;124m\"\u001b[39m, \u001b[38;5;124m\"\u001b[39m\u001b[38;5;124mcoo\u001b[39m\u001b[38;5;124m\"\u001b[39m], reset\u001b[38;5;241m=\u001b[39m\u001b[38;5;28;01mFalse\u001b[39;00m)\n\u001b[0;32m    338\u001b[0m     \u001b[38;5;28;01mreturn\u001b[39;00m safe_sparse_dot(X, \u001b[38;5;28mself\u001b[39m\u001b[38;5;241m.\u001b[39mcoef_\u001b[38;5;241m.\u001b[39mT, dense_output\u001b[38;5;241m=\u001b[39m\u001b[38;5;28;01mTrue\u001b[39;00m) \u001b[38;5;241m+\u001b[39m \u001b[38;5;28mself\u001b[39m\u001b[38;5;241m.\u001b[39mintercept_\n",
      "File \u001b[1;32m~\\anaconda3\\Lib\\site-packages\\sklearn\\utils\\validation.py:1390\u001b[0m, in \u001b[0;36mcheck_is_fitted\u001b[1;34m(estimator, attributes, msg, all_or_any)\u001b[0m\n\u001b[0;32m   1385\u001b[0m     fitted \u001b[38;5;241m=\u001b[39m [\n\u001b[0;32m   1386\u001b[0m         v \u001b[38;5;28;01mfor\u001b[39;00m v \u001b[38;5;129;01min\u001b[39;00m \u001b[38;5;28mvars\u001b[39m(estimator) \u001b[38;5;28;01mif\u001b[39;00m v\u001b[38;5;241m.\u001b[39mendswith(\u001b[38;5;124m\"\u001b[39m\u001b[38;5;124m_\u001b[39m\u001b[38;5;124m\"\u001b[39m) \u001b[38;5;129;01mand\u001b[39;00m \u001b[38;5;129;01mnot\u001b[39;00m v\u001b[38;5;241m.\u001b[39mstartswith(\u001b[38;5;124m\"\u001b[39m\u001b[38;5;124m__\u001b[39m\u001b[38;5;124m\"\u001b[39m)\n\u001b[0;32m   1387\u001b[0m     ]\n\u001b[0;32m   1389\u001b[0m \u001b[38;5;28;01mif\u001b[39;00m \u001b[38;5;129;01mnot\u001b[39;00m fitted:\n\u001b[1;32m-> 1390\u001b[0m     \u001b[38;5;28;01mraise\u001b[39;00m NotFittedError(msg \u001b[38;5;241m%\u001b[39m {\u001b[38;5;124m\"\u001b[39m\u001b[38;5;124mname\u001b[39m\u001b[38;5;124m\"\u001b[39m: \u001b[38;5;28mtype\u001b[39m(estimator)\u001b[38;5;241m.\u001b[39m\u001b[38;5;18m__name__\u001b[39m})\n",
      "\u001b[1;31mNotFittedError\u001b[0m: This LinearRegression instance is not fitted yet. Call 'fit' with appropriate arguments before using this estimator."
     ]
    }
   ],
   "source": [
    "y_pred=model.predict(X_test)"
   ]
  },
  {
   "cell_type": "code",
   "execution_count": null,
   "id": "FWKN7gbfl0TC",
   "metadata": {
    "id": "FWKN7gbfl0TC"
   },
   "outputs": [],
   "source": [
    "#accuracy = accuracy_score(y_test, y_pred)\n",
    "#conf_matrix = confusion_matrix(y_test, y_pred)\n",
    "#class_report = classification_report(y_test, y_pred)"
   ]
  },
  {
   "cell_type": "code",
   "execution_count": null,
   "id": "hiEo6ZfSl3eV",
   "metadata": {
    "colab": {
     "base_uri": "https://localhost:8080/"
    },
    "executionInfo": {
     "elapsed": 782,
     "status": "ok",
     "timestamp": 1721391163322,
     "user": {
      "displayName": "Selina Atwani Ochukut",
      "userId": "02295218241410605702"
     },
     "user_tz": -180
    },
    "id": "hiEo6ZfSl3eV",
    "outputId": "603e3cef-7a45-4c88-b296-163afb8fc803"
   },
   "outputs": [
    {
     "name": "stdout",
     "output_type": "stream",
     "text": [
      "0.5584415584415584\n",
      "<function confusion_matrix at 0x7b225f4963b0>\n",
      "              precision    recall  f1-score   support\n",
      "\n",
      "           0       0.58      0.55      0.56       119\n",
      "           1       0.54      0.57      0.56       112\n",
      "\n",
      "    accuracy                           0.56       231\n",
      "   macro avg       0.56      0.56      0.56       231\n",
      "weighted avg       0.56      0.56      0.56       231\n",
      "\n"
     ]
    }
   ],
   "source": [
    "print(accuracy)\n",
    "print(confusion_matrix)\n",
    "print(class_report)"
   ]
  },
  {
   "cell_type": "markdown",
   "id": "CpV29M7NmOeR",
   "metadata": {
    "id": "CpV29M7NmOeR"
   },
   "source": [
    "Once we trained our model and we are satisfied with the output, we will save our model using joblib"
   ]
  },
  {
   "cell_type": "code",
   "execution_count": null,
   "id": "4wMlZeiG8D_1",
   "metadata": {
    "colab": {
     "base_uri": "https://localhost:8080/"
    },
    "executionInfo": {
     "elapsed": 719,
     "status": "ok",
     "timestamp": 1721392251176,
     "user": {
      "displayName": "Selina Atwani Ochukut",
      "userId": "02295218241410605702"
     },
     "user_tz": -180
    },
    "id": "4wMlZeiG8D_1",
    "outputId": "9fd36936-6fe3-47f1-a397-beacceb9725f"
   },
   "outputs": [
    {
     "data": {
      "text/plain": [
       "array([16.88260421])"
      ]
     },
     "execution_count": 42,
     "metadata": {},
     "output_type": "execute_result"
    }
   ],
   "source": [
    "model.predict([[20,1,1,4]])"
   ]
  },
  {
   "cell_type": "code",
   "execution_count": null,
   "id": "fJQ-6sGGmNel",
   "metadata": {
    "colab": {
     "base_uri": "https://localhost:8080/"
    },
    "executionInfo": {
     "elapsed": 1245,
     "status": "ok",
     "timestamp": 1721392289763,
     "user": {
      "displayName": "Selina Atwani Ochukut",
      "userId": "02295218241410605702"
     },
     "user_tz": -180
    },
    "id": "fJQ-6sGGmNel",
    "outputId": "1f668fa9-44ee-4a67-db64-9281fc7e53da"
   },
   "outputs": [
    {
     "data": {
      "text/plain": [
       "['/content/drive/MyDrive/Engage Data science Materials/Module 3/Revised materials Machine learning/Datasets/linear_regression_model.joblib']"
      ]
     },
     "execution_count": 44,
     "metadata": {},
     "output_type": "execute_result"
    }
   ],
   "source": [
    "import joblib\n",
    "joblib_file = \"/content/drive/MyDrive/Engage Data science Materials/Module 3/Revised materials Machine learning/Datasets/linear_regression_model.joblib\"\n",
    "joblib.dump(model, joblib_file)"
   ]
  },
  {
   "cell_type": "markdown",
   "id": "XJX4F4yOzehy",
   "metadata": {
    "id": "XJX4F4yOzehy"
   },
   "source": [
    "Once the model is saved we can now create a simple app which we can use to serve our model. We can create the app using streamlit as follows"
   ]
  },
  {
   "cell_type": "code",
   "execution_count": null,
   "id": "owblEEVp_Adr",
   "metadata": {
    "id": "owblEEVp_Adr"
   },
   "outputs": [],
   "source": [
    "#Importing the necessary libraries\n",
    "import streamlit as st\n",
    "import joblib\n",
    "import numpy as np\n",
    "#Loading your saved model. Be sure to change the path\n",
    "model = joblib.load('C:/Users/User/Dropbox/Engage revised materials/model/weigth_model.pkl')\n",
    "st.title('Child weight pediction app')\n",
    "st.write(\"This app predicts a child's weight based on a childs age.\")\n",
    "age = st.number_input('Age', min_value=0.0, max_value=100.0, value=6.0)\n",
    "if st.button('Predict'):\n",
    "    input_features = np.array([[age]])\n",
    "    prediction = model.predict(input_features)\n",
    "    st.write(f'Predicted weight: {[prediction][0]}')"
   ]
  },
  {
   "cell_type": "markdown",
   "id": "E3mRzwWQ3XD8",
   "metadata": {
    "id": "E3mRzwWQ3XD8"
   },
   "source": [
    "<h3> TASK </h2>\n",
    "\n",
    "Save the model you created in classfication session and deploy it"
   ]
  },
  {
   "cell_type": "markdown",
   "id": "glV1unrnzac3",
   "metadata": {
    "id": "glV1unrnzac3"
   },
   "source": []
  },
  {
   "cell_type": "code",
   "execution_count": null,
   "id": "sVyQYhQVfMPC",
   "metadata": {
    "colab": {
     "base_uri": "https://localhost:8080/"
    },
    "executionInfo": {
     "elapsed": 30140,
     "status": "ok",
     "timestamp": 1721391019580,
     "user": {
      "displayName": "Selina Atwani Ochukut",
      "userId": "02295218241410605702"
     },
     "user_tz": -180
    },
    "id": "sVyQYhQVfMPC",
    "outputId": "d3c03f4b-fcf4-4f01-9585-0dc3a19b5a3c"
   },
   "outputs": [
    {
     "name": "stdout",
     "output_type": "stream",
     "text": [
      "Mounted at /content/drive\n"
     ]
    }
   ],
   "source": [
    "from google.colab import drive\n",
    "drive.mount('/content/drive')"
   ]
  },
  {
   "cell_type": "markdown",
   "id": "j_aP_q5HE0kO",
   "metadata": {
    "id": "j_aP_q5HE0kO"
   },
   "source": []
  }
 ],
 "metadata": {
  "colab": {
   "provenance": [
    {
     "file_id": "1XquLFOgFA2mnKNfDUuu2oRRE6cIZn6jK",
     "timestamp": 1719816120889
    }
   ]
  },
  "kernelspec": {
   "display_name": "Python 3 (ipykernel)",
   "language": "python",
   "name": "python3"
  },
  "language_info": {
   "codemirror_mode": {
    "name": "ipython",
    "version": 3
   },
   "file_extension": ".py",
   "mimetype": "text/x-python",
   "name": "python",
   "nbconvert_exporter": "python",
   "pygments_lexer": "ipython3",
   "version": "3.11.7"
  }
 },
 "nbformat": 4,
 "nbformat_minor": 5
}
